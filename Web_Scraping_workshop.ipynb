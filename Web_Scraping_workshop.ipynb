{
  "nbformat": 4,
  "nbformat_minor": 0,
  "metadata": {
    "colab": {
      "provenance": [],
      "include_colab_link": true
    },
    "kernelspec": {
      "name": "python3",
      "display_name": "Python 3"
    },
    "language_info": {
      "name": "python"
    }
  },
  "cells": [
    {
      "cell_type": "markdown",
      "metadata": {
        "id": "view-in-github",
        "colab_type": "text"
      },
      "source": [
        "<a href=\"https://colab.research.google.com/github/JustKeepPlay/PyProject/blob/main/Web_Scraping_workshop.ipynb\" target=\"_parent\"><img src=\"https://colab.research.google.com/assets/colab-badge.svg\" alt=\"Open In Colab\"/></a>"
      ]
    },
    {
      "cell_type": "code",
      "metadata": {
        "colab": {
          "base_uri": "https://localhost:8080/"
        },
        "id": "EI0uu8Qr5Q0X",
        "outputId": "c62cb726-8207-4583-b227-485922e43552"
      },
      "source": [
        "pip install bs4"
      ],
      "execution_count": null,
      "outputs": [
        {
          "output_type": "stream",
          "name": "stdout",
          "text": [
            "Looking in indexes: https://pypi.org/simple, https://us-python.pkg.dev/colab-wheels/public/simple/\n",
            "Requirement already satisfied: bs4 in /usr/local/lib/python3.7/dist-packages (0.0.1)\n",
            "Requirement already satisfied: beautifulsoup4 in /usr/local/lib/python3.7/dist-packages (from bs4) (4.6.3)\n"
          ]
        }
      ]
    },
    {
      "cell_type": "code",
      "metadata": {
        "colab": {
          "base_uri": "https://localhost:8080/"
        },
        "id": "v2R0GOOH5bzo",
        "outputId": "d8e07e08-7b3a-432f-e90d-8425bf1a1233"
      },
      "source": [
        "pip install requests"
      ],
      "execution_count": null,
      "outputs": [
        {
          "output_type": "stream",
          "name": "stdout",
          "text": [
            "Looking in indexes: https://pypi.org/simple, https://us-python.pkg.dev/colab-wheels/public/simple/\n",
            "Requirement already satisfied: requests in /usr/local/lib/python3.7/dist-packages (2.23.0)\n",
            "Requirement already satisfied: urllib3!=1.25.0,!=1.25.1,<1.26,>=1.21.1 in /usr/local/lib/python3.7/dist-packages (from requests) (1.24.3)\n",
            "Requirement already satisfied: chardet<4,>=3.0.2 in /usr/local/lib/python3.7/dist-packages (from requests) (3.0.4)\n",
            "Requirement already satisfied: idna<3,>=2.5 in /usr/local/lib/python3.7/dist-packages (from requests) (2.10)\n",
            "Requirement already satisfied: certifi>=2017.4.17 in /usr/local/lib/python3.7/dist-packages (from requests) (2022.6.15)\n"
          ]
        }
      ]
    },
    {
      "cell_type": "code",
      "metadata": {
        "colab": {
          "base_uri": "https://localhost:8080/"
        },
        "id": "viygYCoC5eFm",
        "outputId": "23b98a0a-b07c-4339-eff1-4b9f71160b73"
      },
      "source": [
        "pip install pandas\n"
      ],
      "execution_count": null,
      "outputs": [
        {
          "output_type": "stream",
          "name": "stdout",
          "text": [
            "Looking in indexes: https://pypi.org/simple, https://us-python.pkg.dev/colab-wheels/public/simple/\n",
            "Requirement already satisfied: pandas in /usr/local/lib/python3.7/dist-packages (1.3.5)\n",
            "Requirement already satisfied: python-dateutil>=2.7.3 in /usr/local/lib/python3.7/dist-packages (from pandas) (2.8.2)\n",
            "Requirement already satisfied: numpy>=1.17.3 in /usr/local/lib/python3.7/dist-packages (from pandas) (1.21.6)\n",
            "Requirement already satisfied: pytz>=2017.3 in /usr/local/lib/python3.7/dist-packages (from pandas) (2022.2.1)\n",
            "Requirement already satisfied: six>=1.5 in /usr/local/lib/python3.7/dist-packages (from python-dateutil>=2.7.3->pandas) (1.15.0)\n"
          ]
        }
      ]
    },
    {
      "cell_type": "markdown",
      "source": [
        "#openpyxl is a Python library to read/write Excel 2010 xlsx/xlsm/xltx/xltm files. It was born from lack of existing library to read/write natively from Python"
      ],
      "metadata": {
        "id": "1Q-gfTvFqhsN"
      }
    },
    {
      "cell_type": "code",
      "source": [
        "pip install openpyxl"
      ],
      "metadata": {
        "colab": {
          "base_uri": "https://localhost:8080/"
        },
        "id": "BmqSZizfqcsJ",
        "outputId": "fb77d83c-f845-48a2-8b94-ebd7dddd14b9"
      },
      "execution_count": null,
      "outputs": [
        {
          "output_type": "stream",
          "name": "stdout",
          "text": [
            "Looking in indexes: https://pypi.org/simple, https://us-python.pkg.dev/colab-wheels/public/simple/\n",
            "Requirement already satisfied: openpyxl in /usr/local/lib/python3.7/dist-packages (3.0.10)\n",
            "Requirement already satisfied: et-xmlfile in /usr/local/lib/python3.7/dist-packages (from openpyxl) (1.1.0)\n"
          ]
        }
      ]
    },
    {
      "cell_type": "code",
      "metadata": {
        "id": "dxdGzh3b5jwB"
      },
      "source": [
        "import pandas as pd\n",
        "import bs4\n",
        "import requests\n",
        "import openpyxl"
      ],
      "execution_count": null,
      "outputs": []
    },
    {
      "cell_type": "code",
      "metadata": {
        "colab": {
          "base_uri": "https://localhost:8080/"
        },
        "id": "0WAVXlcK5tkI",
        "outputId": "32281944-ec3b-44fd-c905-eb529a46d866"
      },
      "source": [
        "page = 1\n",
        "name_list = []\n",
        "price_list = []\n",
        "while page <= 10:\n",
        "  data = requests.get('https://www.checkraka.com/car/?quicksearch_order=update%2CDESC&page=' + str(page))\n",
        "  soup = bs4.BeautifulSoup(data.text)\n",
        "  for c in soup.find_all('div',{'class':'content c158'}):\n",
        "    name_list.append(c.find('div',{'class':'data'}).find('a').text)\n",
        "    p = c.find('div',{'class':'price'}).text.split()[0].replace(',','')\n",
        "    if p == 'call':\n",
        "      price_list.append(p)\n",
        "    else:\n",
        "      price_list.append(int(p))\n",
        "  print('Complete page number: ',page)\n",
        "  page += 1\n",
        "table = pd.DataFrame([name_list,price_list]).transpose()\n",
        "table.columns = ['name','price']\n",
        "table.set_index('name')\n",
        "table.to_excel('All Cars.xlsx',engine='openpyxl') #file is created on google colab cloud"
      ],
      "execution_count": null,
      "outputs": [
        {
          "output_type": "stream",
          "name": "stdout",
          "text": [
            "Complete page number:  1\n",
            "Complete page number:  2\n",
            "Complete page number:  3\n",
            "Complete page number:  4\n",
            "Complete page number:  5\n",
            "Complete page number:  6\n",
            "Complete page number:  7\n",
            "Complete page number:  8\n",
            "Complete page number:  9\n",
            "Complete page number:  10\n"
          ]
        }
      ]
    }
  ]
}