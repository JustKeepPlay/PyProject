{
 "cells": [
  {
   "cell_type": "code",
   "execution_count": null,
   "id": "d2d433d9",
   "metadata": {},
   "outputs": [],
   "source": [
    "print(\"Heello It's me Mario !\")\n",
    "\n",
    "print (\"Test merge \")"
   ]
  },
  {
   "cell_type": "code",
   "execution_count": 3,
   "id": "f480843a",
   "metadata": {},
   "outputs": [
    {
     "name": "stdout",
     "output_type": "stream",
     "text": [
      "<class 'int'>\n",
      "<class 'float'>\n",
      "<class 'complex'>\n"
     ]
    }
   ],
   "source": [
    "a=10\n",
    "b=10.0\n",
    "c=5+2j\n",
    "print(type(a))\n",
    "print(type(b))\n",
    "print(type(c))"
   ]
  },
  {
   "cell_type": "code",
   "execution_count": 6,
   "id": "59fa0950",
   "metadata": {},
   "outputs": [
    {
     "name": "stdout",
     "output_type": "stream",
     "text": [
      "['apple', 'grape', 'orenge', 'mango']\n",
      "[100, 200, 300, 400, 500]\n"
     ]
    }
   ],
   "source": [
    "fruit =[\"apple\",\"grape\",\"orenge\",\"mango\"] #LIST\n",
    "price = [100,200,300,400,500]\n",
    "print(fruit)\n",
    "print(price)"
   ]
  },
  {
   "cell_type": "code",
   "execution_count": 15,
   "id": "f6843b73",
   "metadata": {},
   "outputs": [
    {
     "name": "stdout",
     "output_type": "stream",
     "text": [
      "4\n",
      "5\n",
      "['grape', 'orenge']\n",
      "['apple', 'grape']\n",
      "['orenge', 'mango']\n"
     ]
    }
   ],
   "source": [
    "print(len(fruit))\n",
    "print(len(price))\n",
    "\n",
    "print(fruit[1:3])\n",
    "print(fruit[:-2])\n",
    "print(fruit[-2:])"
   ]
  },
  {
   "cell_type": "code",
   "execution_count": 21,
   "id": "3deff902",
   "metadata": {
    "scrolled": true
   },
   "outputs": [
    {
     "name": "stdout",
     "output_type": "stream",
     "text": [
      "['apple', 'grape', 'orenge', 'mango', 'banana']\n"
     ]
    }
   ],
   "source": [
    "fruit =[\"apple\",\"grape\",\"orenge\",\"mango\"]#add list\n",
    "fruit.append(\"banana\")\n",
    "print(fruit)"
   ]
  },
  {
   "cell_type": "code",
   "execution_count": 23,
   "id": "9f31a35c",
   "metadata": {},
   "outputs": [
    {
     "name": "stdout",
     "output_type": "stream",
     "text": [
      "['apple', 'grape', 'orenge', 'kiwi', 'mango', 'banana']\n"
     ]
    }
   ],
   "source": [
    "fruit =[\"apple\",\"grape\",\"orenge\",\"mango\"]#add list\n",
    "fruit.append(\"banana\")\n",
    "fruit.insert(3,\"kiwi\")\n",
    "print(fruit)"
   ]
  },
  {
   "cell_type": "code",
   "execution_count": 26,
   "id": "b2257ad9",
   "metadata": {},
   "outputs": [
    {
     "name": "stdout",
     "output_type": "stream",
     "text": [
      "3\n"
     ]
    }
   ],
   "source": [
    "print(fruit.index(\"kiwi\"))"
   ]
  },
  {
   "cell_type": "code",
   "execution_count": 28,
   "id": "8cc8ee43",
   "metadata": {},
   "outputs": [
    {
     "name": "stdout",
     "output_type": "stream",
     "text": [
      "['apple', 'orenge', 'mango']\n",
      "['green', 'blue', 'yellow']\n"
     ]
    }
   ],
   "source": [
    "fruit =[\"apple\",\"grape\",\"orenge\",\"mango\"]#remove list\n",
    "fruit.remove(\"grape\")\n",
    "print(fruit)\n",
    "color = [\"green\",\"blue\",\"red\",\"yellow\"]\n",
    "del color[2]\n",
    "print(color)"
   ]
  },
  {
   "cell_type": "code",
   "execution_count": 29,
   "id": "d2f06b1d",
   "metadata": {},
   "outputs": [
    {
     "name": "stdout",
     "output_type": "stream",
     "text": [
      "7\n"
     ]
    }
   ],
   "source": [
    "week = {\"Monday\",\"Tuesday\",\"Wednesday\",\"Thursday\",\"Friday\",\"Saturnday\",\"Sunday\"} #This is Set\n",
    "print(len(week))"
   ]
  },
  {
   "cell_type": "code",
   "execution_count": 30,
   "id": "812ccdbc",
   "metadata": {},
   "outputs": [
    {
     "name": "stdout",
     "output_type": "stream",
     "text": [
      "True\n",
      "False\n"
     ]
    }
   ],
   "source": [
    "print(\"Monday\" in week) #check existance\n",
    "print(\"monday\" in week)"
   ]
  },
  {
   "cell_type": "code",
   "execution_count": 31,
   "id": "d70ad545",
   "metadata": {},
   "outputs": [
    {
     "name": "stdout",
     "output_type": "stream",
     "text": [
      "{'blueberry', 'strawberry', 'caramel', 'chocolate', 'mocca', 'mint'}\n",
      "{'blueberry', 'strawberry', 'caramel', 'choco chip', 'cookie and cream', 'chocolate', 'mocca', 'mint'}\n"
     ]
    }
   ],
   "source": [
    "flavour = {\"chocolate\",\"strawberry\",\"mint\",\"blueberry\",\"mocca\"}#add to set\n",
    "flavour.add(\"caramel\")\n",
    "print(flavour)\n",
    "flavour.update([\"cookie and cream\",\"choco chip\"])\n",
    "print(flavour)"
   ]
  },
  {
   "cell_type": "code",
   "execution_count": 35,
   "id": "164a836d",
   "metadata": {},
   "outputs": [
    {
     "name": "stdout",
     "output_type": "stream",
     "text": [
      "{'blueberry', 'strawberry', 'caramel', 'choco chip', 'chocolate', 'mocca', 'mint'}\n"
     ]
    }
   ],
   "source": [
    "#It won't show any error\n",
    "flavour.discard(\"balloon\") #ignore existant of  \"balloon\"\n",
    "#It'll show an error if use\n",
    "#flavour.remove(\"balloon\")  cuz \"balloon\" doesn't exist\n",
    "\n",
    "flavour.remove(\"cookie and cream\")\n",
    "print(flavour)"
   ]
  },
  {
   "cell_type": "code",
   "execution_count": 41,
   "id": "f9b869ea",
   "metadata": {},
   "outputs": [
    {
     "name": "stdout",
     "output_type": "stream",
     "text": [
      "4\n"
     ]
    }
   ],
   "source": [
    "#Dictionary\n",
    "test_dict = {\n",
    "    \"A\":\"N O I C E\",\n",
    "    \"B\":\"good\",\n",
    "    \"C\":\"meh\",\n",
    "    \"D\":\"nah\"\n",
    "}\n",
    "print(len(test_dict))"
   ]
  },
  {
   "cell_type": "code",
   "execution_count": 45,
   "id": "d63262f6",
   "metadata": {
    "scrolled": true
   },
   "outputs": [
    {
     "name": "stdout",
     "output_type": "stream",
     "text": [
      "N O I C E\n",
      "meh\n"
     ]
    }
   ],
   "source": [
    "print(test_dict[\"A\"]) #search in dictionary\n",
    "print(test_dict.get(\"C\"))"
   ]
  },
  {
   "cell_type": "code",
   "execution_count": null,
   "id": "1c39f6ba",
   "metadata": {},
   "outputs": [],
   "source": [
    "#edit data in dict\n",
    "test_dict[\"D\"]=\"big N O\"\n",
    "#add data in dict\n",
    "test_dict[\"F\"]=\"N O O B\"\n",
    "#remove data in dict\n",
    "test_dict.pop(\"F\")\n",
    "del test_dict[\"D\"]"
   ]
  },
  {
   "cell_type": "code",
   "execution_count": 46,
   "id": "6b486715",
   "metadata": {},
   "outputs": [
    {
     "name": "stdout",
     "output_type": "stream",
     "text": [
      "2\n",
      "4\n",
      "6\n",
      "8\n",
      "10\n",
      "End process\n"
     ]
    }
   ],
   "source": [
    "i=0\n",
    "while i<10 : \n",
    "    i+=2\n",
    "    print(i)\n",
    "else : print(\"End process\")"
   ]
  },
  {
   "cell_type": "code",
   "execution_count": 47,
   "id": "faaf9f56",
   "metadata": {},
   "outputs": [
    {
     "name": "stdout",
     "output_type": "stream",
     "text": [
      "15\n"
     ]
    }
   ],
   "source": [
    "x=(1,2,3,4,5)\n",
    "print(sum(x))"
   ]
  },
  {
   "cell_type": "code",
   "execution_count": 49,
   "id": "525dc7d9",
   "metadata": {},
   "outputs": [
    {
     "name": "stdout",
     "output_type": "stream",
     "text": [
      "135\n"
     ]
    }
   ],
   "source": [
    "t=[8,34,5,6,67,7,3,5]\n",
    "\n",
    "print(sum(t))"
   ]
  },
  {
   "cell_type": "code",
   "execution_count": null,
   "id": "5c499288",
   "metadata": {},
   "outputs": [],
   "source": []
  }
 ],
 "metadata": {
  "kernelspec": {
   "display_name": "Python 3",
   "language": "python",
   "name": "python3"
  },
  "language_info": {
   "codemirror_mode": {
    "name": "ipython",
    "version": 3
   },
   "file_extension": ".py",
   "mimetype": "text/x-python",
   "name": "python",
   "nbconvert_exporter": "python",
   "pygments_lexer": "ipython3",
   "version": "3.8.8"
  }
 },
 "nbformat": 4,
 "nbformat_minor": 5
}
