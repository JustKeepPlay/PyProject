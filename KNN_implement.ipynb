{
  "nbformat": 4,
  "nbformat_minor": 0,
  "metadata": {
    "colab": {
      "provenance": [],
      "authorship_tag": "ABX9TyPTH/UvD3Q7nWdVVCV8DBOE",
      "include_colab_link": true
    },
    "kernelspec": {
      "name": "python3",
      "display_name": "Python 3"
    },
    "language_info": {
      "name": "python"
    }
  },
  "cells": [
    {
      "cell_type": "markdown",
      "metadata": {
        "id": "view-in-github",
        "colab_type": "text"
      },
      "source": [
        "<a href=\"https://colab.research.google.com/github/JustKeepPlay/PyProject/blob/main/KNN_implement.ipynb\" target=\"_parent\"><img src=\"https://colab.research.google.com/assets/colab-badge.svg\" alt=\"Open In Colab\"/></a>"
      ]
    },
    {
      "cell_type": "markdown",
      "source": [
        "#K Nearest Neighbor algorithm"
      ],
      "metadata": {
        "id": "y-y5bC8ZlZ4G"
      }
    },
    {
      "cell_type": "code",
      "execution_count": null,
      "metadata": {
        "id": "75vJH0-kk8uu"
      },
      "outputs": [],
      "source": [
        "import numpy as np\n",
        "from collections import Counter\n",
        "\n",
        "# distances calculate Fx\n",
        "def euclidean_distance(x1, x2):\n",
        "    return np.sqrt(np.sum((x1-x2)**2))\n",
        "\n",
        "class KNN :\n",
        "    def __init__(self,k=3):\n",
        "        self.k=k\n",
        "\n",
        "    def fit(self,X,y):\n",
        "        self.X_train = X\n",
        "        self.y_train = y\n",
        "\n",
        "    def predict(self,X):\n",
        "        predicted_label = [self._predict(x) for x in X]\n",
        "        return np.array(predicted_label)\n",
        "\n",
        "    def _predict(self,x):\n",
        "        #compute distances\n",
        "        distances = [euclidean_distance(x,x_train) for x_train in self.X_train]\n",
        "        #get KNN sample , labels\n",
        "        k_indices = np.argsort(distances)[:self.k]\n",
        "        k_nearest_labels = [self.y_train[i] for i in k_indices]\n",
        "        #majority vote , most common\n",
        "        most_common = Counter(k_nearest_labels).most_common(1)\n",
        "        return most_common[0][0]"
      ]
    },
    {
      "cell_type": "markdown",
      "source": [
        "#Iris Train&Test"
      ],
      "metadata": {
        "id": "LWjXZPDwlLst"
      }
    },
    {
      "cell_type": "code",
      "source": [
        "a=[1,1,4,5,6,7,9,2,2,2]\n",
        "from collections import Counter\n",
        "most_common = Counter(a).most_common(1)\n",
        "print(most_common[0][0])"
      ],
      "metadata": {
        "colab": {
          "base_uri": "https://localhost:8080/"
        },
        "id": "gD1qBNXhop7F",
        "outputId": "6fef97e2-71d8-4a37-cc1f-410b521f9319"
      },
      "execution_count": null,
      "outputs": [
        {
          "output_type": "stream",
          "name": "stdout",
          "text": [
            "2\n"
          ]
        }
      ]
    },
    {
      "cell_type": "code",
      "source": [
        "import numpy as np\n",
        "from sklearn import datasets\n",
        "from sklearn.model_selection import train_test_split\n",
        "import matplotlib.pyplot as plt\n",
        "\n",
        "iris = datasets.load_iris()\n",
        "X,y = iris.data , iris.target\n",
        "X_train, X_test, y_train, y_test = train_test_split(X, y, test_size=0.2 , random_state=42)"
      ],
      "metadata": {
        "id": "16MsXsqQlEWY"
      },
      "execution_count": null,
      "outputs": []
    },
    {
      "cell_type": "code",
      "source": [
        "print(y_train)"
      ],
      "metadata": {
        "colab": {
          "base_uri": "https://localhost:8080/"
        },
        "id": "ty7qnGYQm49o",
        "outputId": "fb9f50d0-18f6-4ed7-d8b7-00248b60a0ae"
      },
      "execution_count": null,
      "outputs": [
        {
          "output_type": "stream",
          "name": "stdout",
          "text": [
            "[0 0 1 0 0 2 1 0 0 0 2 1 1 0 0 1 2 2 1 2 1 2 1 0 2 1 0 0 0 1 2 0 0 0 1 0 1\n",
            " 2 0 1 2 0 2 2 1 1 2 1 0 1 2 0 0 1 1 0 2 0 0 1 1 2 1 2 2 1 0 0 2 2 0 0 0 1\n",
            " 2 0 2 2 0 1 1 2 1 2 0 2 1 2 1 1 1 0 1 1 0 1 2 2 0 1 2 2 0 2 0 1 2 2 1 2 1\n",
            " 1 2 2 0 1 2 0 1 2]\n"
          ]
        }
      ]
    },
    {
      "cell_type": "code",
      "source": [
        "clf = KNN(k=75)\n",
        "clf.fit(X_train,y_train)\n",
        "predictions = clf.predict(X_test)\n",
        "\n",
        "acc = np.sum(predictions==y_test)/len(y_test)\n",
        "print(acc)"
      ],
      "metadata": {
        "colab": {
          "base_uri": "https://localhost:8080/"
        },
        "id": "X9MFRo--lKSb",
        "outputId": "47ec3693-dcf0-4052-ca80-71301e824152"
      },
      "execution_count": null,
      "outputs": [
        {
          "output_type": "stream",
          "name": "stdout",
          "text": [
            "0.9333333333333333\n"
          ]
        }
      ]
    },
    {
      "cell_type": "code",
      "source": [
        "A = [i for i in range(10) if i%2==1]\n",
        "print(A)"
      ],
      "metadata": {
        "id": "8mBb5wn6mH7H",
        "colab": {
          "base_uri": "https://localhost:8080/"
        },
        "outputId": "583d69c3-cfd7-45b2-ae9b-d92ab830a9a4"
      },
      "execution_count": null,
      "outputs": [
        {
          "output_type": "stream",
          "name": "stdout",
          "text": [
            "[1, 3, 5, 7, 9]\n"
          ]
        }
      ]
    },
    {
      "cell_type": "code",
      "source": [],
      "metadata": {
        "id": "zdfQiQhByhQL"
      },
      "execution_count": null,
      "outputs": []
    }
  ]
}