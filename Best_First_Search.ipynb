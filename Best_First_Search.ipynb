{
  "nbformat": 4,
  "nbformat_minor": 0,
  "metadata": {
    "colab": {
      "provenance": [],
      "authorship_tag": "ABX9TyOsOphqol2ygcj5MLE/PPoX",
      "include_colab_link": true
    },
    "kernelspec": {
      "name": "python3",
      "display_name": "Python 3"
    },
    "language_info": {
      "name": "python"
    }
  },
  "cells": [
    {
      "cell_type": "markdown",
      "metadata": {
        "id": "view-in-github",
        "colab_type": "text"
      },
      "source": [
        "<a href=\"https://colab.research.google.com/github/JustKeepPlay/PyProject/blob/main/Best_First_Search.ipynb\" target=\"_parent\"><img src=\"https://colab.research.google.com/assets/colab-badge.svg\" alt=\"Open In Colab\"/></a>"
      ]
    },
    {
      "cell_type": "markdown",
      "source": [
        "#Graph"
      ],
      "metadata": {
        "id": "6OakckodcvKo"
      }
    },
    {
      "cell_type": "code",
      "source": [
        "graph = {\n",
        "    '0':['1'],\n",
        "    '1':['0','2'],\n",
        "    '2':['1','3'],\n",
        "    '3':['4'],\n",
        "    '4':['3'],\n",
        "    '5':[],\n",
        "    '6':['7','8'],\n",
        "    '7':['6'],\n",
        "    '8':['6']\n",
        "}\n"
      ],
      "metadata": {
        "id": "LZSpzPVTddNz"
      },
      "execution_count": null,
      "outputs": []
    },
    {
      "cell_type": "code",
      "source": [
        "visited=[]\n",
        "queue=[]"
      ],
      "metadata": {
        "id": "S5ss6tnWax_g"
      },
      "execution_count": null,
      "outputs": []
    },
    {
      "cell_type": "code",
      "source": [
        "for k,v in graph.items():\n",
        "  print(k,v)"
      ],
      "metadata": {
        "colab": {
          "base_uri": "https://localhost:8080/"
        },
        "id": "WkCIKi58ffSe",
        "outputId": "bdd02568-adca-4b33-df4f-bb05ee011c66"
      },
      "execution_count": null,
      "outputs": [
        {
          "output_type": "stream",
          "name": "stdout",
          "text": [
            "0 ['1']\n"
          ]
        }
      ]
    },
    {
      "cell_type": "code",
      "source": [
        "def BFS(visited,graph,start,end) :\n",
        "  visited.append(start)\n",
        "  queue.append(start)\n",
        "\n",
        "  while queue :\n",
        "    s=queue.pop(0)\n",
        "    #print(s,end=' ')\n",
        "\n",
        "    for neighbour in graph[s]:\n",
        "      if neighbour not in visited :\n",
        "        visited.append(neighbour)\n",
        "        queue.append(neighbour)\n",
        "        if neighbour == end :\n",
        "          return neighbour\n",
        "\n",
        "#BFS(visited,graph,'0')\n",
        "\n",
        "\n"
      ],
      "metadata": {
        "id": "rrlFhBSpaitZ"
      },
      "execution_count": null,
      "outputs": []
    },
    {
      "cell_type": "code",
      "source": [
        "x=input(\"Input initial node : \")\n",
        "y=input(\"Input final node : \")\n",
        "print(BFS(visited,graph,x,y))"
      ],
      "metadata": {
        "colab": {
          "base_uri": "https://localhost:8080/"
        },
        "id": "m58likaFcTLU",
        "outputId": "4e42bbc4-7b67-4d72-a6a8-13263ec6206e"
      },
      "execution_count": null,
      "outputs": [
        {
          "output_type": "stream",
          "name": "stdout",
          "text": [
            "Input initial node : 7\n",
            "Input final node : 8\n",
            "7 None\n"
          ]
        }
      ]
    },
    {
      "cell_type": "code",
      "source": [
        "tree = {\n",
        "    'A':['B','D'],\n",
        "    'B':['F'],\n",
        "    'D':['C','E'],\n",
        "    'C':[],\n",
        "    'E':['F'],\n",
        "    'F':['E']\n",
        "}\n",
        "visited=[]\n",
        "queue=[]"
      ],
      "metadata": {
        "id": "-F1TQ0XDd5Ux"
      },
      "execution_count": null,
      "outputs": []
    },
    {
      "cell_type": "code",
      "source": [
        "tree = {\n",
        "    'A':['B','D'],\n",
        "    'B':['F'],\n",
        "    'D':['C','E'],\n",
        "    'C':[],\n",
        "    'E':['F'],\n",
        "    'F':['E']\n",
        "}\n",
        "visited=[]\n",
        "queue=[]\n",
        "def bfs(visited, tree , initial, final):\n",
        "\n",
        "  visited.append(initial)\n",
        "  queue.append(initial)\n",
        "\n",
        "  while queue:\n",
        "    s = queue.pop(0)\n",
        "    for neighbour in tree[s]:\n",
        "      if neighbour not in visited:\n",
        "        visited.append(neighbour)\n",
        "        queue.append(neighbour)\n",
        "        if final == neighbour :\n",
        "          print(\"I found node \",final)\n",
        "          print(\"The level of final node : \",len(visited))\n",
        "          return visited\n"
      ],
      "metadata": {
        "id": "Sz7r1t1Ul38Q"
      },
      "execution_count": null,
      "outputs": []
    },
    {
      "cell_type": "code",
      "source": [
        "initial = input(\"Input initial Node :\")\n",
        "final = input(\"Input Final Node :\")\n",
        "x=bfs(visited, tree ,initial, final)\n",
        "print(\"Path : \",x)\n",
        "\n"
      ],
      "metadata": {
        "colab": {
          "base_uri": "https://localhost:8080/"
        },
        "id": "s_Aij7csl-93",
        "outputId": "0bcde6cd-00b2-4682-a408-12b97cfdfbb5"
      },
      "execution_count": null,
      "outputs": [
        {
          "output_type": "stream",
          "name": "stdout",
          "text": [
            "Input initial Node :A\n",
            "Input Final Node :E\n",
            "I found node  E\n",
            "The level of final node :  6\n",
            "Path :  ['A', 'B', 'D', 'F', 'C', 'E']\n"
          ]
        }
      ]
    },
    {
      "cell_type": "code",
      "source": [
        "Graph ={\n",
        "    '5':['3','7'],\n",
        "    '3':['2','4'],\n",
        "    '2':[],\n",
        "    '4':['8'],\n",
        "    '8':[],\n",
        "    '7':['8']\n",
        "}\n",
        "\n",
        "\n",
        "\n",
        "def BFS(visited,Graph,init,final):\n",
        "\n",
        "  visited=[]\n",
        "  queue=[]\n",
        "\n",
        "  visited.append(init)\n",
        "  queue.append(init)\n",
        "\n",
        "  while queue :\n",
        "    node = queue.pop(0)\n",
        "\n",
        "    for beside in Graph[node] :\n",
        "      if beside not in visited:\n",
        "        visited.append(beside)\n",
        "        queue.append(beside)\n",
        "\n",
        "        if beside==final:\n",
        "          return visited\n",
        "\n"
      ],
      "metadata": {
        "id": "eId5yl8zmBlR"
      },
      "execution_count": null,
      "outputs": []
    },
    {
      "cell_type": "code",
      "source": [
        "#driver code\n",
        "\n",
        "while True :\n",
        "  init= int(input('Input Initial node : '))\n",
        "  final= int(input('Input Final node : '))\n",
        "  if init >0 and final>0:\n",
        "    x=BFS(visited, Graph, str(init) , str(final))\n",
        "    if x==None:\n",
        "      print('No path start from node {start} to {end}\\n'.format(start=init,end=final))\n",
        "    else : print(x,\"\\n\")\n",
        "  else :\n",
        "    print('***Exit***\\n')\n",
        "    break\n"
      ],
      "metadata": {
        "colab": {
          "base_uri": "https://localhost:8080/"
        },
        "id": "Ux0Zbn1L0bx3",
        "outputId": "37dfc4d7-4e6e-4ac5-a3a0-b3b77480b970"
      },
      "execution_count": null,
      "outputs": [
        {
          "output_type": "stream",
          "name": "stdout",
          "text": [
            "Input Initial node : 5\n",
            "Input Final node : 8\n",
            "['5', '3', '7', '2', '4', '8'] \n",
            "\n",
            "Input Initial node : 4\n",
            "Input Final node : 3\n",
            "No path start from node 4 to 3\n",
            "\n",
            "Input Initial node : 0\n",
            "Input Final node : 0\n",
            "***Exit***\n",
            "\n"
          ]
        }
      ]
    },
    {
      "cell_type": "code",
      "source": [],
      "metadata": {
        "id": "5IwVnevk1x1H"
      },
      "execution_count": null,
      "outputs": []
    }
  ]
}