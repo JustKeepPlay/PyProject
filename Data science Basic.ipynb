{
 "cells": [
  {
   "cell_type": "code",
   "execution_count": 1,
   "id": "06ed029a",
   "metadata": {},
   "outputs": [],
   "source": [
    "interest={\n",
    "    (0,\"Hadoop\"),(0,\"Big Data\"),(0,\"Hbase\"),(0,\"Java\"),\n",
    "    (0,\"Spark\"),(0,\"Storm\"),(0,\"Cassandra\"),\n",
    "    (1,\"NoSQL\"),(1,\"MongoDB\"),(1,\"Cassandra\"),(1,\"Hbase\"),\n",
    "    (1,\"Postgres\"),(2,\"Pythons\"),(2,\"scikit-learn\"),(2,\"scipy\"),\n",
    "    (2,\"numpy\"),(2,\"statsmodels\"),(2,\"pandas\"),(3,\"R\"),(3,\"Pythons\"),\n",
    "    (3,\"statistics\"),(3,\"regression\"),(3,\"probability\"),\n",
    "    (4,\"machine learning\"),(4,\"regression\"),(4,\"decision trees\"),\n",
    "    (4,\"libsvm\"),(5,\"Pythons\"),(5,\"R\"),(5,\"Java\"),(5,\"C++\"),\n",
    "    (5,\"Haskell\"),(5,\"programming language\"),(6,\"statistics\"),\n",
    "    (6,\"probability\"),(6,\"mathematics\"),(6,\"theory\"),\n",
    "    (7,\"machine learning\"),(7,\"scikit-learn\"),(7,\"Mahout\"),\n",
    "    (7,\"neural network\"),(8,\"neural network\"),(8,\"deep learning\"),\n",
    "    (8,\"Big Data\"),(8,\"artificial intelligence\"),(9,\"Hadoop\"),\n",
    "    (9,\"Java\"),(9,\"MapReduce\"),(9,\"Big Data\")\n",
    "}"
   ]
  },
  {
   "cell_type": "code",
   "execution_count": null,
   "id": "9edb7669",
   "metadata": {},
   "outputs": [],
   "source": [
    "for i in [1,2,3,4,5]:\n",
    "    print(i)\n",
    "    for j in [1,2,3,4,5]:\n",
    "        print(j)\n",
    "        print(i+j)\n",
    "    print(i)\n",
    "print(\"done looping\")"
   ]
  },
  {
   "cell_type": "code",
   "execution_count": null,
   "id": "e632f272",
   "metadata": {},
   "outputs": [],
   "source": [
    "import re\n",
    "my_regex = re.compile(\"[0-9]+\",re.l)\n"
   ]
  },
  {
   "cell_type": "code",
   "execution_count": null,
   "id": "4185f8ea",
   "metadata": {},
   "outputs": [],
   "source": []
  }
 ],
 "metadata": {
  "kernelspec": {
   "display_name": "Python 3",
   "language": "python",
   "name": "python3"
  },
  "language_info": {
   "codemirror_mode": {
    "name": "ipython",
    "version": 3
   },
   "file_extension": ".py",
   "mimetype": "text/x-python",
   "name": "python",
   "nbconvert_exporter": "python",
   "pygments_lexer": "ipython3",
   "version": "3.8.8"
  }
 },
 "nbformat": 4,
 "nbformat_minor": 5
}
