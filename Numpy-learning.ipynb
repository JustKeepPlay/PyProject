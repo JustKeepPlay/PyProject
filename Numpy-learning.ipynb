{
 "cells": [
  {
   "cell_type": "code",
   "execution_count": 1,
   "id": "3dd645e0",
   "metadata": {},
   "outputs": [
    {
     "name": "stdout",
     "output_type": "stream",
     "text": [
      "[1 2 3 4]\n",
      "[1 2 3 4]\n"
     ]
    }
   ],
   "source": [
    "import numpy as np \n",
    "a=np.array((1,2,3,4))\n",
    "list_a=[1,2,3,4]\n",
    "b=np.array(list_a)\n",
    "\n",
    "print(a)\n",
    "print(b)"
   ]
  },
  {
   "cell_type": "code",
   "execution_count": 2,
   "id": "a1587082",
   "metadata": {},
   "outputs": [
    {
     "name": "stdout",
     "output_type": "stream",
     "text": [
      "[[ 1  2  3]\n",
      " [10 20 30]]\n"
     ]
    }
   ],
   "source": [
    "import numpy as np \n",
    "\n",
    "A=np.array([[1,2,3],[10,20,30]])\n",
    "print(A)"
   ]
  },
  {
   "cell_type": "code",
   "execution_count": 7,
   "id": "bc3bfc1d",
   "metadata": {},
   "outputs": [
    {
     "name": "stdout",
     "output_type": "stream",
     "text": [
      "[[0. 0. 0.]\n",
      " [0. 0. 0.]]\n",
      "[[1 1 1 1 1]\n",
      " [1 1 1 1 1]\n",
      " [1 1 1 1 1]]\n"
     ]
    }
   ],
   "source": [
    "import numpy as np\n",
    "A=np.zeros((2,3))\n",
    "B=np.ones((3,5),dtype=int)\n",
    "\n",
    "print(A)\n",
    "print(B)"
   ]
  },
  {
   "cell_type": "code",
   "execution_count": 9,
   "id": "e3b8f104",
   "metadata": {},
   "outputs": [
    {
     "name": "stdout",
     "output_type": "stream",
     "text": [
      "[[7 7 7 7 7]\n",
      " [7 7 7 7 7]\n",
      " [7 7 7 7 7]]\n"
     ]
    }
   ],
   "source": [
    "import numpy as np\n",
    "C=np.full((3,5),7,dtype=int)\n",
    "print(C)"
   ]
  },
  {
   "cell_type": "code",
   "execution_count": 13,
   "id": "fa8127b2",
   "metadata": {},
   "outputs": [
    {
     "data": {
      "text/plain": [
       "array([100., 150., 200., 250., 300., 350., 400., 450., 500., 550., 600.,\n",
       "       650., 700., 750., 800., 850., 900., 950.])"
      ]
     },
     "execution_count": 13,
     "metadata": {},
     "output_type": "execute_result"
    }
   ],
   "source": [
    "import numpy as np \n",
    "\n",
    "np.arange(10)\n",
    "np.arange(90,100)\n",
    "np.arange(1,100,10)\n",
    "np.arange(100,1000,50,dtype=float)"
   ]
  },
  {
   "cell_type": "code",
   "execution_count": 14,
   "id": "ce83d499",
   "metadata": {},
   "outputs": [
    {
     "data": {
      "text/plain": [
       "array([ 1.        ,  1.18367347,  1.36734694,  1.55102041,  1.73469388,\n",
       "        1.91836735,  2.10204082,  2.28571429,  2.46938776,  2.65306122,\n",
       "        2.83673469,  3.02040816,  3.20408163,  3.3877551 ,  3.57142857,\n",
       "        3.75510204,  3.93877551,  4.12244898,  4.30612245,  4.48979592,\n",
       "        4.67346939,  4.85714286,  5.04081633,  5.2244898 ,  5.40816327,\n",
       "        5.59183673,  5.7755102 ,  5.95918367,  6.14285714,  6.32653061,\n",
       "        6.51020408,  6.69387755,  6.87755102,  7.06122449,  7.24489796,\n",
       "        7.42857143,  7.6122449 ,  7.79591837,  7.97959184,  8.16326531,\n",
       "        8.34693878,  8.53061224,  8.71428571,  8.89795918,  9.08163265,\n",
       "        9.26530612,  9.44897959,  9.63265306,  9.81632653, 10.        ])"
      ]
     },
     "execution_count": 14,
     "metadata": {},
     "output_type": "execute_result"
    }
   ],
   "source": [
    "import numpy as np \n",
    "np.linspace(1,10)"
   ]
  },
  {
   "cell_type": "code",
   "execution_count": 15,
   "id": "2d5b956a",
   "metadata": {},
   "outputs": [
    {
     "data": {
      "text/plain": [
       "array([  1,   2,   3,   5,   6,   8,   9,  11,  12,  13,  15,  16,  18,\n",
       "        19,  21,  22,  23,  25,  26,  28,  29,  31,  32,  34,  35,  36,\n",
       "        38,  39,  41,  42,  44,  45,  46,  48,  49,  51,  52,  54,  55,\n",
       "        56,  58,  59,  61,  62,  64,  65,  67,  68,  69,  71,  72,  74,\n",
       "        75,  77,  78,  79,  81,  82,  84,  85,  87,  88,  89,  91,  92,\n",
       "        94,  95,  97,  98, 100])"
      ]
     },
     "execution_count": 15,
     "metadata": {},
     "output_type": "execute_result"
    }
   ],
   "source": [
    "import numpy as np \n",
    "np.linspace(1,100,70,dtype=int)"
   ]
  },
  {
   "cell_type": "code",
   "execution_count": 18,
   "id": "9a059cc1",
   "metadata": {},
   "outputs": [
    {
     "data": {
      "text/plain": [
       "array([[1, 0, 0, 0, 0],\n",
       "       [0, 1, 0, 0, 0],\n",
       "       [0, 0, 1, 0, 0],\n",
       "       [0, 0, 0, 1, 0],\n",
       "       [0, 0, 0, 0, 1]])"
      ]
     },
     "execution_count": 18,
     "metadata": {},
     "output_type": "execute_result"
    }
   ],
   "source": [
    "import numpy as np \n",
    "np.eye(5,5,0,dtype=int)"
   ]
  },
  {
   "cell_type": "code",
   "execution_count": 26,
   "id": "e749fa6c",
   "metadata": {
    "scrolled": false
   },
   "outputs": [
    {
     "name": "stdout",
     "output_type": "stream",
     "text": [
      "[[         0          0          0          0]\n",
      " [         0          0          0          0]\n",
      " [         0          0       1216          0]\n",
      " [         0 1344302964          0 1850286190]]\n"
     ]
    }
   ],
   "source": [
    "import numpy as np \n",
    "A=np.empty((4,4),dtype=int)\n",
    "print(A)"
   ]
  },
  {
   "cell_type": "code",
   "execution_count": 27,
   "id": "88a91f07",
   "metadata": {},
   "outputs": [
    {
     "name": "stdout",
     "output_type": "stream",
     "text": [
      "35\n"
     ]
    }
   ],
   "source": [
    "import numpy as np \n",
    "from numpy import random as rd\n",
    "\n",
    "a=rd.randint(100)\n",
    "print(a)"
   ]
  },
  {
   "cell_type": "code",
   "execution_count": 28,
   "id": "e72307f5",
   "metadata": {},
   "outputs": [
    {
     "name": "stdout",
     "output_type": "stream",
     "text": [
      "93\n"
     ]
    }
   ],
   "source": [
    "import numpy as np \n",
    "a=np.random.randint(100)\n",
    "print(a)"
   ]
  },
  {
   "cell_type": "code",
   "execution_count": 30,
   "id": "04d1cf36",
   "metadata": {},
   "outputs": [
    {
     "name": "stdout",
     "output_type": "stream",
     "text": [
      "[[[0.14215076 0.15818571 0.31278327]\n",
      "  [0.41690795 0.63629078 0.69723831]\n",
      "  [0.67289782 0.94056394 0.85165832]]\n",
      "\n",
      " [[0.76982643 0.3379841  0.76055672]\n",
      "  [0.20386174 0.30972378 0.89344878]\n",
      "  [0.47033143 0.04700459 0.71661438]]\n",
      "\n",
      " [[0.81313045 0.9671866  0.57537915]\n",
      "  [0.03217391 0.40726866 0.66664959]\n",
      "  [0.96190287 0.49904826 0.44872144]]\n",
      "\n",
      " [[0.28320284 0.8483572  0.74698368]\n",
      "  [0.16103175 0.3104747  0.18026133]\n",
      "  [0.20417932 0.59056456 0.19493907]]\n",
      "\n",
      " [[0.82989037 0.2790851  0.18158378]\n",
      "  [0.12947488 0.94119868 0.95011547]\n",
      "  [0.57590255 0.04980672 0.16142571]]\n",
      "\n",
      " [[0.02337191 0.57423338 0.58574619]\n",
      "  [0.13924851 0.0139994  0.52466009]\n",
      "  [0.36523771 0.66877914 0.71111823]]\n",
      "\n",
      " [[0.03994273 0.25480845 0.4997578 ]\n",
      "  [0.11805491 0.6622038  0.82441517]\n",
      "  [0.0627542  0.16397897 0.07232746]]\n",
      "\n",
      " [[0.24656082 0.02868442 0.98983719]\n",
      "  [0.16709532 0.32407421 0.20588342]\n",
      "  [0.39813986 0.5141508  0.20092399]]\n",
      "\n",
      " [[0.22136476 0.14463229 0.5962049 ]\n",
      "  [0.55486749 0.77069306 0.79476474]\n",
      "  [0.20234018 0.55991572 0.65475982]]\n",
      "\n",
      " [[0.68907318 0.77547015 0.70611502]\n",
      "  [0.28219424 0.48004672 0.3894212 ]\n",
      "  [0.74789653 0.29925039 0.15239066]]]\n"
     ]
    }
   ],
   "source": [
    "import numpy as np \n",
    "from numpy import random as rd\n",
    "\n",
    "B=rd.rand(10,3,3)\n",
    "print(B)"
   ]
  },
  {
   "cell_type": "code",
   "execution_count": 31,
   "id": "3040e33b",
   "metadata": {},
   "outputs": [
    {
     "name": "stdout",
     "output_type": "stream",
     "text": [
      "[[[34 98 28]\n",
      "  [37 56 66]\n",
      "  [29 64 82]]\n",
      "\n",
      " [[87 11 31]\n",
      "  [81 91 20]\n",
      "  [83 28 73]]\n",
      "\n",
      " [[ 5 16 17]\n",
      "  [15 36 52]\n",
      "  [99 18 40]]\n",
      "\n",
      " [[ 2  0 61]\n",
      "  [ 5 62 14]\n",
      "  [74 22 47]]\n",
      "\n",
      " [[ 2 71 52]\n",
      "  [39  9 64]\n",
      "  [55 93 61]]\n",
      "\n",
      " [[45 11  4]\n",
      "  [84 75 73]\n",
      "  [81 52 27]]\n",
      "\n",
      " [[55  1 58]\n",
      "  [86 40 94]\n",
      "  [65 68 90]]\n",
      "\n",
      " [[81 27 66]\n",
      "  [41 25 27]\n",
      "  [30 67 10]]\n",
      "\n",
      " [[55 67 94]\n",
      "  [23 21  3]\n",
      "  [74 25 69]]\n",
      "\n",
      " [[18  6 41]\n",
      "  [28 81 80]\n",
      "  [58  0 39]]]\n"
     ]
    }
   ],
   "source": [
    "import numpy as np \n",
    "from numpy import random as rd\n",
    "\n",
    "a=rd.randint(100,size=(10,3,3))\n",
    "print(a)"
   ]
  },
  {
   "cell_type": "code",
   "execution_count": 33,
   "id": "8a49b6f3",
   "metadata": {},
   "outputs": [
    {
     "name": "stdout",
     "output_type": "stream",
     "text": [
      "[[ 5  9 26 53 23]\n",
      " [79 72 66 20  6]\n",
      " [49 49  1 61 21]\n",
      " [49 20 41  1 12]\n",
      " [33 44 76 55 70]]\n"
     ]
    }
   ],
   "source": [
    "import numpy as np \n",
    "from numpy import random as rd\n",
    "\n",
    "A=rd.choice(rd.randint(100),size=(5,5))\n",
    "print(A)"
   ]
  },
  {
   "cell_type": "code",
   "execution_count": 34,
   "id": "7fb9493a",
   "metadata": {},
   "outputs": [
    {
     "name": "stdout",
     "output_type": "stream",
     "text": [
      "[[5 7 9 3 3]\n",
      " [7 3 7 1 9]\n",
      " [3 1 5 3 5]\n",
      " [5 7 9 9 9]\n",
      " [1 1 1 3 3]]\n"
     ]
    }
   ],
   "source": [
    "import numpy as np \n",
    "from numpy import random as rd\n",
    "\n",
    "B=rd.choice([1,3,5,7,9],p=[0.2,0.15,0.30,0.1,0.25],size=(5,5))\n",
    "print(B)"
   ]
  },
  {
   "cell_type": "code",
   "execution_count": 35,
   "id": "e9da523b",
   "metadata": {},
   "outputs": [
    {
     "name": "stdout",
     "output_type": "stream",
     "text": [
      "[67 33 23 51 41 97 83 39  7 55 53 49 73 17 15 47 35 43 21 45 99 57 91 31\n",
      " 93 87 61 59 89 79 77 13  3  5 81 29  1 95 75 11 63 25 27 65 69 85 71 37\n",
      "  9 19]\n"
     ]
    }
   ],
   "source": [
    "import numpy as np \n",
    "from numpy import random as rd\n",
    "\n",
    "a=np.arange(1,100,2,dtype=int)\n",
    "rd.shuffle(a)\n",
    "print(a)"
   ]
  },
  {
   "cell_type": "code",
   "execution_count": 38,
   "id": "4ae096eb",
   "metadata": {},
   "outputs": [
    {
     "name": "stdout",
     "output_type": "stream",
     "text": [
      "[ 0  2  4  6  8 10 12 14 16 18 20 22 24 26 28 30 32 34 36 38 40 42 44 46\n",
      " 48]\n",
      "[36  2 24 20  0 18 46 48 34 40 30 44 22 14 16 26 12  8 32  6 28 38  4 42\n",
      " 10]\n"
     ]
    }
   ],
   "source": [
    "import numpy as np \n",
    "from numpy import random as rd\n",
    "\n",
    "a=np.arange(0,50,2,dtype=int)\n",
    "b=rd.permutation(a)\n",
    "print(a)\n",
    "print(b)"
   ]
  },
  {
   "cell_type": "code",
   "execution_count": 5,
   "id": "cd843dcc",
   "metadata": {},
   "outputs": [
    {
     "name": "stdout",
     "output_type": "stream",
     "text": [
      "[ 6 14 24 36 50]\n"
     ]
    }
   ],
   "source": [
    "import numpy as np\n",
    "\n",
    "a=np.array([1,2,3,4,5])\n",
    "b=np.array([6,7,8,9,10])\n",
    "c=a*b\n",
    "\"\"\"\n",
    "for i in range (len(a)):\n",
    "    c.append(a[i]*b[i])\n",
    "\"\"\"\n",
    "print(c)"
   ]
  },
  {
   "cell_type": "code",
   "execution_count": 6,
   "id": "bf45cda9",
   "metadata": {},
   "outputs": [
    {
     "name": "stdout",
     "output_type": "stream",
     "text": [
      "[      1     128    6561  262144 9765625]\n"
     ]
    }
   ],
   "source": [
    "import numpy as np\n",
    "\n",
    "b=np.array([6,7,8,9,10])\n",
    "\"\"\"\n",
    "for i in range (len(a)):\n",
    "    c.append(np.power(a[i],b[i]))\n",
    "\"\"\"\n",
    "print(a**b)"
   ]
  },
  {
   "cell_type": "code",
   "execution_count": 7,
   "id": "1969434e",
   "metadata": {},
   "outputs": [
    {
     "name": "stdout",
     "output_type": "stream",
     "text": [
      "[6, 14, 24, 36, 50]\n"
     ]
    }
   ],
   "source": [
    "import numpy as np\n",
    "\n",
    "a=[1,2,3,4,5]\n",
    "b=[6,7,8,9,10]\n",
    "c=[]\n",
    "for i in range (len(a)):\n",
    "    c.append(a[i]*b[i])\n",
    "print(c)"
   ]
  },
  {
   "cell_type": "code",
   "execution_count": 11,
   "id": "1e05ca81",
   "metadata": {},
   "outputs": [
    {
     "name": "stdout",
     "output_type": "stream",
     "text": [
      "[ 1  4  9 16 25]\n",
      "[2]\n"
     ]
    }
   ],
   "source": [
    "import numpy as np\n",
    "\n",
    "a=np.array([1,2,3,4,5])\n",
    "b=np.array([2])\n",
    "\n",
    "print(a**b)\n",
    "print(b)"
   ]
  },
  {
   "cell_type": "code",
   "execution_count": 19,
   "id": "26753dd6",
   "metadata": {
    "scrolled": false
   },
   "outputs": [
    {
     "name": "stdout",
     "output_type": "stream",
     "text": [
      "[[  0   1   2   3   4   5   6   7   8   9]\n",
      " [ 20  22  24  26  28  30  32  34  36  38]\n",
      " [ 60  63  66  69  72  75  78  81  84  87]\n",
      " [120 124 128 132 136 140 144 148 152 156]\n",
      " [200 205 210 215 220 225 230 235 240 245]]\n"
     ]
    }
   ],
   "source": [
    "import numpy as np\n",
    "a=np.arange(50).reshape(5,10)\n",
    "#print(a)\n",
    "b=np.arange(1,6).reshape(5,1)\n",
    "#print(b)\n",
    "c=a*b\n",
    "print(c)"
   ]
  },
  {
   "cell_type": "code",
   "execution_count": 23,
   "id": "eca58627",
   "metadata": {},
   "outputs": [
    {
     "name": "stdout",
     "output_type": "stream",
     "text": [
      "[[[  0   0]\n",
      "  [  0   0]\n",
      "  [  0   0]\n",
      "  [  0   0]\n",
      "  [  0   0]\n",
      "  [  0   0]\n",
      "  [  0   0]\n",
      "  [  0   0]\n",
      "  [  0   0]\n",
      "  [  0   0]]\n",
      "\n",
      " [[ 20  21]\n",
      "  [ 22  23]\n",
      "  [ 24  25]\n",
      "  [ 26  27]\n",
      "  [ 28  29]\n",
      "  [ 30  31]\n",
      "  [ 32  33]\n",
      "  [ 34  35]\n",
      "  [ 36  37]\n",
      "  [ 38  39]]\n",
      "\n",
      " [[ 80  82]\n",
      "  [ 84  86]\n",
      "  [ 88  90]\n",
      "  [ 92  94]\n",
      "  [ 96  98]\n",
      "  [100 102]\n",
      "  [104 106]\n",
      "  [108 110]\n",
      "  [112 114]\n",
      "  [116 118]]\n",
      "\n",
      " [[180 183]\n",
      "  [186 189]\n",
      "  [192 195]\n",
      "  [198 201]\n",
      "  [204 207]\n",
      "  [210 213]\n",
      "  [216 219]\n",
      "  [222 225]\n",
      "  [228 231]\n",
      "  [234 237]]\n",
      "\n",
      " [[320 324]\n",
      "  [328 332]\n",
      "  [336 340]\n",
      "  [344 348]\n",
      "  [352 356]\n",
      "  [360 364]\n",
      "  [368 372]\n",
      "  [376 380]\n",
      "  [384 388]\n",
      "  [392 396]]]\n"
     ]
    }
   ],
   "source": [
    "import numpy as np\n",
    "a=np.arange(100).reshape(5,10,2)\n",
    "#print(a)\n",
    "b=np.arange(5).reshape(5,1,1)\n",
    "#print(b)\n",
    "c=a*b\n",
    "print(c)"
   ]
  },
  {
   "cell_type": "code",
   "execution_count": 28,
   "id": "3dd3d455",
   "metadata": {},
   "outputs": [
    {
     "name": "stdout",
     "output_type": "stream",
     "text": [
      "[[[  0   1]\n",
      "  [  4   9]\n",
      "  [ 16  25]\n",
      "  [ 36  49]\n",
      "  [ 64  81]]\n",
      "\n",
      " [[  0  11]\n",
      "  [ 24  39]\n",
      "  [ 56  75]\n",
      "  [ 96 119]\n",
      "  [144 171]]\n",
      "\n",
      " [[  0  21]\n",
      "  [ 44  69]\n",
      "  [ 96 125]\n",
      "  [156 189]\n",
      "  [224 261]]\n",
      "\n",
      " [[  0  31]\n",
      "  [ 64  99]\n",
      "  [136 175]\n",
      "  [216 259]\n",
      "  [304 351]]\n",
      "\n",
      " [[  0  41]\n",
      "  [ 84 129]\n",
      "  [176 225]\n",
      "  [276 329]\n",
      "  [384 441]]]\n"
     ]
    }
   ],
   "source": [
    "import numpy as np\n",
    "a=np.arange(50).reshape(5,5,2)\n",
    "#print(a)\n",
    "b=np.arange(10).reshape(5,2)\n",
    "#print(b)\n",
    "c=a*b\n",
    "print(c)"
   ]
  },
  {
   "cell_type": "code",
   "execution_count": 1,
   "id": "d9aab68b",
   "metadata": {},
   "outputs": [
    {
     "name": "stdout",
     "output_type": "stream",
     "text": [
      "[[[  0   0]\n",
      "  [  2   3]\n",
      "  [  8  10]\n",
      "  [ 18  21]\n",
      "  [ 32  36]]\n",
      "\n",
      " [[  0   0]\n",
      "  [ 12  13]\n",
      "  [ 28  30]\n",
      "  [ 48  51]\n",
      "  [ 72  76]]\n",
      "\n",
      " [[  0   0]\n",
      "  [ 22  23]\n",
      "  [ 48  50]\n",
      "  [ 78  81]\n",
      "  [112 116]]\n",
      "\n",
      " [[  0   0]\n",
      "  [ 32  33]\n",
      "  [ 68  70]\n",
      "  [108 111]\n",
      "  [152 156]]\n",
      "\n",
      " [[  0   0]\n",
      "  [ 42  43]\n",
      "  [ 88  90]\n",
      "  [138 141]\n",
      "  [192 196]]]\n"
     ]
    }
   ],
   "source": [
    "import numpy as np\n",
    "a=np.arange(50).reshape(5,5,2)\n",
    "b=np.arange(5).reshape(5,1)\n",
    "c=a*b\n",
    "print(c)"
   ]
  },
  {
   "cell_type": "code",
   "execution_count": 3,
   "id": "ad781d71",
   "metadata": {},
   "outputs": [
    {
     "name": "stdout",
     "output_type": "stream",
     "text": [
      "[[[ 0  0  0  0  0]\n",
      "  [ 0  0  0  0  0]\n",
      "  [ 0  0  0  0  0]\n",
      "  [ 0  0  0  0  0]\n",
      "  [ 0  0  0  0  0]]\n",
      "\n",
      " [[ 0  1  2  3  4]\n",
      "  [ 5  6  7  8  9]\n",
      "  [10 11 12 13 14]\n",
      "  [15 16 17 18 19]\n",
      "  [20 21 22 23 24]]\n",
      "\n",
      " [[ 0  2  4  6  8]\n",
      "  [10 12 14 16 18]\n",
      "  [20 22 24 26 28]\n",
      "  [30 32 34 36 38]\n",
      "  [40 42 44 46 48]]\n",
      "\n",
      " [[ 0  3  6  9 12]\n",
      "  [15 18 21 24 27]\n",
      "  [30 33 36 39 42]\n",
      "  [45 48 51 54 57]\n",
      "  [60 63 66 69 72]]\n",
      "\n",
      " [[ 0  4  8 12 16]\n",
      "  [20 24 28 32 36]\n",
      "  [40 44 48 52 56]\n",
      "  [60 64 68 72 76]\n",
      "  [80 84 88 92 96]]]\n"
     ]
    }
   ],
   "source": [
    "import numpy as np\n",
    "a=np.arange(25).reshape(1,5,5)\n",
    "b=np.arange(5).reshape(5,1,1)\n",
    "print(a*b)"
   ]
  },
  {
   "cell_type": "code",
   "execution_count": 3,
   "id": "5e6143c0",
   "metadata": {
    "scrolled": true
   },
   "outputs": [
    {
     "name": "stdout",
     "output_type": "stream",
     "text": [
      "[[  0  10  20  30  40]\n",
      " [ 50  60  70  80  90]\n",
      " [100 110 120 130 140]\n",
      " [150 160 170 180 190]]\n"
     ]
    }
   ],
   "source": [
    "import numpy as np\n",
    "a=np.arange(20).reshape(4,5)\n",
    "b=np.array([10])\n",
    "print(a*b)"
   ]
  },
  {
   "cell_type": "code",
   "execution_count": 4,
   "id": "68cb5b89",
   "metadata": {},
   "outputs": [
    {
     "name": "stdout",
     "output_type": "stream",
     "text": [
      "[0 1 2 3 4 5 6 7]\n",
      "1\n",
      "5\n"
     ]
    }
   ],
   "source": [
    "import numpy as np\n",
    "a=np.arange(8)\n",
    "print(a)\n",
    "print(a[1])\n",
    "print(a[-3])"
   ]
  },
  {
   "cell_type": "code",
   "execution_count": 8,
   "id": "9b6c8055",
   "metadata": {
    "scrolled": false
   },
   "outputs": [
    {
     "name": "stdout",
     "output_type": "stream",
     "text": [
      "[[ 0  1  2  3  4]\n",
      " [ 5  6  7  8  9]\n",
      " [10 11 12 13 14]\n",
      " [15 16 17 18 19]\n",
      " [20 21 22 23 24]]\n",
      "19\n",
      "7\n"
     ]
    }
   ],
   "source": [
    "import numpy as np\n",
    "a=np.arange(25).reshape(5,5)\n",
    "print(a)\n",
    "print(a[3,4])\n",
    "print(a[-4,-3])"
   ]
  },
  {
   "cell_type": "code",
   "execution_count": 13,
   "id": "bbc135fb",
   "metadata": {},
   "outputs": [
    {
     "name": "stdout",
     "output_type": "stream",
     "text": [
      "[[[ 0  1]\n",
      "  [ 2  3]]\n",
      "\n",
      " [[ 4  5]\n",
      "  [ 6  7]]\n",
      "\n",
      " [[ 8  9]\n",
      "  [10 11]]]\n",
      "\n",
      "9\n"
     ]
    }
   ],
   "source": [
    "import numpy as np\n",
    "a=np.arange(12).reshape(3,2,2)\n",
    "print(a)\n",
    "print()\n",
    "    \n",
    "print(a[2,0,1])"
   ]
  },
  {
   "cell_type": "code",
   "execution_count": 14,
   "id": "7fae7c24",
   "metadata": {},
   "outputs": [
    {
     "name": "stdout",
     "output_type": "stream",
     "text": [
      "[ 0  1  2  3  4  5  6  7  8  9 10 11]\n",
      "[2 3 4 5 6]\n",
      "[0 1 2 3 4 5 6]\n",
      "[ 2  3  4  5  6  7  8  9 10 11]\n",
      "[2 5]\n",
      "[0 4 8]\n",
      "[ 0  2  4  6  8 10]\n",
      "[ 2  5  8 11]\n"
     ]
    }
   ],
   "source": [
    "import numpy as np\n",
    "a=np.arange(12)\n",
    "print(a)\n",
    "print(a[2:7])\n",
    "print(a[:7])\n",
    "print(a[2:])\n",
    "print(a[2:7:3])\n",
    "print(a[::4])\n",
    "print(a[:-1:2])\n",
    "print(a[2::3])"
   ]
  },
  {
   "cell_type": "code",
   "execution_count": 16,
   "id": "9958802a",
   "metadata": {},
   "outputs": [
    {
     "name": "stdout",
     "output_type": "stream",
     "text": [
      "[[[ 0  1]\n",
      "  [ 2  3]\n",
      "  [ 4  5]]\n",
      "\n",
      " [[ 6  7]\n",
      "  [ 8  9]\n",
      "  [10 11]]\n",
      "\n",
      " [[12 13]\n",
      "  [14 15]\n",
      "  [16 17]]\n",
      "\n",
      " [[18 19]\n",
      "  [20 21]\n",
      "  [22 23]]]\n",
      "----------\n",
      "\n",
      "[[[ 6  7]\n",
      "  [10 11]]]\n"
     ]
    }
   ],
   "source": [
    "import numpy as np\n",
    "a=np.arange(24).reshape(4,3,2)\n",
    "print(a)\n",
    "print(\"----------\")\n",
    "print()\n",
    "print(a[1:3:2,::2])"
   ]
  },
  {
   "cell_type": "code",
   "execution_count": 1,
   "id": "156ca4ae",
   "metadata": {},
   "outputs": [
    {
     "name": "stdout",
     "output_type": "stream",
     "text": [
      "[[[ 0  1]\n",
      "  [ 2  3]\n",
      "  [ 4  5]]\n",
      "\n",
      " [[ 6  7]\n",
      "  [ 8  9]\n",
      "  [10 11]]\n",
      "\n",
      " [[12 13]\n",
      "  [14 15]\n",
      "  [16 17]]\n",
      "\n",
      " [[18 19]\n",
      "  [20 21]\n",
      "  [22 23]]]\n",
      "----------\n",
      "\n",
      "[15]\n"
     ]
    }
   ],
   "source": [
    "import numpy as np\n",
    "a=np.arange(24).reshape(4,3,2)\n",
    "print(a)\n",
    "print(\"----------\")\n",
    "print()\n",
    "print(a[2:3:2,1,1])"
   ]
  },
  {
   "cell_type": "code",
   "execution_count": 4,
   "id": "38aea698",
   "metadata": {
    "scrolled": true
   },
   "outputs": [
    {
     "name": "stdout",
     "output_type": "stream",
     "text": [
      "[[[ 0  1]\n",
      "  [ 2  3]\n",
      "  [ 4  5]]\n",
      "\n",
      " [[ 6  7]\n",
      "  [ 8  9]\n",
      "  [10 11]]\n",
      "\n",
      " [[12 13]\n",
      "  [14 15]\n",
      "  [16 17]]\n",
      "\n",
      " [[18 19]\n",
      "  [20 21]\n",
      "  [22 23]]]\n",
      "-----------\n",
      "\n",
      "[[[ 6  7]\n",
      "  [10 11]]]\n"
     ]
    }
   ],
   "source": [
    "import numpy as np\n",
    "a=np.arange(24).reshape(4,3,2)\n",
    "print(a)\n",
    "print(\"-----------\")\n",
    "print()\n",
    "print(a[slice(1,3,2),::2])"
   ]
  },
  {
   "cell_type": "code",
   "execution_count": 17,
   "id": "6747fceb",
   "metadata": {
    "scrolled": true
   },
   "outputs": [
    {
     "name": "stdout",
     "output_type": "stream",
     "text": [
      "[[ 0  1  2  3  4  5  6  7  8  9]\n",
      " [10 11 12 13 14 15 16 17 18 19]\n",
      " [20 21 22 23 24 25 26 27 28 29]\n",
      " [30 31 32 33 34 35 36 37 38 39]\n",
      " [40 41 42 43 44 45 46 47 48 49]\n",
      " [50 51 52 53 54 55 56 57 58 59]\n",
      " [60 61 62 63 64 65 66 67 68 69]\n",
      " [70 71 72 73 74 75 76 77 78 79]\n",
      " [80 81 82 83 84 85 86 87 88 89]\n",
      " [90 91 92 93 94 95 96 97 98 99]]\n",
      "----------------------\n",
      "[[90 91 92 93 94 95 96 97 98 99]\n",
      " [80 81 82 83 84 85 86 87 88 89]\n",
      " [70 71 72 73 74 75 76 77 78 79]\n",
      " [60 61 62 63 64 65 66 67 68 69]\n",
      " [50 51 52 53 54 55 56 57 58 59]\n",
      " [40 41 42 43 44 45 46 47 48 49]\n",
      " [30 31 32 33 34 35 36 37 38 39]\n",
      " [20 21 22 23 24 25 26 27 28 29]\n",
      " [10 11 12 13 14 15 16 17 18 19]\n",
      " [ 0  1  2  3  4  5  6  7  8  9]]\n"
     ]
    }
   ],
   "source": [
    "import numpy as np\n",
    "a=np.arange(100).reshape(10,10)\n",
    "print(a)\n",
    "des=np.flip(a,0)\n",
    "#index=np.array([3,2,1,0])\n",
    "print(\"----------------------\")\n",
    "print(des)"
   ]
  },
  {
   "cell_type": "code",
   "execution_count": 2,
   "id": "37b527be",
   "metadata": {
    "scrolled": true
   },
   "outputs": [
    {
     "name": "stdout",
     "output_type": "stream",
     "text": [
      "[[ 0  1  2]\n",
      " [ 3  4  5]\n",
      " [ 6  7  8]\n",
      " [ 9 10 11]]\n",
      "-----------------------\n",
      "\n",
      "[11  8  5  2]\n"
     ]
    }
   ],
   "source": [
    "import numpy as np\n",
    "a=np.arange(12).reshape(4,3)\n",
    "print(a)\n",
    "b=np.arange(3,-1,-1)\n",
    "#print(b)\n",
    "c=np.array([2])\n",
    "print(\"-----------------------\")\n",
    "print()\n",
    "print(a[b,c])"
   ]
  },
  {
   "cell_type": "code",
   "execution_count": null,
   "id": "9f246e14",
   "metadata": {},
   "outputs": [],
   "source": [
    "import numpy as np"
   ]
  }
 ],
 "metadata": {
  "kernelspec": {
   "display_name": "Python 3",
   "language": "python",
   "name": "python3"
  },
  "language_info": {
   "codemirror_mode": {
    "name": "ipython",
    "version": 3
   },
   "file_extension": ".py",
   "mimetype": "text/x-python",
   "name": "python",
   "nbconvert_exporter": "python",
   "pygments_lexer": "ipython3",
   "version": "3.8.8"
  }
 },
 "nbformat": 4,
 "nbformat_minor": 5
}
