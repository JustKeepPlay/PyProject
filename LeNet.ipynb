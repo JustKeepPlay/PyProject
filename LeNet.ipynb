{
  "nbformat": 4,
  "nbformat_minor": 0,
  "metadata": {
    "colab": {
      "provenance": [],
      "authorship_tag": "ABX9TyPpLjiX7IvemhDRBOnN6zzO",
      "include_colab_link": true
    },
    "kernelspec": {
      "name": "python3",
      "display_name": "Python 3"
    },
    "language_info": {
      "name": "python"
    }
  },
  "cells": [
    {
      "cell_type": "markdown",
      "metadata": {
        "id": "view-in-github",
        "colab_type": "text"
      },
      "source": [
        "<a href=\"https://colab.research.google.com/github/JustKeepPlay/PyProject/blob/main/LeNet.ipynb\" target=\"_parent\"><img src=\"https://colab.research.google.com/assets/colab-badge.svg\" alt=\"Open In Colab\"/></a>"
      ]
    },
    {
      "cell_type": "markdown",
      "source": [
        "## #**LeNet**"
      ],
      "metadata": {
        "id": "uYt6aD2cu-zp"
      }
    },
    {
      "cell_type": "markdown",
      "source": [
        "LeNet is the most popular CNN architecture in 1998.\n",
        "Originally developed to categorise handwritten digits from 0–9 of the MNISTDataset. It was made up of 7 layers, each with its own set of trainable parameters. It accepts a 32 × 32 pixel picture, which is rather huge in comparison to the images in the data sets used to train the network .RELU is the activation function that has been used. The layers are laid out in the following order:\n",
        "\n",
        "\n"
      ],
      "metadata": {
        "id": "E04xPBkzvPsS"
      }
    },
    {
      "cell_type": "code",
      "source": [
        "pip install keras"
      ],
      "metadata": {
        "colab": {
          "base_uri": "https://localhost:8080/"
        },
        "id": "ZjNXX8u6_Roo",
        "outputId": "2440a4b2-ba33-4405-9ac3-7cd3b2e8527a"
      },
      "execution_count": null,
      "outputs": [
        {
          "output_type": "stream",
          "name": "stdout",
          "text": [
            "Looking in indexes: https://pypi.org/simple, https://us-python.pkg.dev/colab-wheels/public/simple/\n",
            "Requirement already satisfied: keras in /usr/local/lib/python3.7/dist-packages (2.9.0)\n"
          ]
        }
      ]
    },
    {
      "cell_type": "code",
      "source": [
        "import os\n",
        "import io\n",
        "import PIL\n",
        "import PIL.Image\n",
        "import numpy as np # linear algebra\n",
        "import pandas as pd # data processing, CSV file I/O (e.g. pd.read_csv)\n",
        "from tensorflow.keras.losses import  sparse_categorical_crossentropy\n",
        "from tensorflow.keras.metrics import sparse_categorical_accuracy\n",
        "import tensorflow as tf\n",
        "import tensorflow_datasets as tfds\n",
        "from tensorflow.python.keras.models import Sequential\n",
        "from tensorflow.python.keras.layers import Dense, Flatten, Conv2D, Dropout, MaxPooling2D, AveragePooling2D"
      ],
      "metadata": {
        "id": "LoLX_ZMwvLkM"
      },
      "execution_count": null,
      "outputs": []
    },
    {
      "cell_type": "code",
      "source": [
        "from google.colab import drive #case mounted gdrive\n",
        "drive.mount('/content/gdrive', force_remount=False)\n",
        "import os  #case connect via OS\n",
        "os.chdir(\"/content/gdrive/\")\n",
        "os.getcwd()"
      ],
      "metadata": {
        "colab": {
          "base_uri": "https://localhost:8080/",
          "height": 52
        },
        "id": "_t8KJJSOCeMY",
        "outputId": "f9a8c41b-bac5-4c6a-b162-f273b47e80d1"
      },
      "execution_count": null,
      "outputs": [
        {
          "output_type": "stream",
          "name": "stdout",
          "text": [
            "Mounted at /content/gdrive\n"
          ]
        },
        {
          "output_type": "execute_result",
          "data": {
            "text/plain": [
              "'/content/gdrive'"
            ],
            "application/vnd.google.colaboratory.intrinsic+json": {
              "type": "string"
            }
          },
          "metadata": {},
          "execution_count": 40
        }
      ]
    },
    {
      "cell_type": "code",
      "source": [
        "from google.colab import files\n",
        "X_train = pd.read_csv('/content/gdrive/MyDrive/Colab Notebooks/dataset/Arabic Handwritten Digits Dataset/csvTrainImages 60k x 784.csv').values\n",
        "Y_train = pd.read_csv('/content/gdrive/MyDrive/Colab Notebooks/dataset/Arabic Handwritten Digits Dataset/csvTrainLabel 60k x 1.csv').values\n",
        "X_test = pd.read_csv('/content/gdrive/MyDrive/Colab Notebooks/dataset/Arabic Handwritten Digits Dataset/csvTestImages 10k x 784.csv').values\n",
        "Y_test = pd.read_csv('/content/gdrive/MyDrive/Colab Notebooks/dataset/Arabic Handwritten Digits Dataset/csvTestLabel 10k x 1.csv').values"
      ],
      "metadata": {
        "id": "CdgPGjZYCeF5"
      },
      "execution_count": null,
      "outputs": []
    },
    {
      "cell_type": "code",
      "source": [
        "X_train, X_test = (X_train / 255.0), (X_test / 255.0) # Normalize to [0, 1]"
      ],
      "metadata": {
        "id": "pKkX_YKMFJIm"
      },
      "execution_count": null,
      "outputs": []
    },
    {
      "cell_type": "code",
      "source": [
        "X_train = X_train.reshape(len(Y_train), 28, 28, 1)\n",
        "X_test = X_test.reshape(len(Y_test), 28, 28, 1)\n",
        "X_train.shape"
      ],
      "metadata": {
        "colab": {
          "base_uri": "https://localhost:8080/"
        },
        "id": "D-vBtqDhFNT4",
        "outputId": "c4eb9438-746e-4078-a2b4-02ee93f4d381"
      },
      "execution_count": null,
      "outputs": [
        {
          "output_type": "execute_result",
          "data": {
            "text/plain": [
              "(59999, 28, 28, 1)"
            ]
          },
          "metadata": {},
          "execution_count": 59
        }
      ]
    },
    {
      "cell_type": "code",
      "source": [
        "# Building the Model Architecture\n",
        "model = Sequential()\n",
        "# Select 6 feature convolution kernels with a size of 5 * 5 (without offset), and get 66 feature maps. The size of each feature map is 32−5 + 1 = 28 32−5 + 1 = 28.\n",
        "# That is, the number of neurons has been reduced from 10241024 to 28 ∗ 28 = 784 28 ∗ 28 = 784.\n",
        "# Parameters between input layer and C1 layer: 6 ∗ (5 ∗ 5 + 1)\n",
        "model.add(Conv2D(6, kernel_size=(5, 5), activation='relu', input_shape=(28, 28, 1)))\n",
        "# The input of this layer is the output of the first layer, which is a 28 * 28 * 6 node matrix.\n",
        "# The size of the filter used in this layer is 2 * 2, and the step length and width are both 2, so the output matrix size of this layer is 14 * 14 * 6.\n",
        "model.add(MaxPooling2D(pool_size=(2, 2)))\n",
        "# The input matrix size of this layer is 14 * 14 * 6, the filter size used is 5 * 5, and the depth is 16. This layer does not use all 0 padding, and the step size is 1.\n",
        "# The output matrix size of this layer is 10 * 10 * 16. This layer has 5 * 5 * 6 * 16 + 16 = 2416 parameters\n",
        "model.add(Conv2D(16, kernel_size=(5, 5), activation='relu'))\n",
        "# The input matrix size of this layer is 10 * 10 * 16. The size of the filter used in this layer is 2 * 2, and the length and width steps are both 2, so the output matrix size of this layer is 5 * 5 * 16.\n",
        "model.add(MaxPooling2D(pool_size=(2, 2)))\n",
        "# The input matrix size of this layer is 5 * 5 * 16. This layer is called a convolution layer in the LeNet-5 paper, but because the size of the filter is 5 * 5, #\n",
        "# So it is not different from the fully connected layer. If the nodes in the 5 * 5 * 16 matrix are pulled into a vector, then this layer is the same as the fully connected layer.\n",
        "# The number of output nodes in this layer is 120, with a total of 5 * 5 * 16 * 120 + 120 = 48120 parameters.\n",
        "model.add(Flatten())\n",
        "model.add(Dense(120, activation='relu'))\n",
        "# The number of input nodes in this layer is 120 and the number of output nodes is 84. The total parameter is 120 * 84 + 84 = 10164 (w + b)\n",
        "model.add(Dense(84, activation='relu'))\n",
        "# The number of input nodes in this layer is 84 and the number of output nodes is 10. The total parameter is 84 * 10 + 10 = 850\n",
        "model.add(Dense(10, activation='softmax'))\n",
        "\n",
        "model.summary()"
      ],
      "metadata": {
        "colab": {
          "base_uri": "https://localhost:8080/"
        },
        "id": "8AfCKfD42lfu",
        "outputId": "0786e349-5cf1-499d-8067-d71be0c3cec7"
      },
      "execution_count": null,
      "outputs": [
        {
          "output_type": "stream",
          "name": "stdout",
          "text": [
            "Model: \"sequential_3\"\n",
            "_________________________________________________________________\n",
            "Layer (type)                 Output Shape              Param #   \n",
            "=================================================================\n",
            "conv2d_6 (Conv2D)            (None, 24, 24, 6)         156       \n",
            "_________________________________________________________________\n",
            "max_pooling2d_6 (MaxPooling2 (None, 12, 12, 6)         0         \n",
            "_________________________________________________________________\n",
            "conv2d_7 (Conv2D)            (None, 8, 8, 16)          2416      \n",
            "_________________________________________________________________\n",
            "max_pooling2d_7 (MaxPooling2 (None, 4, 4, 16)          0         \n",
            "_________________________________________________________________\n",
            "flatten_3 (Flatten)          (None, 256)               0         \n",
            "_________________________________________________________________\n",
            "dense_9 (Dense)              (None, 120)               30840     \n",
            "_________________________________________________________________\n",
            "dense_10 (Dense)             (None, 84)                10164     \n",
            "_________________________________________________________________\n",
            "dense_11 (Dense)             (None, 10)                850       \n",
            "=================================================================\n",
            "Total params: 44,426\n",
            "Trainable params: 44,426\n",
            "Non-trainable params: 0\n",
            "_________________________________________________________________\n"
          ]
        }
      ]
    },
    {
      "cell_type": "code",
      "source": [
        "model.compile( optimizer='adam',loss=sparse_categorical_crossentropy,metrics=[sparse_categorical_accuracy],)"
      ],
      "metadata": {
        "id": "AqZrFL2I_NZ4"
      },
      "execution_count": null,
      "outputs": []
    },
    {
      "cell_type": "code",
      "source": [
        "training = model.fit(X_train, Y_train, batch_size=128, epochs=20, verbose=1, validation_data=(X_test, Y_test))"
      ],
      "metadata": {
        "colab": {
          "base_uri": "https://localhost:8080/"
        },
        "id": "FXH9cq1vF5ZM",
        "outputId": "59796184-cb9f-4c5d-eaac-acce0a94ca08"
      },
      "execution_count": null,
      "outputs": [
        {
          "output_type": "stream",
          "name": "stdout",
          "text": [
            "Epoch 1/20\n",
            "469/469 [==============================] - 49s 103ms/step - loss: 0.2166 - sparse_categorical_accuracy: 0.9419 - val_loss: 0.0837 - val_sparse_categorical_accuracy: 0.9746\n",
            "Epoch 2/20\n",
            "469/469 [==============================] - 33s 71ms/step - loss: 0.0517 - sparse_categorical_accuracy: 0.9852 - val_loss: 0.0587 - val_sparse_categorical_accuracy: 0.9809\n",
            "Epoch 3/20\n",
            "469/469 [==============================] - 27s 59ms/step - loss: 0.0366 - sparse_categorical_accuracy: 0.9891 - val_loss: 0.0469 - val_sparse_categorical_accuracy: 0.9857\n",
            "Epoch 4/20\n",
            "469/469 [==============================] - 28s 61ms/step - loss: 0.0282 - sparse_categorical_accuracy: 0.9914 - val_loss: 0.0492 - val_sparse_categorical_accuracy: 0.9843\n",
            "Epoch 5/20\n",
            "469/469 [==============================] - 28s 60ms/step - loss: 0.0233 - sparse_categorical_accuracy: 0.9931 - val_loss: 0.0439 - val_sparse_categorical_accuracy: 0.9862\n",
            "Epoch 6/20\n",
            "469/469 [==============================] - 27s 58ms/step - loss: 0.0203 - sparse_categorical_accuracy: 0.9933 - val_loss: 0.0504 - val_sparse_categorical_accuracy: 0.9862\n",
            "Epoch 7/20\n",
            "469/469 [==============================] - 31s 67ms/step - loss: 0.0178 - sparse_categorical_accuracy: 0.9943 - val_loss: 0.0429 - val_sparse_categorical_accuracy: 0.9872\n",
            "Epoch 8/20\n",
            "469/469 [==============================] - 29s 61ms/step - loss: 0.0151 - sparse_categorical_accuracy: 0.9951 - val_loss: 0.0428 - val_sparse_categorical_accuracy: 0.9879\n",
            "Epoch 9/20\n",
            "469/469 [==============================] - 28s 59ms/step - loss: 0.0145 - sparse_categorical_accuracy: 0.9952 - val_loss: 0.0432 - val_sparse_categorical_accuracy: 0.9877\n",
            "Epoch 10/20\n",
            "469/469 [==============================] - 28s 59ms/step - loss: 0.0125 - sparse_categorical_accuracy: 0.9960 - val_loss: 0.0435 - val_sparse_categorical_accuracy: 0.9890\n",
            "Epoch 11/20\n",
            "469/469 [==============================] - 28s 61ms/step - loss: 0.0109 - sparse_categorical_accuracy: 0.9965 - val_loss: 0.0424 - val_sparse_categorical_accuracy: 0.9878\n",
            "Epoch 12/20\n",
            "469/469 [==============================] - 27s 58ms/step - loss: 0.0107 - sparse_categorical_accuracy: 0.9966 - val_loss: 0.0587 - val_sparse_categorical_accuracy: 0.9858\n",
            "Epoch 13/20\n",
            "469/469 [==============================] - 32s 68ms/step - loss: 0.0105 - sparse_categorical_accuracy: 0.9965 - val_loss: 0.0466 - val_sparse_categorical_accuracy: 0.9879\n",
            "Epoch 14/20\n",
            "469/469 [==============================] - 27s 59ms/step - loss: 0.0100 - sparse_categorical_accuracy: 0.9966 - val_loss: 0.0380 - val_sparse_categorical_accuracy: 0.9908\n",
            "Epoch 15/20\n",
            "469/469 [==============================] - 27s 58ms/step - loss: 0.0087 - sparse_categorical_accuracy: 0.9970 - val_loss: 0.0520 - val_sparse_categorical_accuracy: 0.9879\n",
            "Epoch 16/20\n",
            "469/469 [==============================] - 27s 58ms/step - loss: 0.0078 - sparse_categorical_accuracy: 0.9974 - val_loss: 0.0471 - val_sparse_categorical_accuracy: 0.9889\n",
            "Epoch 17/20\n",
            "469/469 [==============================] - 27s 58ms/step - loss: 0.0071 - sparse_categorical_accuracy: 0.9977 - val_loss: 0.0512 - val_sparse_categorical_accuracy: 0.9882\n",
            "Epoch 18/20\n",
            "469/469 [==============================] - 27s 58ms/step - loss: 0.0076 - sparse_categorical_accuracy: 0.9977 - val_loss: 0.0543 - val_sparse_categorical_accuracy: 0.9888\n",
            "Epoch 19/20\n",
            "469/469 [==============================] - 27s 58ms/step - loss: 0.0059 - sparse_categorical_accuracy: 0.9980 - val_loss: 0.0585 - val_sparse_categorical_accuracy: 0.9866\n",
            "Epoch 20/20\n",
            "469/469 [==============================] - 27s 58ms/step - loss: 0.0065 - sparse_categorical_accuracy: 0.9978 - val_loss: 0.0514 - val_sparse_categorical_accuracy: 0.9888\n"
          ]
        }
      ]
    },
    {
      "cell_type": "code",
      "source": [
        "import matplotlib.pyplot as plt\n",
        "plt.plot(training.history['loss'])\n",
        "plt.plot(training.history['val_loss'])\n",
        "plt.title('Loss')\n",
        "plt.ylabel('accuracy')\n",
        "plt.xlabel('epoch')\n",
        "plt.legend(['train loss', 'test loss'], loc = 'upper left')\n",
        "plt.show()\n",
        "\n",
        "plt.plot(training.history['sparse_categorical_accuracy'])\n",
        "plt.plot(training.history['val_sparse_categorical_accuracy'])\n",
        "plt.title('model accuracy')\n",
        "plt.ylabel('accuracy')\n",
        "plt.xlabel('epoch')\n",
        "plt.legend(['train acc', 'test acc'], loc = 'upper left')\n",
        "plt.show()"
      ],
      "metadata": {
        "colab": {
          "base_uri": "https://localhost:8080/",
          "height": 573
        },
        "id": "76Xsa3RaGyCO",
        "outputId": "dc26b3b8-3e52-4625-b9d4-30bee564762c"
      },
      "execution_count": null,
      "outputs": [
        {
          "output_type": "display_data",
          "data": {
            "text/plain": [
              "<Figure size 432x288 with 1 Axes>"
            ],
            "image/png": "[encoded data removed]"
          },
          "metadata": {
            "needs_background": "light"
          }
        },
        {
          "output_type": "display_data",
          "data": {
            "text/plain": [
              "<Figure size 432x288 with 1 Axes>"
            ],
            "image/png": "[encoded data removed]"
          },
          "metadata": {
            "needs_background": "light"
          }
        }
      ]
    },
    {
      "cell_type": "code",
      "source": [],
      "metadata": {
        "id": "_d-d3Ae7JCJi"
      },
      "execution_count": null,
      "outputs": []
    }
  ]
}