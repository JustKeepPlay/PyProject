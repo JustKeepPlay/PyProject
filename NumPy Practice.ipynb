{
 "cells": [
  {
   "cell_type": "code",
   "execution_count": 1,
   "id": "931916b1",
   "metadata": {},
   "outputs": [
    {
     "name": "stdout",
     "output_type": "stream",
     "text": [
      "1.20.1\n",
      "<function show at 0x0000026376047D30>\n"
     ]
    }
   ],
   "source": [
    "#1\n",
    "#get version and build config\n",
    "import numpy as np\n",
    "print(np.__version__)\n",
    "print(np.show_config)"
   ]
  },
  {
   "cell_type": "code",
   "execution_count": 2,
   "id": "8cc4aa29",
   "metadata": {},
   "outputs": [
    {
     "name": "stdout",
     "output_type": "stream",
     "text": [
      "add(x1, x2, /, out=None, *, where=True, casting='same_kind', order='K', dtype=None, subok=True[, signature, extobj])\n",
      "\n",
      "Add arguments element-wise.\n",
      "\n",
      "Parameters\n",
      "----------\n",
      "x1, x2 : array_like\n",
      "    The arrays to be added.\n",
      "    If ``x1.shape != x2.shape``, they must be broadcastable to a common\n",
      "    shape (which becomes the shape of the output).\n",
      "out : ndarray, None, or tuple of ndarray and None, optional\n",
      "    A location into which the result is stored. If provided, it must have\n",
      "    a shape that the inputs broadcast to. If not provided or None,\n",
      "    a freshly-allocated array is returned. A tuple (possible only as a\n",
      "    keyword argument) must have length equal to the number of outputs.\n",
      "where : array_like, optional\n",
      "    This condition is broadcast over the input. At locations where the\n",
      "    condition is True, the `out` array will be set to the ufunc result.\n",
      "    Elsewhere, the `out` array will retain its original value.\n",
      "    Note that if an uninitialized `out` array is created via the default\n",
      "    ``out=None``, locations within it where the condition is False will\n",
      "    remain uninitialized.\n",
      "**kwargs\n",
      "    For other keyword-only arguments, see the\n",
      "    :ref:`ufunc docs <ufuncs.kwargs>`.\n",
      "\n",
      "Returns\n",
      "-------\n",
      "add : ndarray or scalar\n",
      "    The sum of `x1` and `x2`, element-wise.\n",
      "    This is a scalar if both `x1` and `x2` are scalars.\n",
      "\n",
      "Notes\n",
      "-----\n",
      "Equivalent to `x1` + `x2` in terms of array broadcasting.\n",
      "\n",
      "Examples\n",
      "--------\n",
      ">>> np.add(1.0, 4.0)\n",
      "5.0\n",
      ">>> x1 = np.arange(9.0).reshape((3, 3))\n",
      ">>> x2 = np.arange(3.0)\n",
      ">>> np.add(x1, x2)\n",
      "array([[  0.,   2.,   4.],\n",
      "       [  3.,   5.,   7.],\n",
      "       [  6.,   8.,  10.]])\n",
      "\n",
      "The ``+`` operator can be used as a shorthand for ``np.add`` on ndarrays.\n",
      "\n",
      ">>> x1 = np.arange(9.0).reshape((3, 3))\n",
      ">>> x2 = np.arange(3.0)\n",
      ">>> x1 + x2\n",
      "array([[ 0.,  2.,  4.],\n",
      "       [ 3.,  5.,  7.],\n",
      "       [ 6.,  8., 10.]])\n",
      "None\n"
     ]
    }
   ],
   "source": [
    "#2\n",
    "#get help on add function\n",
    "import numpy as np \n",
    "print(np.info(np.add))"
   ]
  },
  {
   "cell_type": "code",
   "execution_count": 4,
   "id": "fe9463ed",
   "metadata": {},
   "outputs": [
    {
     "name": "stdout",
     "output_type": "stream",
     "text": [
      "True\n",
      "False\n"
     ]
    }
   ],
   "source": [
    "#3\n",
    "#test whether none of element in array is not zero\n",
    "import numpy as np\n",
    "a=np.array([1,2,3,4,5,6,7,8,9])\n",
    "b=np.array([0.1,0.2,0.3,0.4,0.5,0.6,0.7,0.8,0.9,0.0])\n",
    "print(np.all(a))\n",
    "print(np.all(b))"
   ]
  },
  {
   "cell_type": "code",
   "execution_count": 1,
   "id": "555a20a1",
   "metadata": {},
   "outputs": [
    {
     "name": "stdout",
     "output_type": "stream",
     "text": [
      "True\n",
      "False\n"
     ]
    }
   ],
   "source": [
    "#4\n",
    "#test whether any of element in array is non zero\n",
    "import numpy as np\n",
    "a=np.array([1,2,3,4,5,6,7,8,9])\n",
    "b=np.array([0,0,0,0,0,0])\n",
    "print(np.any(a))\n",
    "print(np.any(b))"
   ]
  },
  {
   "cell_type": "code",
   "execution_count": 8,
   "id": "55bbfc17",
   "metadata": {},
   "outputs": [
    {
     "name": "stdout",
     "output_type": "stream",
     "text": [
      "[ 0.  1. nan inf]\n",
      "[ True  True False False]\n"
     ]
    }
   ],
   "source": [
    "#5\n",
    "#test an array's element-wise for finiteness (not infinite and not a number)\n",
    "import numpy as np\n",
    "a=np.array([0,1,np.nan,np.inf])\n",
    "print(a)\n",
    "print(np.isfinite(a))"
   ]
  },
  {
   "cell_type": "code",
   "execution_count": 9,
   "id": "4f8ef830",
   "metadata": {},
   "outputs": [
    {
     "name": "stdout",
     "output_type": "stream",
     "text": [
      "[ 0.  1. nan inf]\n",
      "[False False False  True]\n"
     ]
    }
   ],
   "source": [
    "#6\n",
    "#test element-wise for is or is-not infinite\n",
    "import numpy as np\n",
    "a=np.array([0,1,np.nan,np.inf])\n",
    "print(a)\n",
    "print(np.isinf(a))"
   ]
  },
  {
   "cell_type": "code",
   "execution_count": 10,
   "id": "a070b36b",
   "metadata": {},
   "outputs": [
    {
     "name": "stdout",
     "output_type": "stream",
     "text": [
      "[ 0.  1. nan inf]\n",
      "[False False  True False]\n"
     ]
    }
   ],
   "source": [
    "#7\n",
    "#test element-wise for NaN of an given array\n",
    "import numpy as np\n",
    "a=np.array([0,1,np.nan,np.inf])\n",
    "print(a)\n",
    "print(np.isnan(a))"
   ]
  },
  {
   "cell_type": "code",
   "execution_count": 16,
   "id": "43cf5d9d",
   "metadata": {},
   "outputs": [
    {
     "name": "stdout",
     "output_type": "stream",
     "text": [
      "[1. +1.j 1. +0.j 4.5+0.j 3. +0.j 2. +0.j 0. +2.j]\n",
      "[ True False False False False  True]\n",
      "[False  True  True  True  True False]\n",
      "False\n"
     ]
    }
   ],
   "source": [
    "#8\n",
    "#test element-wise for complex number, real number of a given array. Also test whether a given number is a scalar type or not\n",
    "import numpy as np\n",
    "a = np.array([1+1j, 1+0j, 4.5, 3, 2, 2j])\n",
    "print(a)\n",
    "print(np.iscomplex(a))\n",
    "print(np.isreal(a))\n",
    "print(np.isscalar(a))"
   ]
  },
  {
   "cell_type": "code",
   "execution_count": 17,
   "id": "475f93f8",
   "metadata": {},
   "outputs": [
    {
     "name": "stdout",
     "output_type": "stream",
     "text": [
      "False\n",
      "True\n",
      "False\n",
      "False\n",
      "True\n"
     ]
    }
   ],
   "source": [
    "#9\n",
    "#Test if two arrays are element-wise equal within a tolerance\n",
    "import numpy as np\n",
    "print(np.allclose([1e10,1e-7], [1.00001e10,1e-8]))\n",
    "print(np.allclose([1e10,1e-8], [1.00001e10,1e-9]))\n",
    "print(np.allclose([1e10,1e-8], [1.0001e10,1e-9]))\n",
    "print(np.allclose([1.0, np.nan], [1.0, np.nan]))\n",
    "print(np.allclose([1.0, np.nan], [1.0, np.nan], equal_nan=True))"
   ]
  },
  {
   "cell_type": "code",
   "execution_count": 19,
   "id": "9c63f899",
   "metadata": {
    "scrolled": true
   },
   "outputs": [
    {
     "name": "stdout",
     "output_type": "stream",
     "text": [
      "[ True False]\n",
      "[ True  True]\n",
      "[False False]\n",
      "[False  True]\n"
     ]
    }
   ],
   "source": [
    "#10\n",
    "#create an element-wise comparison (greater, greater_equal, less and less_equal) of two given arrays\n",
    "import numpy as np\n",
    "x = np.array([3, 5])\n",
    "y = np.array([2, 5])\n",
    "print(np.greater(x,y))\n",
    "print(np.greater_equal(x,y))\n",
    "print(np.less(x,y))\n",
    "print(np.less_equal(x,y))"
   ]
  },
  {
   "cell_type": "code",
   "execution_count": 20,
   "id": "001bfce0",
   "metadata": {},
   "outputs": [
    {
     "name": "stdout",
     "output_type": "stream",
     "text": [
      "[ True  True  True  True  True  True  True  True  True False]\n",
      "True\n"
     ]
    }
   ],
   "source": [
    "#11\n",
    "#create an element-wise comparison (equal, equal within a tolerance) of two given arrays\n",
    "import numpy as np\n",
    "x = np.array([72, 79, 85, 90, 150, -135, 120, -10, 60, 100])\n",
    "y = np.array([72, 79, 85, 90, 150, -135, 120, -10, 60, 100.000001])\n",
    "print(np.equal(x,y))\n",
    "print(np.allclose(x,y))"
   ]
  },
  {
   "cell_type": "code",
   "execution_count": 31,
   "id": "fa289353",
   "metadata": {},
   "outputs": [
    {
     "name": "stdout",
     "output_type": "stream",
     "text": [
      "4\n",
      "4\n",
      "16 bytes\n"
     ]
    },
    {
     "data": {
      "text/plain": [
       "dtype('int32')"
      ]
     },
     "execution_count": 31,
     "metadata": {},
     "output_type": "execute_result"
    }
   ],
   "source": [
    "#12\n",
    "#create an array with the values 1, 7, 13, 105 and determine the size of the memory occupied by the array\n",
    "import numpy as np\n",
    "a=np.array([1,7,13,105])\n",
    "print(a.size)\n",
    "print(a.itemsize)\n",
    "print(\"%d bytes\"%(a.size*a.itemsize))\n",
    "\n",
    "\n",
    "a.dtype"
   ]
  },
  {
   "cell_type": "code",
   "execution_count": 41,
   "id": "51ce721d",
   "metadata": {},
   "outputs": [
    {
     "name": "stdout",
     "output_type": "stream",
     "text": [
      "[0 0 0 0 0 0 0 0 0 0]\n",
      "[1 1 1 1 1 1 1 1 1 1]\n",
      "[5 5 5 5 5 5 5 5 5 5]\n"
     ]
    }
   ],
   "source": [
    "#13\n",
    "#create an array of 10 zeros,10 ones, 10 fives\n",
    "import numpy as np\n",
    "a=np.zeros(10,dtype=int)\n",
    "b=np.ones(10,dtype=int)\n",
    "c=np.full((10),5,dtype=int)\n",
    "print(a)\n",
    "print(b)\n",
    "print(c)"
   ]
  },
  {
   "cell_type": "code",
   "execution_count": 44,
   "id": "866ab092",
   "metadata": {},
   "outputs": [
    {
     "name": "stdout",
     "output_type": "stream",
     "text": [
      "[30 31 32 33 34 35 36 37 38 39 40 41 42 43 44 45 46 47 48 49 50 51 52 53\n",
      " 54 55 56 57 58 59 60 61 62 63 64 65 66 67 68 69 70]\n"
     ]
    }
   ],
   "source": [
    "#14\n",
    "#create an array of the integers from 30 to70\n",
    "import numpy as np \n",
    "a=np.arange(30,71)\n",
    "print(a)"
   ]
  },
  {
   "cell_type": "code",
   "execution_count": 45,
   "id": "ee074bc2",
   "metadata": {},
   "outputs": [
    {
     "name": "stdout",
     "output_type": "stream",
     "text": [
      "[30 32 34 36 38 40 42 44 46 48 50 52 54 56 58 60 62 64 66 68 70]\n"
     ]
    }
   ],
   "source": [
    "#15\n",
    "#create an array of the even number from 30 to 70\n",
    "import numpy as np \n",
    "a=np.arange(30,71,2)\n",
    "print(a)"
   ]
  },
  {
   "cell_type": "code",
   "execution_count": 51,
   "id": "bcb6865a",
   "metadata": {},
   "outputs": [
    {
     "name": "stdout",
     "output_type": "stream",
     "text": [
      "[[1 2 3]\n",
      " [4 5 6]\n",
      " [7 8 9]]\n"
     ]
    }
   ],
   "source": [
    "#16\n",
    "#create a 3x3 matrix\n",
    "import numpy as np\n",
    "a=np.arange(1,10).reshape(3,3)\n",
    "print(a)"
   ]
  },
  {
   "cell_type": "code",
   "execution_count": 55,
   "id": "83a5b8a7",
   "metadata": {},
   "outputs": [
    {
     "name": "stdout",
     "output_type": "stream",
     "text": [
      "[0.46908913]\n"
     ]
    }
   ],
   "source": [
    "#17\n",
    "#generate a random number between 0 and 1\n",
    "import numpy as np\n",
    "a=np.random.normal(0,1,1)\n",
    "print(a)"
   ]
  },
  {
   "cell_type": "code",
   "execution_count": 57,
   "id": "fd080f06",
   "metadata": {
    "scrolled": true
   },
   "outputs": [
    {
     "name": "stdout",
     "output_type": "stream",
     "text": [
      "[-0.71732259 -0.58235085 -0.90718168  0.96057479  0.09564399 -0.17511837\n",
      " -0.36843847 -1.29338384  0.58126754 -0.92574857 -2.3086104  -1.08626969\n",
      " -0.2595359   0.17143995  0.49710752]\n"
     ]
    }
   ],
   "source": [
    "#18\n",
    "#generate an array of 15 random numbers from a standard normal distribution\n",
    "import numpy as np\n",
    "a=np.random.normal(0,1,15)\n",
    "print(a)"
   ]
  },
  {
   "cell_type": "code",
   "execution_count": 61,
   "id": "d243097c",
   "metadata": {},
   "outputs": [
    {
     "name": "stdout",
     "output_type": "stream",
     "text": [
      "[16 17 18 19 20 21 22 23 24 25 26 27 28 29 30 31 32 33 34 35 36 37 38 39\n",
      " 40 41 42 43 44 45 46 47 48 49 50 51 52 53 54]\n"
     ]
    }
   ],
   "source": [
    "#19\n",
    "#create a vector with values ranging from 15 to 55 and print all values except the first and last\n",
    "import numpy as np\n",
    "a=np.arange(15,55)\n",
    "print(a[1::])"
   ]
  },
  {
   "cell_type": "code",
   "execution_count": 69,
   "id": "5cd1b5b9",
   "metadata": {},
   "outputs": [
    {
     "name": "stdout",
     "output_type": "stream",
     "text": [
      "[[ 0  1  2  3]\n",
      " [ 4  5  6  7]\n",
      " [ 8  9 10 11]]\n",
      "\n",
      "0 1 2 3 4 5 6 7 8 9 10 11 "
     ]
    }
   ],
   "source": [
    "#20\n",
    "# create a 3X4 array using and iterate over it\n",
    "import numpy as np\n",
    "a=np.arange(0,12).reshape(3,4)\n",
    "print(a)\n",
    "print()\n",
    "for x in np.nditer(a):\n",
    "    print(x,end=' ')"
   ]
  },
  {
   "cell_type": "code",
   "execution_count": 70,
   "id": "02234066",
   "metadata": {},
   "outputs": [
    {
     "name": "stdout",
     "output_type": "stream",
     "text": [
      "[ 5 10 15 20 25 30 35 40 45 50]\n"
     ]
    }
   ],
   "source": [
    "#21\n",
    "#create a vector of length 10 with values evenly distributed between 5 and 50\n",
    "import numpy as np\n",
    "a=np.linspace(5,50,10,dtype=int)\n",
    "print(a)"
   ]
  },
  {
   "cell_type": "code",
   "execution_count": 71,
   "id": "50581ffa",
   "metadata": {},
   "outputs": [
    {
     "name": "stdout",
     "output_type": "stream",
     "text": [
      "[  0   1   2   3   4   5   6   7   8  -9 -10 -11 -12 -13 -14 -15  16  17\n",
      "  18  19  20]\n"
     ]
    }
   ],
   "source": [
    "#22\n",
    "#create a vector with values from 0 to 20 and change the sign of the numbers in the range from 9 to 15\n",
    "import numpy as np\n",
    "a=np.arange(21)\n",
    "a[(a>=9)&(a<=15)]*=-1\n",
    "print(a)"
   ]
  },
  {
   "cell_type": "code",
   "execution_count": 87,
   "id": "04acb3d1",
   "metadata": {},
   "outputs": [
    {
     "name": "stdout",
     "output_type": "stream",
     "text": [
      "[10  3  6  7  4]\n"
     ]
    }
   ],
   "source": [
    "#23\n",
    "#create a vector of length 5 filled with arbitrary integers from 0 to 10\n",
    "import numpy as np\n",
    "a=np.random.randint(0,11,5)\n",
    "print(a)"
   ]
  },
  {
   "cell_type": "code",
   "execution_count": 90,
   "id": "ddf19d64",
   "metadata": {},
   "outputs": [
    {
     "name": "stdout",
     "output_type": "stream",
     "text": [
      "[1 8 3 5]\n",
      "[ 9 10  7  7]\n",
      "[ 9 80 21 35]\n"
     ]
    }
   ],
   "source": [
    "#24\n",
    "#multiply the values of two given vectors\n",
    "import numpy as np\n",
    "x = np.array([1, 8, 3, 5])\n",
    "print(x)\n",
    "y= np.random.randint(0, 11, 4)\n",
    "print(y)\n",
    "print(x*y)"
   ]
  },
  {
   "cell_type": "code",
   "execution_count": 91,
   "id": "034ad938",
   "metadata": {},
   "outputs": [
    {
     "name": "stdout",
     "output_type": "stream",
     "text": [
      "[[10 11 12 13]\n",
      " [14 15 16 17]\n",
      " [18 19 20 21]]\n"
     ]
    }
   ],
   "source": [
    "#25\n",
    "#create a 3x4 matrix filled with values from 10 to 21\n",
    "import numpy as np\n",
    "a=np.arange(10,22).reshape(3,4)\n",
    "print(a)"
   ]
  },
  {
   "cell_type": "code",
   "execution_count": 93,
   "id": "38084d68",
   "metadata": {
    "scrolled": true
   },
   "outputs": [
    {
     "name": "stdout",
     "output_type": "stream",
     "text": [
      "(3, 4)\n"
     ]
    }
   ],
   "source": [
    "#26\n",
    "#find the number of rows and columns of a given matrix\n",
    "import numpy as np\n",
    "m= np.arange(10,22).reshape((3, 4))\n",
    "print(m.shape)"
   ]
  },
  {
   "cell_type": "code",
   "execution_count": 98,
   "id": "bcb054a5",
   "metadata": {
    "scrolled": true
   },
   "outputs": [
    {
     "name": "stdout",
     "output_type": "stream",
     "text": [
      "[[1. 0. 0.]\n",
      " [0. 1. 0.]\n",
      " [0. 0. 1.]]\n"
     ]
    }
   ],
   "source": [
    "#27\n",
    "#create a 3x3 identity matrix, i.e. diagonal elements are 1, the rest are 0\n",
    "import numpy as np\n",
    "a=np.eye(3)\n",
    "print(a)"
   ]
  },
  {
   "cell_type": "code",
   "execution_count": 107,
   "id": "2c8f6081",
   "metadata": {},
   "outputs": [
    {
     "name": "stdout",
     "output_type": "stream",
     "text": [
      "[[1. 1. 1. 1. 1. 1. 1. 1. 1. 1.]\n",
      " [1. 0. 0. 0. 0. 0. 0. 0. 0. 1.]\n",
      " [1. 0. 0. 0. 0. 0. 0. 0. 0. 1.]\n",
      " [1. 0. 0. 0. 0. 0. 0. 0. 0. 1.]\n",
      " [1. 0. 0. 0. 0. 0. 0. 0. 0. 1.]\n",
      " [1. 0. 0. 0. 0. 0. 0. 0. 0. 1.]\n",
      " [1. 0. 0. 0. 0. 0. 0. 0. 0. 1.]\n",
      " [1. 0. 0. 0. 0. 0. 0. 0. 0. 1.]\n",
      " [1. 0. 0. 0. 0. 0. 0. 0. 0. 1.]\n",
      " [1. 1. 1. 1. 1. 1. 1. 1. 1. 1.]]\n"
     ]
    }
   ],
   "source": [
    "#28\n",
    "#create a 10x10 matrix, in which the elements on the borders will be equal to 1, and inside 0\n",
    "import numpy as np\n",
    "a=np.ones((10,10))\n",
    "a[1:-1,1:-1]*=0\n",
    "print(a)\n"
   ]
  },
  {
   "cell_type": "code",
   "execution_count": 110,
   "id": "1996cbac",
   "metadata": {},
   "outputs": [
    {
     "name": "stdout",
     "output_type": "stream",
     "text": [
      "[[1 0 0 0 0]\n",
      " [0 2 0 0 0]\n",
      " [0 0 3 0 0]\n",
      " [0 0 0 4 0]\n",
      " [0 0 0 0 5]]\n"
     ]
    }
   ],
   "source": [
    "#29\n",
    "#create a 5x5 zero matrix with elements on the main diagonal equal to 1, 2, 3, 4, 5\n",
    "import numpy as np \n",
    "a=np.diag([1,2,3,4,5])\n",
    "print(a)"
   ]
  },
  {
   "cell_type": "code",
   "execution_count": 117,
   "id": "f3e14e0f",
   "metadata": {},
   "outputs": [
    {
     "name": "stdout",
     "output_type": "stream",
     "text": [
      "[[0. 1. 1. 1.]\n",
      " [1. 0. 1. 1.]\n",
      " [1. 1. 0. 1.]\n",
      " [1. 1. 1. 0.]]\n"
     ]
    }
   ],
   "source": [
    "#30\n",
    "#create a 4x4 matrix in which 0 and 1 are staggered, with zeros on the main diagonal\n",
    "import numpy as np\n",
    "a=np.ones((4,4))\n",
    "for x in range(4):\n",
    "    a[x,x]=0\n",
    "#for stager\n",
    "''''x[::2, 1::2] = 0\n",
    "x[1::2, ::2] = 0'''\n",
    "print(a)"
   ]
  },
  {
   "cell_type": "code",
   "execution_count": 3,
   "id": "359f69f2",
   "metadata": {},
   "outputs": [
    {
     "name": "stdout",
     "output_type": "stream",
     "text": [
      "[[[0.99472668 0.12306766 0.71532852]\n",
      "  [0.76118233 0.31265372 0.34982573]\n",
      "  [0.99690845 0.71005807 0.30160456]]\n",
      "\n",
      " [[0.95963649 0.34126633 0.31210251]\n",
      "  [0.36666789 0.04110252 0.42885421]\n",
      "  [0.79709819 0.12548173 0.41479621]]\n",
      "\n",
      " [[0.61265756 0.84552591 0.99241321]\n",
      "  [0.46780395 0.58033567 0.47421379]\n",
      "  [0.82560132 0.21611954 0.04257197]]]\n"
     ]
    }
   ],
   "source": [
    "#31\n",
    "#create a 3x3x3 array filled with arbitrary values\n",
    "import numpy as np\n",
    "a=np.random.random((3,3,3))\n",
    "print(a)"
   ]
  },
  {
   "cell_type": "code",
   "execution_count": 7,
   "id": "359a5768",
   "metadata": {},
   "outputs": [
    {
     "name": "stdout",
     "output_type": "stream",
     "text": [
      "[[0 1]\n",
      " [2 3]]\n",
      "\n",
      "6\n",
      "[2 4]\n",
      "[1 5]\n"
     ]
    }
   ],
   "source": [
    "#32\n",
    "#compute sum of all elements, sum of each column and sum of each row of a given array\n",
    "import numpy as np\n",
    "x = np.array([[0,1],[2,3]])\n",
    "print(x)\n",
    "print()\n",
    "print(np.sum(x))\n",
    "print(np.sum(x,axis=0))\n",
    "print(np.sum(x,axis=1))"
   ]
  },
  {
   "cell_type": "code",
   "execution_count": 9,
   "id": "7765b320",
   "metadata": {},
   "outputs": [
    {
     "name": "stdout",
     "output_type": "stream",
     "text": [
      "[4 5]\n",
      "[ 7 10]\n",
      "\n",
      "78\n"
     ]
    }
   ],
   "source": [
    "#33\n",
    "#compute the inner product of two given vectors (dot)\n",
    "import numpy as np\n",
    "x = np.array([4, 5])\n",
    "y = np.array([7, 10])\n",
    "print(x)\n",
    "print(y)\n",
    "print()\n",
    "print(np.dot(x,y))"
   ]
  },
  {
   "cell_type": "code",
   "execution_count": 10,
   "id": "ca853fd1",
   "metadata": {},
   "outputs": [
    {
     "name": "stdout",
     "output_type": "stream",
     "text": [
      "[[ 1  2  3]\n",
      " [ 4  5  6]\n",
      " [ 7  8  9]\n",
      " [10 11 12]]\n",
      "[1 1 1]\n",
      "\n",
      "[[ 2  3  4]\n",
      " [ 5  6  7]\n",
      " [ 8  9 10]\n",
      " [11 12 13]]\n"
     ]
    }
   ],
   "source": [
    "#34\n",
    "#add a vector to each row of a given matrix\n",
    "import numpy as np\n",
    "m = np.array([[1,2,3], [4,5,6], [7,8,9], [10, 11, 12]])\n",
    "v = np.array([1, 1, 1])\n",
    "print(m)\n",
    "print(v)\n",
    "print()\n",
    "addup=m+v\n",
    "print(addup)"
   ]
  },
  {
   "cell_type": "code",
   "execution_count": 11,
   "id": "3e7d4624",
   "metadata": {},
   "outputs": [
    {
     "name": "stdout",
     "output_type": "stream",
     "text": [
      "Check if 'temp_arra.npy' exists or not?\n",
      "True\n"
     ]
    }
   ],
   "source": [
    "#35\n",
    "#save a given array to a binary file\n",
    "import numpy as np\n",
    "import os\n",
    "a = np.arange(20)\n",
    "np.save('temp_arra.npy', a)\n",
    "print(\"Check if 'temp_arra.npy' exists or not?\")\n",
    "if os.path.exists('temp_arra.npy'):\n",
    "    x2 = np.load('temp_arra.npy')\n",
    "    print(np.array_equal(a, x2))"
   ]
  },
  {
   "cell_type": "code",
   "execution_count": 12,
   "id": "b165b19f",
   "metadata": {},
   "outputs": [
    {
     "name": "stdout",
     "output_type": "stream",
     "text": [
      "Original arrays:\n",
      "[0 1 2 3 4 5 6 7 8 9]\n",
      "[11 12 13 14 15 16 17 18 19]\n",
      "Load arrays from the 'temp_arra.npz' file:\n",
      "[0 1 2 3 4 5 6 7 8 9]\n",
      "[11 12 13 14 15 16 17 18 19]\n"
     ]
    }
   ],
   "source": [
    "#36\n",
    "#save two given arrays into a single file in compressed format (.npz format) and load it\n",
    "import numpy as np\n",
    "import os\n",
    "x = np.arange(10)\n",
    "y = np.arange(11, 20)\n",
    "print(\"Original arrays:\")\n",
    "print(x)\n",
    "print(y)\n",
    "np.savez('temp_arra.npz', x=x, y=y)\n",
    "print(\"Load arrays from the 'temp_arra.npz' file:\")\n",
    "with np.load('temp_arra.npz') as data:\n",
    "    x2 = data['x']\n",
    "    y2 = data['y']\n",
    "    print(x2)\n",
    "    print(y2)"
   ]
  },
  {
   "cell_type": "code",
   "execution_count": 13,
   "id": "cf284942",
   "metadata": {},
   "outputs": [
    {
     "name": "stdout",
     "output_type": "stream",
     "text": [
      "Original array:\n",
      "[[ 0  1  2]\n",
      " [ 3  4  5]\n",
      " [ 6  7  8]\n",
      " [ 9 10 11]]\n",
      "After loading, content of the text file:\n",
      "[[ 0.  1.  2.]\n",
      " [ 3.  4.  5.]\n",
      " [ 6.  7.  8.]\n",
      " [ 9. 10. 11.]]\n"
     ]
    }
   ],
   "source": [
    "#37\n",
    "#save a given array to a text file and load it\n",
    "import numpy as np\n",
    "import os\n",
    "x = np.arange(12).reshape(4, 3)\n",
    "print(\"Original array:\")\n",
    "print(x)\n",
    "header = 'col1 col2 col3'\n",
    "np.savetxt('temp.txt', x, fmt=\"%d\", header=header) \n",
    "print(\"After loading, content of the text file:\")\n",
    "result = np.loadtxt('temp.txt')\n",
    "print(result)"
   ]
  },
  {
   "cell_type": "code",
   "execution_count": 14,
   "id": "7f101143",
   "metadata": {},
   "outputs": [
    {
     "name": "stdout",
     "output_type": "stream",
     "text": [
      "Original array:\n",
      "[1 2 3 4 5 6]\n",
      "After loading, content of the text file:\n",
      "[1 2 3 4 5 6]\n",
      "True\n"
     ]
    }
   ],
   "source": [
    "#38\n",
    "#convert a given array into bytes, and load it as array\n",
    "import numpy as np\n",
    "import os\n",
    "a = np.array([1, 2, 3, 4, 5, 6])\n",
    "print(\"Original array:\")\n",
    "print(a)\n",
    "a_bytes = a.tobytes()\n",
    "a2 = np.frombuffer(a_bytes, dtype=a.dtype)\n",
    "print(\"After loading, content of the text file:\")\n",
    "print(a2)\n",
    "print(np.array_equal(a, a2))"
   ]
  },
  {
   "cell_type": "code",
   "execution_count": 16,
   "id": "f8a3bed2",
   "metadata": {},
   "outputs": [
    {
     "name": "stdout",
     "output_type": "stream",
     "text": [
      "True\n"
     ]
    }
   ],
   "source": [
    "#39\n",
    "#convert a given list into an array, then again convert it into a list. Check initial list and final list are equal or not\n",
    "import numpy as np\n",
    "a = [[1, 2], [3, 4]]\n",
    "x = np.array(a)\n",
    "al=x.tolist()\n",
    "print(a==al)"
   ]
  },
  {
   "cell_type": "code",
   "execution_count": 1,
   "id": "6c553ae1",
   "metadata": {},
   "outputs": [
    {
     "name": "stdout",
     "output_type": "stream",
     "text": [
      "Plot using mathplotlib :\n",
      "\n"
     ]
    },
    {
     "data": {
      "text/plain": [
       "<function matplotlib.pyplot.show(close=None, block=None)>"
      ]
     },
     "execution_count": 1,
     "metadata": {},
     "output_type": "execute_result"
    },
    {
     "data": {
      "image/png": "[encoded data removed]",
      "text/plain": [
       "<Figure size 432x288 with 1 Axes>"
      ]
     },
     "metadata": {
      "needs_background": "light"
     },
     "output_type": "display_data"
    }
   ],
   "source": [
    "#40\n",
    "#compute the x and y coordinates for points on a sine curve and plot the points using matplotlib\n",
    "import numpy as np\n",
    "import matplotlib.pyplot as plt\n",
    "x=np.arange(0,3*np.pi,0.2)\n",
    "y=np.sin(x)\n",
    "print(\"Plot using mathplotlib :\" )\n",
    "print()\n",
    "plt.plot(x,y)\n",
    "plt.show"
   ]
  },
  {
   "cell_type": "code",
   "execution_count": 3,
   "id": "d72f23e9",
   "metadata": {},
   "outputs": [
    {
     "name": "stdout",
     "output_type": "stream",
     "text": [
      "numpy.float32 convert to float\n",
      "<class 'numpy.float32'>\n",
      "<class 'float'>\n"
     ]
    }
   ],
   "source": [
    "#41\n",
    "#convert numpy dtype to python datatype\n",
    "import numpy as np\n",
    "print(\"numpy.float32 convert to float\")\n",
    "x= np.float32(0)\n",
    "print(type(x))\n",
    "pyvals=x.item()\n",
    "print(type(pyvals))"
   ]
  },
  {
   "cell_type": "code",
   "execution_count": 20,
   "id": "480e421d",
   "metadata": {},
   "outputs": [
    {
     "name": "stdout",
     "output_type": "stream",
     "text": [
      "[[1, 1, 0, 2], [0, 3, 0, 3], [1, 0, 4, 4]] \n",
      "\n",
      "14\n"
     ]
    }
   ],
   "source": [
    "#42\n",
    "#add element to the metrics . if the element is 0 do not add it\n",
    "import numpy as np\n",
    "def addElement(a):\n",
    "    totals=0\n",
    "    banana= np.array(a)\n",
    "    for i in range(len(banana)):\n",
    "        for j in range(len(banana[i])):\n",
    "            if banana[i][j]==0 and i <len(banana)-1:\n",
    "                banana[i+1][j]=0\n",
    "            totals+=banana[i][j]\n",
    "    return(totals)\n",
    "        \n",
    "a=[[1, 1, 0, 2],\n",
    "          [0, 3, 0, 3], \n",
    "          [1, 0, 4, 4]]\n",
    "print(a,\"\\n\")\n",
    "print(addElement(a))"
   ]
  },
  {
   "cell_type": "code",
   "execution_count": null,
   "id": "58adef7e",
   "metadata": {},
   "outputs": [],
   "source": []
  }
 ],
 "metadata": {
  "kernelspec": {
   "display_name": "Python 3",
   "language": "python",
   "name": "python3"
  },
  "language_info": {
   "codemirror_mode": {
    "name": "ipython",
    "version": 3
   },
   "file_extension": ".py",
   "mimetype": "text/x-python",
   "name": "python",
   "nbconvert_exporter": "python",
   "pygments_lexer": "ipython3",
   "version": "3.8.8"
  }
 },
 "nbformat": 4,
 "nbformat_minor": 5
}
