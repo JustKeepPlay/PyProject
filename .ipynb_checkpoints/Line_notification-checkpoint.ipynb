{
  "nbformat": 4,
  "nbformat_minor": 0,
  "metadata": {
    "colab": {
      "provenance": [],
      "authorship_tag": "ABX9TyNf5atP0dpzaWldVAlWiQpf",
      "include_colab_link": true
    },
    "kernelspec": {
      "name": "python3",
      "display_name": "Python 3"
    },
    "language_info": {
      "name": "python"
    }
  },
  "cells": [
    {
      "cell_type": "markdown",
      "metadata": {
        "id": "view-in-github",
        "colab_type": "text"
      },
      "source": [
        "<a href=\"https://colab.research.google.com/github/JustKeepPlay/PyProject/blob/main/Line_notification.ipynb\" target=\"_parent\"><img src=\"https://colab.research.google.com/assets/colab-badge.svg\" alt=\"Open In Colab\"/></a>"
      ]
    },
    {
      "cell_type": "code",
      "execution_count": null,
      "metadata": {
        "colab": {
          "base_uri": "https://localhost:8080/"
        },
        "id": "7R5XMz7VX7Ta",
        "outputId": "2623be29-4967-463e-ace4-b588c0fb4ee0"
      },
      "outputs": [
        {
          "output_type": "stream",
          "name": "stdout",
          "text": [
            "Looking in indexes: https://pypi.org/simple, https://us-python.pkg.dev/colab-wheels/public/simple/\n",
            "Collecting songline\n",
            "  Downloading songline-0.0.1.tar.gz (2.2 kB)\n",
            "Requirement already satisfied: requests in /usr/local/lib/python3.7/dist-packages (from songline) (2.23.0)\n",
            "Requirement already satisfied: chardet<4,>=3.0.2 in /usr/local/lib/python3.7/dist-packages (from requests->songline) (3.0.4)\n",
            "Requirement already satisfied: idna<3,>=2.5 in /usr/local/lib/python3.7/dist-packages (from requests->songline) (2.10)\n",
            "Requirement already satisfied: urllib3!=1.25.0,!=1.25.1,<1.26,>=1.21.1 in /usr/local/lib/python3.7/dist-packages (from requests->songline) (1.24.3)\n",
            "Requirement already satisfied: certifi>=2017.4.17 in /usr/local/lib/python3.7/dist-packages (from requests->songline) (2022.6.15)\n",
            "Building wheels for collected packages: songline\n",
            "  Building wheel for songline (setup.py) ... \u001b[?25l\u001b[?25hdone\n",
            "  Created wheel for songline: filename=songline-0.0.1-py3-none-any.whl size=2427 sha256=6c700617dd79b264ad2da6eba7dfa05707f354ce111e70fe7545c41d2ef7d474\n",
            "  Stored in directory: /root/.cache/pip/wheels/eb/94/d6/e64187abb8f60812b10b6cd40d34ba9aa13367656fc1c023d7\n",
            "Successfully built songline\n",
            "Installing collected packages: songline\n",
            "Successfully installed songline-0.0.1\n"
          ]
        }
      ],
      "source": [
        "pip install songline"
      ]
    },
    {
      "cell_type": "code",
      "source": [
        "import songline\n",
        "token = 'FhfrIlTGRL11cRwuL3ZkAAZVbDgViW2Nfhpzn1pieV3'\n",
        "messenger = songline.Sendline(token)"
      ],
      "metadata": {
        "colab": {
          "base_uri": "https://localhost:8080/"
        },
        "id": "zFCrebndX-to",
        "outputId": "cc9a802d-ed89-48aa-f56a-06dd9d715826"
      },
      "execution_count": null,
      "outputs": [
        {
          "output_type": "execute_result",
          "data": {
            "text/plain": [
              "<Response [200]>"
            ]
          },
          "metadata": {},
          "execution_count": 3
        }
      ]
    },
    {
      "cell_type": "code",
      "source": [
        "messenger.sendtext('เช็คชีพจร ว่ายังอยู่ดีกันป่าว')"
      ],
      "metadata": {
        "colab": {
          "base_uri": "https://localhost:8080/"
        },
        "id": "FxfZJ6YQYhd9",
        "outputId": "8fd21097-5a5a-428f-de9f-abcf951ed769"
      },
      "execution_count": null,
      "outputs": [
        {
          "output_type": "execute_result",
          "data": {
            "text/plain": [
              "<Response [200]>"
            ]
          },
          "metadata": {},
          "execution_count": 4
        }
      ]
    },
    {
      "cell_type": "code",
      "source": [
        "messenger.sendimage('https://www.researchgate.net/profile/Manoel-Horta-Ribeiro/publication/322221540/figure/fig7/AS:669652023783432@1536668892340/Groyper-an-illustration-of-Pepe-the-Frog-which-was-present-in-several-hateful-users.ppm')"
      ],
      "metadata": {
        "id": "VCjXjcBwakKw",
        "outputId": "95c7936b-57ed-4a60-a048-24fba3380d54",
        "colab": {
          "base_uri": "https://localhost:8080/"
        }
      },
      "execution_count": null,
      "outputs": [
        {
          "output_type": "execute_result",
          "data": {
            "text/plain": [
              "<Response [200]>"
            ]
          },
          "metadata": {},
          "execution_count": 5
        }
      ]
    }
  ]
}