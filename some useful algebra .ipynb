{
 "cells": [
  {
   "cell_type": "markdown",
   "id": "ffa0631c",
   "metadata": {},
   "source": [
    " # 1.Even/Odd Number"
   ]
  },
  {
   "cell_type": "code",
   "execution_count": 2,
   "id": "c0e9619d",
   "metadata": {},
   "outputs": [
    {
     "name": "stdout",
     "output_type": "stream",
     "text": [
      "this number is odd\n"
     ]
    }
   ],
   "source": [
    "#finding even and odd number\n",
    "n=101\n",
    "if (n%2==0):\n",
    "    print(\"this number is Even\")\n",
    "else :\n",
    "    print(\"this number is odd\")"
   ]
  },
  {
   "cell_type": "markdown",
   "id": "7baa0ade",
   "metadata": {},
   "source": [
    "# 2. Fibonacci series"
   ]
  },
  {
   "cell_type": "code",
   "execution_count": 84,
   "id": "06113446",
   "metadata": {},
   "outputs": [
    {
     "name": "stdout",
     "output_type": "stream",
     "text": [
      "0\n",
      "1\n",
      "1\n",
      "2\n",
      "3\n",
      "5\n",
      "8\n",
      "13\n",
      "21\n",
      "34\n"
     ]
    }
   ],
   "source": [
    "#sum of previous 2 number and always start with 0 and 1\n",
    "n=int(10)\n",
    "a=0\n",
    "b=1\n",
    "print(a)\n",
    "print(b)\n",
    "for i in range(2,n):\n",
    "    tmp=a+b\n",
    "    a=b\n",
    "    b=tmp\n",
    "    print(tmp)"
   ]
  },
  {
   "cell_type": "markdown",
   "id": "ac9a98eb",
   "metadata": {},
   "source": [
    "# 3. Fibonacci 'N'th number"
   ]
  },
  {
   "cell_type": "code",
   "execution_count": 86,
   "id": "d891a317",
   "metadata": {},
   "outputs": [
    {
     "name": "stdout",
     "output_type": "stream",
     "text": [
      "218922995834555169026\n"
     ]
    }
   ],
   "source": [
    "#finding prime number at n position\n",
    "n=100\n",
    "if(n<3):\n",
    "    print(n-1)\n",
    "else:\n",
    "    a=0\n",
    "    b=1\n",
    "    for i in range(2,n):\n",
    "        tmp=a+b\n",
    "        a=b\n",
    "        b=tmp\n",
    "    print(tmp)"
   ]
  },
  {
   "cell_type": "markdown",
   "id": "7ccc670f",
   "metadata": {},
   "source": [
    "# 4. Prime number"
   ]
  },
  {
   "cell_type": "code",
   "execution_count": 7,
   "id": "17370263",
   "metadata": {},
   "outputs": [
    {
     "name": "stdout",
     "output_type": "stream",
     "text": [
      "71 is prime number\n"
     ]
    }
   ],
   "source": [
    "#finding prime number\n",
    "n=71\n",
    "for i in range(2,n):\n",
    "    if(n%i==0):\n",
    "        print(n,\"is not prime number\")\n",
    "        break\n",
    "    else:\n",
    "        print(n,\"is prime number\")\n",
    "        break"
   ]
  },
  {
   "cell_type": "markdown",
   "id": "092d1895",
   "metadata": {},
   "source": [
    "# 5. Palindrome number"
   ]
  },
  {
   "cell_type": "code",
   "execution_count": 90,
   "id": "7c075164",
   "metadata": {},
   "outputs": [
    {
     "name": "stdout",
     "output_type": "stream",
     "text": [
      "222 is palindrome\n"
     ]
    }
   ],
   "source": [
    "# those number whose original and reverse number are equal \n",
    "n=222\n",
    "r=0\n",
    "o=n\n",
    "while n>0:\n",
    "    r*=10\n",
    "    r+=n%10\n",
    "    n=n//10\n",
    "if o==r :\n",
    "    print(o,\"is palindrome\")\n",
    "else:\n",
    "    print(o,\"is not palindrome\")\n"
   ]
  },
  {
   "cell_type": "markdown",
   "id": "b9146de9",
   "metadata": {},
   "source": [
    "# 6. Binary Palindrome Number"
   ]
  },
  {
   "cell_type": "code",
   "execution_count": 11,
   "id": "938af3b6",
   "metadata": {},
   "outputs": [
    {
     "name": "stdout",
     "output_type": "stream",
     "text": [
      "5 is palindrome\n"
     ]
    }
   ],
   "source": [
    "# those number whose original and reverse binary are equal\n",
    "n=5\n",
    "b=bin(n)[2:]\n",
    "r=b[::-1]\n",
    "if b==r:\n",
    "    print(n,\"is palindrome\")\n",
    "else:\n",
    "    print(n,\"is not palindrome\")"
   ]
  },
  {
   "cell_type": "markdown",
   "id": "040f974b",
   "metadata": {},
   "source": [
    "# 7.Armstrong number"
   ]
  },
  {
   "cell_type": "code",
   "execution_count": 81,
   "id": "18df394f",
   "metadata": {},
   "outputs": [
    {
     "name": "stdout",
     "output_type": "stream",
     "text": [
      "1 is Armstrong number\n",
      "1634 is Armstrong number\n",
      "8208 is Armstrong number\n",
      "9474 is Armstrong number\n"
     ]
    }
   ],
   "source": [
    "# those number whose each digit's cube's sum is equal to the number\n",
    "# for example 153 = 1^3 + 5^3 + 3^3 = 1 + 125 + 27 = 153\n",
    "\n",
    "#finding Armstrong number in 10**n digit\n",
    "import math\n",
    "num=int(input(\"Enter digit of number : \"))\n",
    "n=pow(10,num)\n",
    "dig=0\n",
    "for i in range(1,n):\n",
    "    sum=0\n",
    "    tmp=i\n",
    "    while tmp>0:\n",
    "        sum+=pow(tmp%10,math.log10(n))\n",
    "        tmp=tmp//10\n",
    "    if sum==i:\n",
    "            print(i,\"is Armstrong number\")\n"
   ]
  },
  {
   "cell_type": "code",
   "execution_count": 58,
   "id": "817f9fe4",
   "metadata": {},
   "outputs": [
    {
     "name": "stdout",
     "output_type": "stream",
     "text": [
      "407 is Armstrong number\n"
     ]
    }
   ],
   "source": [
    "#Checking for Armstrong number\n",
    "n=407\n",
    "sum=0\n",
    "tmp=n\n",
    "while n>0 :\n",
    "    sum+=(n%10)**3\n",
    "    n=n//10\n",
    "if sum==tmp :\n",
    "    print(tmp,\"is Armstrong number\")   \n",
    "else:\n",
    "    print(tmp,\"is not Armstrong number\") "
   ]
  },
  {
   "cell_type": "markdown",
   "id": "550644e9",
   "metadata": {},
   "source": []
  },
  {
   "cell_type": "markdown",
   "id": "7c9dc537",
   "metadata": {},
   "source": [
    "# 8. Reverse"
   ]
  },
  {
   "cell_type": "code",
   "execution_count": 1,
   "id": "36f5c525",
   "metadata": {},
   "outputs": [],
   "source": [
    "#the number which is exact opposite of the original number is called a reverse number\n",
    "# for example 123 = 321 , 456 = 654 , 789 = 978"
   ]
  },
  {
   "cell_type": "code",
   "execution_count": 6,
   "id": "e83d33a5",
   "metadata": {},
   "outputs": [
    {
     "name": "stdout",
     "output_type": "stream",
     "text": [
      "987654321 is reverse number\n"
     ]
    }
   ],
   "source": [
    "n=123456789\n",
    "r=0\n",
    "while n:\n",
    "    r*=10\n",
    "    r+=n%10\n",
    "    n//=10\n",
    "print(r,\"is reverse number\")"
   ]
  },
  {
   "cell_type": "markdown",
   "id": "ac82fe44",
   "metadata": {},
   "source": [
    "# 9. Factorial number"
   ]
  },
  {
   "cell_type": "code",
   "execution_count": 7,
   "id": "d065d839",
   "metadata": {},
   "outputs": [],
   "source": [
    "# the number which is product of all decending integer till is 1 called factorial number\n",
    "# for example 5! = 5*4*3*2*1 = 120 "
   ]
  },
  {
   "cell_type": "code",
   "execution_count": 8,
   "id": "fa87fd04",
   "metadata": {},
   "outputs": [
    {
     "name": "stdout",
     "output_type": "stream",
     "text": [
      "120\n"
     ]
    }
   ],
   "source": [
    "n=5\n",
    "f=1     #factorial of 1 is always 1\n",
    "for i in range(1,n+1):\n",
    "    f*=i\n",
    "print(f)"
   ]
  },
  {
   "cell_type": "code",
   "execution_count": null,
   "id": "76877a86",
   "metadata": {},
   "outputs": [],
   "source": []
  }
 ],
 "metadata": {
  "kernelspec": {
   "display_name": "Python 3",
   "language": "python",
   "name": "python3"
  },
  "language_info": {
   "codemirror_mode": {
    "name": "ipython",
    "version": 3
   },
   "file_extension": ".py",
   "mimetype": "text/x-python",
   "name": "python",
   "nbconvert_exporter": "python",
   "pygments_lexer": "ipython3",
   "version": "3.8.8"
  }
 },
 "nbformat": 4,
 "nbformat_minor": 5
}
