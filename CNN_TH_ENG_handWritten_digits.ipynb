{
  "nbformat": 4,
  "nbformat_minor": 0,
  "metadata": {
    "colab": {
      "provenance": [],
      "include_colab_link": true
    },
    "kernelspec": {
      "name": "python3",
      "display_name": "Python 3"
    },
    "language_info": {
      "name": "python"
    }
  },
  "cells": [
    {
      "cell_type": "markdown",
      "metadata": {
        "id": "view-in-github",
        "colab_type": "text"
      },
      "source": [
        "<a href=\"https://colab.research.google.com/github/JustKeepPlay/PyProject/blob/main/CNN_TH_ENG_handWritten_digits.ipynb\" target=\"_parent\"><img src=\"https://colab.research.google.com/assets/colab-badge.svg\" alt=\"Open In Colab\"/></a>"
      ]
    },
    {
      "cell_type": "markdown",
      "source": [
        "# **Import and Pip all Install**"
      ],
      "metadata": {
        "id": "4cw3RdFNPL_j"
      }
    },
    {
      "cell_type": "code",
      "execution_count": null,
      "metadata": {
        "colab": {
          "base_uri": "https://localhost:8080/"
        },
        "id": "LkDTUPE6-qYt",
        "outputId": "703a5fd7-d535-42d0-d330-86f8698e1270"
      },
      "outputs": [
        {
          "output_type": "stream",
          "name": "stdout",
          "text": [
            "Looking in indexes: https://pypi.org/simple, https://us-python.pkg.dev/colab-wheels/public/simple/\n",
            "Requirement already satisfied: tensorflow in /usr/local/lib/python3.9/dist-packages (2.11.0)\n",
            "Requirement already satisfied: google-pasta>=0.1.1 in /usr/local/lib/python3.9/dist-packages (from tensorflow) (0.2.0)\n",
            "Requirement already satisfied: libclang>=13.0.0 in /usr/local/lib/python3.9/dist-packages (from tensorflow) (15.0.6.1)\n",
            "Requirement already satisfied: packaging in /usr/local/lib/python3.9/dist-packages (from tensorflow) (23.0)\n",
            "Requirement already satisfied: flatbuffers>=2.0 in /usr/local/lib/python3.9/dist-packages (from tensorflow) (23.3.3)\n",
            "Requirement already satisfied: opt-einsum>=2.3.2 in /usr/local/lib/python3.9/dist-packages (from tensorflow) (3.3.0)\n",
            "Requirement already satisfied: grpcio<2.0,>=1.24.3 in /usr/local/lib/python3.9/dist-packages (from tensorflow) (1.51.3)\n",
            "Requirement already satisfied: setuptools in /usr/local/lib/python3.9/dist-packages (from tensorflow) (63.4.3)\n",
            "Requirement already satisfied: tensorboard<2.12,>=2.11 in /usr/local/lib/python3.9/dist-packages (from tensorflow) (2.11.2)\n",
            "Requirement already satisfied: gast<=0.4.0,>=0.2.1 in /usr/local/lib/python3.9/dist-packages (from tensorflow) (0.4.0)\n",
            "Requirement already satisfied: h5py>=2.9.0 in /usr/local/lib/python3.9/dist-packages (from tensorflow) (3.8.0)\n",
            "Requirement already satisfied: keras<2.12,>=2.11.0 in /usr/local/lib/python3.9/dist-packages (from tensorflow) (2.11.0)\n",
            "Requirement already satisfied: absl-py>=1.0.0 in /usr/local/lib/python3.9/dist-packages (from tensorflow) (1.4.0)\n",
            "Requirement already satisfied: numpy>=1.20 in /usr/local/lib/python3.9/dist-packages (from tensorflow) (1.22.4)\n",
            "Requirement already satisfied: tensorflow-estimator<2.12,>=2.11.0 in /usr/local/lib/python3.9/dist-packages (from tensorflow) (2.11.0)\n",
            "Requirement already satisfied: typing-extensions>=3.6.6 in /usr/local/lib/python3.9/dist-packages (from tensorflow) (4.5.0)\n",
            "Requirement already satisfied: termcolor>=1.1.0 in /usr/local/lib/python3.9/dist-packages (from tensorflow) (2.2.0)\n",
            "Requirement already satisfied: wrapt>=1.11.0 in /usr/local/lib/python3.9/dist-packages (from tensorflow) (1.15.0)\n",
            "Requirement already satisfied: protobuf<3.20,>=3.9.2 in /usr/local/lib/python3.9/dist-packages (from tensorflow) (3.19.6)\n",
            "Requirement already satisfied: six>=1.12.0 in /usr/local/lib/python3.9/dist-packages (from tensorflow) (1.15.0)\n",
            "Requirement already satisfied: tensorflow-io-gcs-filesystem>=0.23.1 in /usr/local/lib/python3.9/dist-packages (from tensorflow) (0.31.0)\n",
            "Requirement already satisfied: astunparse>=1.6.0 in /usr/local/lib/python3.9/dist-packages (from tensorflow) (1.6.3)\n",
            "Requirement already satisfied: wheel<1.0,>=0.23.0 in /usr/local/lib/python3.9/dist-packages (from astunparse>=1.6.0->tensorflow) (0.40.0)\n",
            "Requirement already satisfied: google-auth-oauthlib<0.5,>=0.4.1 in /usr/local/lib/python3.9/dist-packages (from tensorboard<2.12,>=2.11->tensorflow) (0.4.6)\n",
            "Requirement already satisfied: requests<3,>=2.21.0 in /usr/local/lib/python3.9/dist-packages (from tensorboard<2.12,>=2.11->tensorflow) (2.27.1)\n",
            "Requirement already satisfied: markdown>=2.6.8 in /usr/local/lib/python3.9/dist-packages (from tensorboard<2.12,>=2.11->tensorflow) (3.4.1)\n",
            "Requirement already satisfied: werkzeug>=1.0.1 in /usr/local/lib/python3.9/dist-packages (from tensorboard<2.12,>=2.11->tensorflow) (2.2.3)\n",
            "Requirement already satisfied: tensorboard-plugin-wit>=1.6.0 in /usr/local/lib/python3.9/dist-packages (from tensorboard<2.12,>=2.11->tensorflow) (1.8.1)\n",
            "Requirement already satisfied: tensorboard-data-server<0.7.0,>=0.6.0 in /usr/local/lib/python3.9/dist-packages (from tensorboard<2.12,>=2.11->tensorflow) (0.6.1)\n",
            "Requirement already satisfied: google-auth<3,>=1.6.3 in /usr/local/lib/python3.9/dist-packages (from tensorboard<2.12,>=2.11->tensorflow) (2.16.2)\n",
            "Requirement already satisfied: rsa<5,>=3.1.4 in /usr/local/lib/python3.9/dist-packages (from google-auth<3,>=1.6.3->tensorboard<2.12,>=2.11->tensorflow) (4.9)\n",
            "Requirement already satisfied: cachetools<6.0,>=2.0.0 in /usr/local/lib/python3.9/dist-packages (from google-auth<3,>=1.6.3->tensorboard<2.12,>=2.11->tensorflow) (5.3.0)\n",
            "Requirement already satisfied: pyasn1-modules>=0.2.1 in /usr/local/lib/python3.9/dist-packages (from google-auth<3,>=1.6.3->tensorboard<2.12,>=2.11->tensorflow) (0.2.8)\n",
            "Requirement already satisfied: requests-oauthlib>=0.7.0 in /usr/local/lib/python3.9/dist-packages (from google-auth-oauthlib<0.5,>=0.4.1->tensorboard<2.12,>=2.11->tensorflow) (1.3.1)\n",
            "Requirement already satisfied: importlib-metadata>=4.4 in /usr/local/lib/python3.9/dist-packages (from markdown>=2.6.8->tensorboard<2.12,>=2.11->tensorflow) (6.0.0)\n",
            "Requirement already satisfied: urllib3<1.27,>=1.21.1 in /usr/local/lib/python3.9/dist-packages (from requests<3,>=2.21.0->tensorboard<2.12,>=2.11->tensorflow) (1.26.15)\n",
            "Requirement already satisfied: certifi>=2017.4.17 in /usr/local/lib/python3.9/dist-packages (from requests<3,>=2.21.0->tensorboard<2.12,>=2.11->tensorflow) (2022.12.7)\n",
            "Requirement already satisfied: charset-normalizer~=2.0.0 in /usr/local/lib/python3.9/dist-packages (from requests<3,>=2.21.0->tensorboard<2.12,>=2.11->tensorflow) (2.0.12)\n",
            "Requirement already satisfied: idna<4,>=2.5 in /usr/local/lib/python3.9/dist-packages (from requests<3,>=2.21.0->tensorboard<2.12,>=2.11->tensorflow) (3.4)\n",
            "Requirement already satisfied: MarkupSafe>=2.1.1 in /usr/local/lib/python3.9/dist-packages (from werkzeug>=1.0.1->tensorboard<2.12,>=2.11->tensorflow) (2.1.2)\n",
            "Requirement already satisfied: zipp>=0.5 in /usr/local/lib/python3.9/dist-packages (from importlib-metadata>=4.4->markdown>=2.6.8->tensorboard<2.12,>=2.11->tensorflow) (3.15.0)\n",
            "Requirement already satisfied: pyasn1<0.5.0,>=0.4.6 in /usr/local/lib/python3.9/dist-packages (from pyasn1-modules>=0.2.1->google-auth<3,>=1.6.3->tensorboard<2.12,>=2.11->tensorflow) (0.4.8)\n",
            "Requirement already satisfied: oauthlib>=3.0.0 in /usr/local/lib/python3.9/dist-packages (from requests-oauthlib>=0.7.0->google-auth-oauthlib<0.5,>=0.4.1->tensorboard<2.12,>=2.11->tensorflow) (3.2.2)\n"
          ]
        }
      ],
      "source": [
        "pip install tensorflow"
      ]
    },
    {
      "cell_type": "code",
      "source": [
        "pip install keras"
      ],
      "metadata": {
        "colab": {
          "base_uri": "https://localhost:8080/"
        },
        "id": "UB6uHEHT-tYo",
        "outputId": "09f48a4b-c62c-454a-8894-4dc70c13a7da"
      },
      "execution_count": null,
      "outputs": [
        {
          "output_type": "stream",
          "name": "stdout",
          "text": [
            "Looking in indexes: https://pypi.org/simple, https://us-python.pkg.dev/colab-wheels/public/simple/\n",
            "Requirement already satisfied: keras in /usr/local/lib/python3.9/dist-packages (2.11.0)\n"
          ]
        }
      ]
    },
    {
      "cell_type": "code",
      "source": [
        "!pip install visualkeras\n",
        "\n",
        "\n",
        "import zipfile\n",
        "\n",
        "import os\n",
        "import warnings\n",
        "import itertools\n",
        "import cv2\n",
        "import seaborn as sns\n",
        "import pandas as pd\n",
        "import numpy  as np\n",
        "from PIL import Image\n",
        "from sklearn.utils import class_weight\n",
        "from collections import Counter\n",
        "\n",
        "import tensorflow as tf\n",
        "import visualkeras\n",
        "import matplotlib.pyplot as plt\n",
        "from tensorflow.keras.optimizers import SGD\n",
        "from tensorflow.python.keras.optimizer_v2.adam import Adam\n",
        "\n",
        "from tensorflow.keras.preprocessing.image import load_img\n",
        "from tensorflow.keras.utils import plot_model\n",
        "from tensorflow.keras.layers import Dense, BatchNormalization,LayerNormalization,UnitNormalization\n",
        "from tensorflow.python.keras.models import Sequential\n",
        "from tensorflow.python.keras.layers import Dense, Flatten, Conv2D, Dropout, MaxPooling2D, AveragePooling2D\n",
        "from tensorflow.keras import layers\n",
        "from tensorflow.keras import regularizers\n",
        "from sklearn.model_selection   import train_test_split\n",
        "\n",
        "warnings.filterwarnings('ignore')\n",
        "%matplotlib inline"
      ],
      "metadata": {
        "colab": {
          "base_uri": "https://localhost:8080/"
        },
        "id": "sfKq-Hcc-ubE",
        "outputId": "1d452390-777c-4f71-b1e3-10d85360217e"
      },
      "execution_count": null,
      "outputs": [
        {
          "output_type": "stream",
          "name": "stdout",
          "text": [
            "Looking in indexes: https://pypi.org/simple, https://us-python.pkg.dev/colab-wheels/public/simple/\n",
            "Collecting visualkeras\n",
            "  Downloading visualkeras-0.0.2-py3-none-any.whl (12 kB)\n",
            "Requirement already satisfied: pillow>=6.2.0 in /usr/local/lib/python3.9/dist-packages (from visualkeras) (8.4.0)\n",
            "Requirement already satisfied: numpy>=1.18.1 in /usr/local/lib/python3.9/dist-packages (from visualkeras) (1.22.4)\n",
            "Collecting aggdraw>=1.3.11\n",
            "  Downloading aggdraw-1.3.16-cp39-cp39-manylinux_2_17_x86_64.manylinux2014_x86_64.whl (992 kB)\n",
            "\u001b[2K     \u001b[90m━━━━━━━━━━━━━━━━━━━━━━━━━━━━━━━━━━━━━━\u001b[0m \u001b[32m992.0/992.0 KB\u001b[0m \u001b[31m15.3 MB/s\u001b[0m eta \u001b[36m0:00:00\u001b[0m\n",
            "\u001b[?25hInstalling collected packages: aggdraw, visualkeras\n",
            "Successfully installed aggdraw-1.3.16 visualkeras-0.0.2\n"
          ]
        }
      ]
    },
    {
      "cell_type": "markdown",
      "source": [
        "# **Implement Data and mount Colab**"
      ],
      "metadata": {
        "id": "sY8Ft5KiPRGq"
      }
    },
    {
      "cell_type": "code",
      "source": [
        "from google.colab import drive #case mounted gdrive\n",
        "drive.mount('/content/gdrive', force_remount=False)\n",
        "import os  #case connect via OS\n",
        "os.chdir(\"/content/gdrive/\")\n",
        "os.getcwd()"
      ],
      "metadata": {
        "colab": {
          "base_uri": "https://localhost:8080/",
          "height": 54
        },
        "id": "WES0C0EC-wz8",
        "outputId": "1cf588aa-81d9-48fe-ffa8-b551865d64e2"
      },
      "execution_count": null,
      "outputs": [
        {
          "output_type": "stream",
          "name": "stdout",
          "text": [
            "Mounted at /content/gdrive\n"
          ]
        },
        {
          "output_type": "execute_result",
          "data": {
            "text/plain": [
              "'/content/gdrive'"
            ],
            "application/vnd.google.colaboratory.intrinsic+json": {
              "type": "string"
            }
          },
          "metadata": {},
          "execution_count": 4
        }
      ]
    },
    {
      "cell_type": "code",
      "source": [
        "folder_path = \"/content/gdrive/MyDrive/Colab Notebooks/dataset/Character_thai/Dataset3\"\n",
        "#TH_images = os.listdir(folder_path + '/TH/')\n",
        "TH_images = os.listdir(folder_path + '/TH2/')\n",
        "ENG_images = os.listdir(folder_path + '/ENG/')\n",
        "dataset=[]\n",
        "lab=[]\n",
        "\n",
        "for image_name in TH_images:\n",
        "    image=cv2.imread(folder_path + '/TH2/' + image_name)\n",
        "    image=Image.fromarray(image,'RGB')\n",
        "    image=image.resize((32,32))\n",
        "    dataset.append(np.array(image))\n",
        "    lab.append(0)\n",
        "\n",
        "for image_name in ENG_images:\n",
        "    image=cv2.imread(folder_path + '/ENG/' + image_name)\n",
        "    image=Image.fromarray(image,'RGB')\n",
        "    image=image.resize((32,32))\n",
        "    dataset.append(np.array(image))\n",
        "    lab.append(1)\n"
      ],
      "metadata": {
        "id": "5tyeI2QM-4rb"
      },
      "execution_count": null,
      "outputs": []
    },
    {
      "cell_type": "code",
      "source": [
        "dataset = np.array(dataset)\n",
        "lab = np.array(lab)\n",
        "print(dataset.shape, lab.shape)"
      ],
      "metadata": {
        "id": "bO38XLX9LKTh",
        "colab": {
          "base_uri": "https://localhost:8080/"
        },
        "outputId": "765d190f-fa6d-4063-a2e1-8d2817d05a64"
      },
      "execution_count": null,
      "outputs": [
        {
          "output_type": "stream",
          "name": "stdout",
          "text": [
            "(4842, 32, 32, 3) (4842,)\n"
          ]
        }
      ]
    },
    {
      "cell_type": "markdown",
      "source": [
        "# **Plot Data**"
      ],
      "metadata": {
        "id": "aHaL9tY0Pa4b"
      }
    },
    {
      "cell_type": "code",
      "source": [
        "def plot_state(state):\n",
        "    plt.figure(figsize= (12,12))\n",
        "    for i in range(1, 10, 1):\n",
        "        plt.subplot(3,3,i)\n",
        "        img = load_img(folder_path + \"/\" + state + \"/\" + os.listdir(folder_path + \"/\" + state)[i], target_size=(28, 28))\n",
        "        plt.imshow(img)\n",
        "    plt.show()"
      ],
      "metadata": {
        "id": "ZUU3IJnTNHj6"
      },
      "execution_count": null,
      "outputs": []
    },
    {
      "cell_type": "code",
      "source": [
        "plot_state('ENG')"
      ],
      "metadata": {
        "colab": {
          "base_uri": "https://localhost:8080/",
          "height": 701
        },
        "id": "k7gZssbONKBT",
        "outputId": "b43ec3d0-cf65-4059-8397-a5421be23880"
      },
      "execution_count": null,
      "outputs": [
        {
          "output_type": "display_data",
          "data": {
            "text/plain": [
              "<Figure size 864x864 with 9 Axes>"
            ],
            "image/png": "[encoded data removed]"
          },
          "metadata": {
            "needs_background": "light"
          }
        }
      ]
    },
    {
      "cell_type": "code",
      "source": [
        "plot_state('TH')"
      ],
      "metadata": {
        "colab": {
          "base_uri": "https://localhost:8080/",
          "height": 701
        },
        "id": "SmUQI-7zNXdA",
        "outputId": "69a562bc-b142-4ba3-88ed-6689234ffba7"
      },
      "execution_count": null,
      "outputs": [
        {
          "output_type": "display_data",
          "data": {
            "text/plain": [
              "<Figure size 864x864 with 9 Axes>"
            ],
            "image/png": "[encoded data removed]"
          },
          "metadata": {
            "needs_background": "light"
          }
        }
      ]
    },
    {
      "cell_type": "markdown",
      "source": [
        "# split Train and Test **data**"
      ],
      "metadata": {
        "id": "__QN3CPBThB6"
      }
    },
    {
      "cell_type": "code",
      "source": [
        "x_train, x_test, y_train, y_test = train_test_split(dataset, lab, test_size=0.3, shuffle=True, random_state=42)"
      ],
      "metadata": {
        "id": "y4DpjX3TNd9d"
      },
      "execution_count": null,
      "outputs": []
    },
    {
      "cell_type": "markdown",
      "source": [
        "# Model **CNN**"
      ],
      "metadata": {
        "id": "NsV3i4kBTmB9"
      }
    },
    {
      "cell_type": "code",
      "source": [
        "model = Sequential()\n",
        "\n",
        "model.add(Conv2D(filters=32,kernel_size=(3,3),strides=(2,2), activation=\"relu\", padding=\"valid\",input_shape=(28,28,3)))\n",
        "model.add(MaxPooling2D((2, 2)))\n",
        "#model.add(BatchNormalization())\n",
        "#model.add(LayerNormalization())\n",
        "\n",
        "model.add(Conv2D(filters=32,kernel_size=(3,3),strides=(2,2), activation=\"relu\", padding=\"valid\"))\n",
        "model.add(MaxPooling2D((2, 2)))\n",
        "\n",
        "#model.add(BatchNormalization())\n",
        "model.add(Flatten())\n",
        "\n",
        "model.add(Dense(units=64, activation='relu'))\n",
        "    # kernel_regularizer=regularizers.L1L2(l1=1e-5, l2=1e-4),\n",
        "    # bias_regularizer=regularizers.L2(1e-4),\n",
        "    # activity_regularizer=regularizers.L2(1e-5)\n",
        "\n",
        "#Regularizers is an optimization to give penalty to neuron per-layer **in this case I used it instead of Dropout\n",
        "\n",
        "model.add(Dropout(0.5))\n",
        "model.add(Dense(1, activation='sigmoid'))"
      ],
      "metadata": {
        "id": "qITcA-1uNMf-"
      },
      "execution_count": null,
      "outputs": []
    },
    {
      "cell_type": "code",
      "source": [
        "opt = Adam(learning_rate=1e-3)\n",
        "model.compile(optimizer = opt, loss='binary_crossentropy', metrics=['accuracy'])\n",
        "model.summary()"
      ],
      "metadata": {
        "colab": {
          "base_uri": "https://localhost:8080/"
        },
        "id": "63-JTHXHNkeN",
        "outputId": "9888ca07-aa43-4595-e6d9-cf4cea1c66d7"
      },
      "execution_count": null,
      "outputs": [
        {
          "output_type": "stream",
          "name": "stdout",
          "text": [
            "Model: \"sequential\"\n",
            "_________________________________________________________________\n",
            "Layer (type)                 Output Shape              Param #   \n",
            "=================================================================\n",
            "conv2d (Conv2D)              (None, 13, 13, 32)        896       \n",
            "_________________________________________________________________\n",
            "max_pooling2d (MaxPooling2D) (None, 6, 6, 32)          0         \n",
            "_________________________________________________________________\n",
            "conv2d_1 (Conv2D)            (None, 2, 2, 32)          9248      \n",
            "_________________________________________________________________\n",
            "max_pooling2d_1 (MaxPooling2 (None, 1, 1, 32)          0         \n",
            "_________________________________________________________________\n",
            "flatten (Flatten)            (None, 32)                0         \n",
            "_________________________________________________________________\n",
            "dense (Dense)                (None, 64)                2112      \n",
            "_________________________________________________________________\n",
            "dropout (Dropout)            (None, 64)                0         \n",
            "_________________________________________________________________\n",
            "dense_1 (Dense)              (None, 1)                 65        \n",
            "=================================================================\n",
            "Total params: 12,321\n",
            "Trainable params: 12,321\n",
            "Non-trainable params: 0\n",
            "_________________________________________________________________\n"
          ]
        }
      ]
    },
    {
      "cell_type": "code",
      "source": [
        "visualkeras.layered_view(model, legend=True)"
      ],
      "metadata": {
        "colab": {
          "base_uri": "https://localhost:8080/",
          "height": 149
        },
        "id": "FXSAytztNqDX",
        "outputId": "0e2b3d43-c107-4c88-d34e-7bde7fd7f98e"
      },
      "execution_count": null,
      "outputs": [
        {
          "output_type": "execute_result",
          "data": {
            "text/plain": [
              "<PIL.Image.Image image mode=RGBA size=268x132 at 0x7FBF66DDE040>"
            ],
            "image/png": "[encoded data removed]"
          },
          "metadata": {},
          "execution_count": 13
        }
      ]
    },
    {
      "cell_type": "code",
      "source": [
        "class_weights = class_weight.compute_class_weight(class_weight = \"balanced\", classes= np.unique(y_train), y= y_train)\n",
        "class_weights = dict(zip(np.unique(y_train), class_weights))\n",
        "class_weights\n",
        "#class weight"
      ],
      "metadata": {
        "colab": {
          "base_uri": "https://localhost:8080/"
        },
        "id": "O6OBUJ8mNrk5",
        "outputId": "09407d61-2a26-4761-d0cb-12303e612b0f"
      },
      "execution_count": null,
      "outputs": [
        {
          "output_type": "execute_result",
          "data": {
            "text/plain": [
              "{0: 1.243213499633162, 1: 0.8363770977295163}"
            ]
          },
          "metadata": {},
          "execution_count": 14
        }
      ]
    },
    {
      "cell_type": "markdown",
      "source": [],
      "metadata": {
        "id": "EUEcHEoM5adA"
      }
    },
    {
      "cell_type": "markdown",
      "source": [
        "# **Fit Model**"
      ],
      "metadata": {
        "id": "22HiYDR68y1s"
      }
    },
    {
      "cell_type": "code",
      "source": [
        "history = model.fit(x_train,y_train,batch_size=32 ,epochs = 10, class_weight=class_weights, validation_data=(x_test, y_test),verbose=1)"
      ],
      "metadata": {
        "colab": {
          "base_uri": "https://localhost:8080/"
        },
        "id": "Y7zUvSO3NwEP",
        "outputId": "b46949e3-5c8b-4d9e-fd8c-42a64838b98a"
      },
      "execution_count": null,
      "outputs": [
        {
          "output_type": "stream",
          "name": "stdout",
          "text": [
            "Epoch 1/10\n",
            "106/106 [==============================] - 2s 11ms/step - loss: 1.5152 - accuracy: 0.7666 - val_loss: 0.4037 - val_accuracy: 0.8747\n",
            "Epoch 2/10\n",
            "106/106 [==============================] - 1s 9ms/step - loss: 0.4137 - accuracy: 0.8775 - val_loss: 0.3000 - val_accuracy: 0.9215\n",
            "Epoch 3/10\n",
            "106/106 [==============================] - 1s 9ms/step - loss: 0.3660 - accuracy: 0.8781 - val_loss: 0.3142 - val_accuracy: 0.8926\n",
            "Epoch 4/10\n",
            "106/106 [==============================] - 1s 9ms/step - loss: 0.2918 - accuracy: 0.9174 - val_loss: 0.2012 - val_accuracy: 0.9422\n",
            "Epoch 5/10\n",
            "106/106 [==============================] - 1s 9ms/step - loss: 0.2249 - accuracy: 0.9374 - val_loss: 0.1580 - val_accuracy: 0.9594\n",
            "Epoch 6/10\n",
            "106/106 [==============================] - 1s 9ms/step - loss: 0.1690 - accuracy: 0.9549 - val_loss: 0.1904 - val_accuracy: 0.9504\n",
            "Epoch 7/10\n",
            "106/106 [==============================] - 1s 9ms/step - loss: 0.1496 - accuracy: 0.9611 - val_loss: 0.1283 - val_accuracy: 0.9656\n",
            "Epoch 8/10\n",
            "106/106 [==============================] - 1s 9ms/step - loss: 0.1131 - accuracy: 0.9696 - val_loss: 0.0937 - val_accuracy: 0.9745\n",
            "Epoch 9/10\n",
            "106/106 [==============================] - 1s 9ms/step - loss: 0.1142 - accuracy: 0.9690 - val_loss: 0.1535 - val_accuracy: 0.9491\n",
            "Epoch 10/10\n",
            "106/106 [==============================] - 2s 15ms/step - loss: 0.1105 - accuracy: 0.9652 - val_loss: 0.1398 - val_accuracy: 0.9628\n"
          ]
        }
      ]
    },
    {
      "cell_type": "markdown",
      "source": [
        "# plot Loss and **accuracy**"
      ],
      "metadata": {
        "id": "dJ2f10C8TseS"
      }
    },
    {
      "cell_type": "code",
      "source": [
        "plt.plot(history.history['loss'])\n",
        "plt.plot(history.history['val_loss'])\n",
        "plt.title('Loss')\n",
        "plt.ylabel('accuracy')\n",
        "plt.xlabel('epoch')\n",
        "plt.legend(['train loss', 'test loss'], loc = 'upper left')\n",
        "plt.show()\n",
        "\n",
        "plt.plot(history.history['accuracy'])\n",
        "plt.plot(history.history['val_accuracy'])\n",
        "plt.title('model accuracy')\n",
        "plt.ylabel('accuracy')\n",
        "plt.xlabel('epoch')\n",
        "plt.legend(['train acc', 'test acc'], loc = 'upper left')\n",
        "plt.show()\n"
      ],
      "metadata": {
        "colab": {
          "base_uri": "https://localhost:8080/",
          "height": 573
        },
        "id": "t0KXGKIZOKXw",
        "outputId": "38db8395-ac83-4447-bbdf-7492ff34363e"
      },
      "execution_count": null,
      "outputs": [
        {
          "output_type": "display_data",
          "data": {
            "text/plain": [
              "<Figure size 432x288 with 1 Axes>"
            ],
            "image/png": "[encoded data removed]"
          },
          "metadata": {
            "needs_background": "light"
          }
        },
        {
          "output_type": "display_data",
          "data": {
            "text/plain": [
              "<Figure size 432x288 with 1 Axes>"
            ],
            "image/png": "[encoded data removed]"
          },
          "metadata": {
            "needs_background": "light"
          }
        }
      ]
    },
    {
      "cell_type": "code",
      "source": [
        "results = model.evaluate(x_test, y_test)\n",
        "print('The current model achieved an accuracy of {}%!'.format(round(results[1]*100,2)))"
      ],
      "metadata": {
        "colab": {
          "base_uri": "https://localhost:8080/"
        },
        "id": "bKfvx6iBOWc-",
        "outputId": "28031ecd-c50e-4e04-9d75-c40b5856449b"
      },
      "execution_count": null,
      "outputs": [
        {
          "output_type": "stream",
          "name": "stdout",
          "text": [
            "46/46 [==============================] - 0s 6ms/step - loss: 0.1398 - accuracy: 0.9628\n",
            "The current model achieved an accuracy of 96.28%!\n"
          ]
        }
      ]
    },
    {
      "cell_type": "markdown",
      "source": [
        "# Save Model.**h5**"
      ],
      "metadata": {
        "id": "qu3Tcm-9T3Gz"
      }
    },
    {
      "cell_type": "code",
      "source": [
        "\"\"\"\n",
        "filepath='/content/gdrive/MyDrive/Colab Notebooks/Model_Ready/model2.h5'\n",
        "model.save(\n",
        "    filepath,\n",
        "    overwrite=True,\n",
        "    include_optimizer=True,\n",
        "    save_format='h5',\n",
        "    signatures=None,\n",
        "    options=None,\n",
        "    save_traces=True,\n",
        ")\n",
        "\"\"\""
      ],
      "metadata": {
        "colab": {
          "base_uri": "https://localhost:8080/",
          "height": 54
        },
        "id": "ERt0Mn9ZOX_n",
        "outputId": "a8c32272-5a84-4751-d544-9de798a997e4"
      },
      "execution_count": null,
      "outputs": [
        {
          "output_type": "execute_result",
          "data": {
            "text/plain": [
              "\"\\nfilepath='/content/gdrive/MyDrive/Colab Notebooks/Model_Ready/model2.h5'\\nmodel.save(\\n    filepath,\\n    overwrite=True,\\n    include_optimizer=True,\\n    save_format='h5',\\n    signatures=None,\\n    options=None,\\n    save_traces=True,\\n)\\n\""
            ],
            "application/vnd.google.colaboratory.intrinsic+json": {
              "type": "string"
            }
          },
          "metadata": {},
          "execution_count": 18
        }
      ]
    },
    {
      "cell_type": "markdown",
      "source": [
        "TEST\n"
      ],
      "metadata": {
        "id": "zFFZdhM9AW59"
      }
    },
    {
      "cell_type": "code",
      "source": [
        "import tensorflow as tf\n",
        "from tensorflow.keras.layers import Dense,Flatten,Dropout\n",
        "from tensorflow.keras.models import Model\n",
        "from tensorflow.keras.applications import MobileNet\n",
        "from tensorflow.keras import regularizers\n",
        "\n",
        "# Load the MobileNet model with pre-trained weights from ImageNet\n",
        "base_model = MobileNet(weights='imagenet', include_top=False, input_shape=(32, 32, 3))\n",
        "\n",
        "# Add a new fully connected layer for classification\n",
        "x = base_model.output\n",
        "x = tf.keras.layers.GlobalAveragePooling2D()(x)\n",
        "x = Dense(128,kernel_regularizer=regularizers.l2(0.01), activation='relu')(x)\n",
        "x = Dropout(0.20)(x)\n",
        "x = Dense(64,kernel_regularizer=regularizers.l2(0.01), activation='relu')(x)\n",
        "x = Dropout(0.20)(x)\n",
        "x = Dense(32,kernel_regularizer=regularizers.l2(0.01), activation='relu')(x)\n",
        "x = Dropout(0.25)(x)\n",
        "x = Flatten()(x)\n",
        "predictions = Dense(1, activation='sigmoid')(x)\n"
      ],
      "metadata": {
        "colab": {
          "base_uri": "https://localhost:8080/"
        },
        "id": "9K2-kWji9bXt",
        "outputId": "a0d8b52b-1ae1-447c-aad2-7df86add0972"
      },
      "execution_count": null,
      "outputs": [
        {
          "output_type": "stream",
          "name": "stderr",
          "text": [
            "WARNING:tensorflow:`input_shape` is undefined or non-square, or `rows` is not in [128, 160, 192, 224]. Weights for input shape (224, 224) will be loaded as the default.\n"
          ]
        }
      ]
    },
    {
      "cell_type": "code",
      "source": [
        "model = Model(inputs=base_model.input, outputs=predictions)\n",
        "model.compile(optimizer=tf.keras.optimizers.Adam(learning_rate=0.001),\n",
        "              loss='binary_crossentropy',\n",
        "              metrics=['accuracy'])"
      ],
      "metadata": {
        "id": "nD2qcTveB4PD"
      },
      "execution_count": null,
      "outputs": []
    },
    {
      "cell_type": "code",
      "source": [
        "history = model.fit(x_train, y_train, batch_size=20, epochs=50, validation_data=(x_test, y_test))"
      ],
      "metadata": {
        "colab": {
          "base_uri": "https://localhost:8080/"
        },
        "id": "-DmdUVTYB42r",
        "outputId": "05a8983c-7b18-479f-c836-900268558d6b"
      },
      "execution_count": null,
      "outputs": [
        {
          "output_type": "stream",
          "name": "stdout",
          "text": [
            "Epoch 1/50\n",
            "170/170 [==============================] - 60s 296ms/step - loss: 2.3831 - accuracy: 0.9531 - val_loss: 1.2936 - val_accuracy: 0.9546\n",
            "Epoch 2/50\n",
            "170/170 [==============================] - 49s 288ms/step - loss: 0.7641 - accuracy: 0.9867 - val_loss: 0.4404 - val_accuracy: 0.9952\n",
            "Epoch 3/50\n",
            "170/170 [==============================] - 50s 293ms/step - loss: 0.2974 - accuracy: 0.9867 - val_loss: 0.3308 - val_accuracy: 0.9264\n",
            "Epoch 4/50\n",
            "170/170 [==============================] - 48s 284ms/step - loss: 0.1337 - accuracy: 0.9941 - val_loss: 0.0912 - val_accuracy: 0.9986\n",
            "Epoch 5/50\n",
            "170/170 [==============================] - 49s 289ms/step - loss: 0.0660 - accuracy: 0.9994 - val_loss: 0.0527 - val_accuracy: 0.9993\n",
            "Epoch 6/50\n",
            "170/170 [==============================] - 50s 294ms/step - loss: 0.0592 - accuracy: 0.9959 - val_loss: 0.5197 - val_accuracy: 0.8266\n",
            "Epoch 7/50\n",
            "170/170 [==============================] - 48s 285ms/step - loss: 0.0699 - accuracy: 0.9947 - val_loss: 0.0532 - val_accuracy: 0.9986\n",
            "Epoch 8/50\n",
            "170/170 [==============================] - 50s 296ms/step - loss: 0.0370 - accuracy: 0.9982 - val_loss: 0.0410 - val_accuracy: 0.9986\n",
            "Epoch 9/50\n",
            "170/170 [==============================] - 49s 288ms/step - loss: 0.0525 - accuracy: 0.9950 - val_loss: 0.0585 - val_accuracy: 0.9993\n",
            "Epoch 10/50\n",
            "170/170 [==============================] - 50s 292ms/step - loss: 0.0316 - accuracy: 0.9988 - val_loss: 0.0286 - val_accuracy: 0.9993\n",
            "Epoch 11/50\n",
            "170/170 [==============================] - 50s 296ms/step - loss: 0.0234 - accuracy: 0.9997 - val_loss: 0.0301 - val_accuracy: 0.9993\n",
            "Epoch 12/50\n",
            "170/170 [==============================] - 50s 291ms/step - loss: 0.0298 - accuracy: 0.9988 - val_loss: 0.0586 - val_accuracy: 0.9931\n",
            "Epoch 13/50\n",
            "170/170 [==============================] - 51s 297ms/step - loss: 0.1215 - accuracy: 0.9779 - val_loss: 0.0388 - val_accuracy: 0.9986\n",
            "Epoch 14/50\n",
            "170/170 [==============================] - 49s 290ms/step - loss: 0.0703 - accuracy: 0.9920 - val_loss: 0.0490 - val_accuracy: 0.9993\n",
            "Epoch 15/50\n",
            "170/170 [==============================] - 51s 300ms/step - loss: 0.0271 - accuracy: 0.9991 - val_loss: 0.0281 - val_accuracy: 0.9993\n",
            "Epoch 16/50\n",
            "170/170 [==============================] - 48s 285ms/step - loss: 0.0334 - accuracy: 0.9973 - val_loss: 0.0265 - val_accuracy: 0.9993\n",
            "Epoch 17/50\n",
            "170/170 [==============================] - 50s 297ms/step - loss: 0.0257 - accuracy: 0.9991 - val_loss: 0.0672 - val_accuracy: 0.9972\n",
            "Epoch 18/50\n",
            "170/170 [==============================] - 50s 297ms/step - loss: 0.0366 - accuracy: 0.9968 - val_loss: 0.2878 - val_accuracy: 0.8885\n",
            "Epoch 19/50\n",
            "170/170 [==============================] - 51s 298ms/step - loss: 0.0613 - accuracy: 0.9914 - val_loss: 0.1076 - val_accuracy: 0.9759\n",
            "Epoch 20/50\n",
            "170/170 [==============================] - 50s 295ms/step - loss: 0.0283 - accuracy: 0.9985 - val_loss: 0.0429 - val_accuracy: 0.9993\n",
            "Epoch 21/50\n",
            "170/170 [==============================] - 50s 293ms/step - loss: 0.0187 - accuracy: 0.9997 - val_loss: 0.0286 - val_accuracy: 0.9993\n",
            "Epoch 22/50\n",
            "170/170 [==============================] - 50s 296ms/step - loss: 0.0185 - accuracy: 0.9994 - val_loss: 0.0227 - val_accuracy: 0.9993\n",
            "Epoch 23/50\n",
            "170/170 [==============================] - 49s 290ms/step - loss: 0.0155 - accuracy: 0.9997 - val_loss: 0.0230 - val_accuracy: 0.9993\n",
            "Epoch 24/50\n",
            "170/170 [==============================] - 49s 290ms/step - loss: 0.0145 - accuracy: 1.0000 - val_loss: 0.0267 - val_accuracy: 0.9993\n",
            "Epoch 25/50\n",
            "170/170 [==============================] - 49s 289ms/step - loss: 0.0147 - accuracy: 1.0000 - val_loss: 0.0203 - val_accuracy: 0.9993\n",
            "Epoch 26/50\n",
            "170/170 [==============================] - 50s 293ms/step - loss: 0.0130 - accuracy: 1.0000 - val_loss: 0.0197 - val_accuracy: 0.9993\n",
            "Epoch 27/50\n",
            "170/170 [==============================] - 50s 291ms/step - loss: 0.0143 - accuracy: 1.0000 - val_loss: 0.0219 - val_accuracy: 0.9993\n",
            "Epoch 28/50\n",
            "170/170 [==============================] - 49s 289ms/step - loss: 0.0121 - accuracy: 1.0000 - val_loss: 0.0203 - val_accuracy: 0.9993\n",
            "Epoch 29/50\n",
            "170/170 [==============================] - 50s 294ms/step - loss: 0.0136 - accuracy: 1.0000 - val_loss: 0.0179 - val_accuracy: 0.9993\n",
            "Epoch 30/50\n",
            "170/170 [==============================] - 48s 282ms/step - loss: 0.0166 - accuracy: 0.9988 - val_loss: 0.0852 - val_accuracy: 0.9993\n",
            "Epoch 31/50\n",
            "170/170 [==============================] - 50s 292ms/step - loss: 0.0998 - accuracy: 0.9894 - val_loss: 0.2745 - val_accuracy: 0.8906\n",
            "Epoch 32/50\n",
            "170/170 [==============================] - 49s 290ms/step - loss: 0.0898 - accuracy: 0.9894 - val_loss: 0.0407 - val_accuracy: 0.9986\n",
            "Epoch 33/50\n",
            "170/170 [==============================] - 49s 288ms/step - loss: 0.0256 - accuracy: 0.9991 - val_loss: 0.0370 - val_accuracy: 0.9993\n",
            "Epoch 34/50\n",
            "170/170 [==============================] - 50s 292ms/step - loss: 0.0247 - accuracy: 0.9994 - val_loss: 0.0247 - val_accuracy: 0.9993\n",
            "Epoch 35/50\n",
            "170/170 [==============================] - 48s 285ms/step - loss: 0.0163 - accuracy: 1.0000 - val_loss: 0.0241 - val_accuracy: 0.9993\n",
            "Epoch 36/50\n",
            "170/170 [==============================] - 50s 296ms/step - loss: 0.0136 - accuracy: 1.0000 - val_loss: 0.0262 - val_accuracy: 0.9993\n",
            "Epoch 37/50\n",
            "170/170 [==============================] - 50s 292ms/step - loss: 0.0128 - accuracy: 1.0000 - val_loss: 0.0253 - val_accuracy: 0.9993\n",
            "Epoch 38/50\n",
            "170/170 [==============================] - 49s 291ms/step - loss: 0.0119 - accuracy: 1.0000 - val_loss: 0.0327 - val_accuracy: 1.0000\n",
            "Epoch 39/50\n",
            "170/170 [==============================] - 49s 288ms/step - loss: 0.0144 - accuracy: 0.9988 - val_loss: 0.3586 - val_accuracy: 0.9160\n",
            "Epoch 40/50\n",
            "170/170 [==============================] - 48s 284ms/step - loss: 0.0262 - accuracy: 1.0000 - val_loss: 0.0174 - val_accuracy: 0.9993\n",
            "Epoch 41/50\n",
            "170/170 [==============================] - 50s 294ms/step - loss: 0.0247 - accuracy: 0.9988 - val_loss: 0.0494 - val_accuracy: 0.9993\n",
            "Epoch 42/50\n",
            "170/170 [==============================] - 48s 283ms/step - loss: 0.0162 - accuracy: 0.9997 - val_loss: 0.0187 - val_accuracy: 0.9993\n",
            "Epoch 43/50\n",
            "170/170 [==============================] - 48s 283ms/step - loss: 0.0113 - accuracy: 1.0000 - val_loss: 0.0148 - val_accuracy: 0.9993\n",
            "Epoch 44/50\n",
            "170/170 [==============================] - 50s 295ms/step - loss: 0.0100 - accuracy: 1.0000 - val_loss: 0.0156 - val_accuracy: 0.9993\n",
            "Epoch 45/50\n",
            "170/170 [==============================] - 49s 287ms/step - loss: 0.0724 - accuracy: 0.9897 - val_loss: 0.1223 - val_accuracy: 0.9883\n",
            "Epoch 46/50\n",
            "170/170 [==============================] - 52s 304ms/step - loss: 0.0309 - accuracy: 0.9991 - val_loss: 0.0689 - val_accuracy: 0.9938\n",
            "Epoch 47/50\n",
            "170/170 [==============================] - 51s 301ms/step - loss: 0.0137 - accuracy: 1.0000 - val_loss: 0.0176 - val_accuracy: 0.9993\n",
            "Epoch 48/50\n",
            "170/170 [==============================] - 49s 286ms/step - loss: 0.0306 - accuracy: 0.9968 - val_loss: 0.6579 - val_accuracy: 0.7839\n",
            "Epoch 49/50\n",
            "170/170 [==============================] - 49s 288ms/step - loss: 0.0280 - accuracy: 0.9985 - val_loss: 0.0173 - val_accuracy: 0.9993\n",
            "Epoch 50/50\n",
            "170/170 [==============================] - 48s 284ms/step - loss: 0.0962 - accuracy: 0.9932 - val_loss: 0.0873 - val_accuracy: 0.9993\n"
          ]
        }
      ]
    },
    {
      "cell_type": "code",
      "source": [
        "results = model.evaluate(x_test, y_test)\n",
        "print('The current model achieved an accuracy of {}%!'.format(round(results[1]*100,2)))"
      ],
      "metadata": {
        "colab": {
          "base_uri": "https://localhost:8080/"
        },
        "id": "6QbD9UqGRFEo",
        "outputId": "286f09b1-28a3-4134-a3aa-0a8c8a3d6938"
      },
      "execution_count": null,
      "outputs": [
        {
          "output_type": "stream",
          "name": "stdout",
          "text": [
            "46/46 [==============================] - 4s 81ms/step - loss: 0.0873 - accuracy: 0.9993\n",
            "The current model achieved an accuracy of 99.93%!\n"
          ]
        }
      ]
    },
    {
      "cell_type": "code",
      "source": [
        "plt.plot(history.history['loss'])\n",
        "plt.plot(history.history['val_loss'])\n",
        "plt.title('Loss')\n",
        "plt.ylabel('accuracy')\n",
        "plt.xlabel('epoch')\n",
        "plt.legend(['train loss', 'test loss'], loc = 'upper left')\n",
        "plt.show()\n",
        "\n",
        "plt.plot(history.history['accuracy'])\n",
        "plt.plot(history.history['val_accuracy'])\n",
        "plt.title('model accuracy')\n",
        "plt.ylabel('accuracy')\n",
        "plt.xlabel('epoch')\n",
        "plt.legend(['train acc', 'test acc'], loc = 'upper left')\n",
        "plt.show()"
      ],
      "metadata": {
        "colab": {
          "base_uri": "https://localhost:8080/",
          "height": 573
        },
        "id": "-kNdJlLAXDIu",
        "outputId": "84532320-ab9f-4048-a5b9-f5d9c840a6fd"
      },
      "execution_count": null,
      "outputs": [
        {
          "output_type": "display_data",
          "data": {
            "text/plain": [
              "<Figure size 432x288 with 1 Axes>"
            ],
            "image/png": "[encoded data removed]"
          },
          "metadata": {
            "needs_background": "light"
          }
        },
        {
          "output_type": "display_data",
          "data": {
            "text/plain": [
              "<Figure size 432x288 with 1 Axes>"
            ],
            "image/png": "[encoded data removed]"
          },
          "metadata": {
            "needs_background": "light"
          }
        }
      ]
    }
  ]
}