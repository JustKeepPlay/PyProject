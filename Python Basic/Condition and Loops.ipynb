{
 "cells": [
  {
   "cell_type": "markdown",
   "id": "1c062477",
   "metadata": {},
   "source": [
    "# 4. Conditions and Logic"
   ]
  },
  {
   "cell_type": "code",
   "execution_count": 2,
   "id": "c70ef62e",
   "metadata": {},
   "outputs": [
    {
     "name": "stdout",
     "output_type": "stream",
     "text": [
      "What is up Neil\n"
     ]
    }
   ],
   "source": [
    "# Apply Logic using the IF statement\n",
    "\n",
    "name = 'Neil Armstrong'\n",
    "if name == 'Neil Armstrong':\n",
    "    print('What is up Neil')"
   ]
  },
  {
   "cell_type": "code",
   "execution_count": 11,
   "id": "d936619a",
   "metadata": {},
   "outputs": [
    {
     "name": "stdout",
     "output_type": "stream",
     "text": [
      "False\n"
     ]
    }
   ],
   "source": [
    "probability = 0.075\n",
    "if probability >=0.5:  #Make a conditional statement\n",
    "    print(True)\n",
    "    \n",
    "# Print out a statement is probability is below\n",
    "\n",
    "elif probability<0:\n",
    "    print('Check your probability')\n",
    "\n",
    "# Anything else\n",
    "else:\n",
    "    print(False)"
   ]
  },
  {
   "cell_type": "code",
   "execution_count": 15,
   "id": "6075f09d",
   "metadata": {},
   "outputs": [
    {
     "name": "stdout",
     "output_type": "stream",
     "text": [
      "Elon's in here\n"
     ]
    }
   ],
   "source": [
    "names = ['Neil Armstrong','Buzz Aldrin','Sally Ride','Yuri Gagarin','Elon Musk']\n",
    "if 'Elon Musk' in names :\n",
    "    print('Elon\\'s in here')"
   ]
  },
  {
   "cell_type": "markdown",
   "id": "1a63c35e",
   "metadata": {},
   "source": [
    "# 5. Loops"
   ]
  },
  {
   "cell_type": "code",
   "execution_count": 31,
   "id": "1b0a753b",
   "metadata": {},
   "outputs": [
    {
     "name": "stdout",
     "output_type": "stream",
     "text": [
      "Neil Armstrong\n",
      "Please to have you here!\n",
      "\n",
      "Buzz Aldrin\n",
      "Sup Buzz\n",
      "\n",
      "Object `continue` not found.\n",
      "Please to have you here!\n",
      "\n",
      "Sally Ride\n",
      "Please to have you here!\n",
      "\n",
      "Yuri Gagarin\n",
      "Hey Yuri\n"
     ]
    }
   ],
   "source": [
    "# for loop\n",
    "\n",
    "for name in names :\n",
    "    print(name)\n",
    "    \n",
    "    # Conditions statement block\n",
    "    if name =='Buzz Aldrin':\n",
    "        print('Sup Buzz\\n')\n",
    "        #next value in the loop\n",
    "        continue\n",
    "    elif name =='Yuri Gagarin':\n",
    "        print('Hey Yuri')\n",
    "        #break statement stop the loop\n",
    "        break\n",
    "    else:\n",
    "        #placeholder to do nothing\n",
    "        pass\n",
    "        \n",
    "    # outside of IF statement block\n",
    "    print('Please to have you here!\\n')"
   ]
  },
  {
   "cell_type": "code",
   "execution_count": 30,
   "id": "db5c7c61",
   "metadata": {},
   "outputs": [
    {
     "name": "stdout",
     "output_type": "stream",
     "text": [
      "0\n",
      "1\n",
      "2\n",
      "3\n",
      "4\n",
      "5\n",
      "6\n",
      "7\n",
      "8\n",
      "9\n"
     ]
    }
   ],
   "source": [
    "#loop x number of times\n",
    "for idx in range(10):\n",
    "    print(idx)"
   ]
  },
  {
   "cell_type": "code",
   "execution_count": 34,
   "id": "7a4b7040",
   "metadata": {},
   "outputs": [
    {
     "name": "stdout",
     "output_type": "stream",
     "text": [
      "Shuttles 1 Launch\n",
      "Shuttles 2 Launch\n",
      "Shuttles 3 Launch\n",
      "Shuttles 4 Launch\n",
      "Shuttles 5 Launch\n",
      "Shuttles 6 Launch\n",
      "Shuttles 7 Launch\n",
      "Shuttles 8 Launch\n",
      "Shuttles 9 Launch\n",
      "Shuttles 10 Launch\n",
      "All Shuttles launched\n"
     ]
    }
   ],
   "source": [
    "# create launch variable\n",
    "launched_shuttler =0\n",
    "total_shuttler =10\n",
    "\n",
    "while True:\n",
    "    #string formatting\n",
    "    print('Shuttles {} Launch'.format(launched_shuttler+1))\n",
    "    launched_shuttler +=1\n",
    "    \n",
    "    if launched_shuttler == total_shuttler:\n",
    "        print('All Shuttles launched')\n",
    "        break"
   ]
  },
  {
   "cell_type": "code",
   "execution_count": 37,
   "id": "de46ae8b",
   "metadata": {},
   "outputs": [],
   "source": [
    "astronaut = {\n",
    "    'name': 'Elon Musk',\n",
    "    'suitsize': 'Medium',\n",
    "    'allergy': 'peanuts'\n",
    "}"
   ]
  },
  {
   "cell_type": "code",
   "execution_count": 39,
   "id": "41eadf55",
   "metadata": {},
   "outputs": [
    {
     "data": {
      "text/plain": [
       "dict_keys(['name', 'suitsize', 'allergy'])"
      ]
     },
     "execution_count": 39,
     "metadata": {},
     "output_type": "execute_result"
    }
   ],
   "source": [
    "#accessing dictionary key\n",
    "astronaut.keys()"
   ]
  },
  {
   "cell_type": "code",
   "execution_count": 36,
   "id": "88962a5e",
   "metadata": {},
   "outputs": [
    {
     "name": "stdout",
     "output_type": "stream",
     "text": [
      "name\n",
      "suitsize\n",
      "allergy\n"
     ]
    }
   ],
   "source": [
    "for key in astronaut.keys():\n",
    "    print(key)"
   ]
  },
  {
   "cell_type": "code",
   "execution_count": 40,
   "id": "110dff22",
   "metadata": {},
   "outputs": [
    {
     "data": {
      "text/plain": [
       "dict_values(['Elon Musk', 'Medium', 'peanuts'])"
      ]
     },
     "execution_count": 40,
     "metadata": {},
     "output_type": "execute_result"
    }
   ],
   "source": [
    "#accessing dictionary value\n",
    "astronaut.values()"
   ]
  },
  {
   "cell_type": "code",
   "execution_count": 42,
   "id": "519b45d8",
   "metadata": {},
   "outputs": [
    {
     "name": "stdout",
     "output_type": "stream",
     "text": [
      "Elon Musk\n",
      "Medium\n",
      "peanuts\n"
     ]
    }
   ],
   "source": [
    "# loop through values in a dictionary\n",
    "for value in astronaut.values():\n",
    "    print(value)"
   ]
  },
  {
   "cell_type": "code",
   "execution_count": 43,
   "id": "84fc2cfa",
   "metadata": {},
   "outputs": [
    {
     "data": {
      "text/plain": [
       "dict_items([('name', 'Elon Musk'), ('suitsize', 'Medium'), ('allergy', 'peanuts')])"
      ]
     },
     "execution_count": 43,
     "metadata": {},
     "output_type": "execute_result"
    }
   ],
   "source": [
    "astronaut.items()"
   ]
  },
  {
   "cell_type": "code",
   "execution_count": 44,
   "id": "3d9a0bbe",
   "metadata": {},
   "outputs": [
    {
     "name": "stdout",
     "output_type": "stream",
     "text": [
      "name\n",
      "Elon Musk\n",
      "suitsize\n",
      "Medium\n",
      "allergy\n",
      "peanuts\n"
     ]
    }
   ],
   "source": [
    "# loop through keys in a dictionary\n",
    "for key , value in astronaut.items():\n",
    "    print(key)\n",
    "    print(value)"
   ]
  },
  {
   "cell_type": "code",
   "execution_count": 56,
   "id": "ca351ddc",
   "metadata": {},
   "outputs": [],
   "source": [
    "# list comprehension\n",
    "new_list = [ name.title() for name in names]"
   ]
  },
  {
   "cell_type": "code",
   "execution_count": 57,
   "id": "772342c4",
   "metadata": {},
   "outputs": [
    {
     "data": {
      "text/plain": [
       "['Neil Armstrong', 'Buzz Aldrin', 'Sally Ride', 'Yuri Gagarin', 'Elon Musk']"
      ]
     },
     "execution_count": 57,
     "metadata": {},
     "output_type": "execute_result"
    }
   ],
   "source": [
    "new_list"
   ]
  },
  {
   "cell_type": "code",
   "execution_count": 58,
   "id": "10f5d9f7",
   "metadata": {},
   "outputs": [
    {
     "data": {
      "text/plain": [
       "['Neil Armstrong', 'Buzz Aldrin', 'Sally Ride', 'Yuri Gagarin', 'Elon Musk']"
      ]
     },
     "execution_count": 58,
     "metadata": {},
     "output_type": "execute_result"
    }
   ],
   "source": [
    "names"
   ]
  },
  {
   "cell_type": "code",
   "execution_count": null,
   "id": "aa0eb8e2",
   "metadata": {},
   "outputs": [],
   "source": []
  }
 ],
 "metadata": {
  "kernelspec": {
   "display_name": "Python 3",
   "language": "python",
   "name": "python3"
  },
  "language_info": {
   "codemirror_mode": {
    "name": "ipython",
    "version": 3
   },
   "file_extension": ".py",
   "mimetype": "text/x-python",
   "name": "python",
   "nbconvert_exporter": "python",
   "pygments_lexer": "ipython3",
   "version": "3.8.8"
  }
 },
 "nbformat": 4,
 "nbformat_minor": 5
}
