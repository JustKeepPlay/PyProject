{
 "cells": [
  {
   "cell_type": "markdown",
   "metadata": {},
   "source": [
    "# 6. Functions"
   ]
  },
  {
   "cell_type": "code",
   "execution_count": 13,
   "metadata": {},
   "outputs": [],
   "source": [
    "def launchpad_welcome ():\n",
    "    print(\"hello\")\n",
    "    print(1+2)\n",
    "    print(3*4)"
   ]
  },
  {
   "cell_type": "code",
   "execution_count": 14,
   "metadata": {},
   "outputs": [
    {
     "name": "stdout",
     "output_type": "stream",
     "text": [
      "hello\n",
      "3\n",
      "12\n"
     ]
    }
   ],
   "source": [
    "# running out function\n",
    "launchpad_welcome()"
   ]
  },
  {
   "cell_type": "code",
   "execution_count": null,
   "metadata": {},
   "outputs": [],
   "source": [
    "for i in range (10):\n",
    "    launchpad_welcome()"
   ]
  },
  {
   "cell_type": "code",
   "execution_count": 16,
   "metadata": {},
   "outputs": [],
   "source": [
    "names=['neil armstrong','buzz aldrin','sally ride','yuri gagarin','elon musk']"
   ]
  },
  {
   "cell_type": "code",
   "execution_count": 17,
   "metadata": {},
   "outputs": [],
   "source": [
    "def custom_welcome(name):\n",
    "    print('welcome {}'.format(name))\n"
   ]
  },
  {
   "cell_type": "code",
   "execution_count": 12,
   "metadata": {},
   "outputs": [
    {
     "name": "stdout",
     "output_type": "stream",
     "text": [
      "welcome Beck Parin\n"
     ]
    }
   ],
   "source": [
    "# string formmatting\n",
    "print('welcome {} {}'.format('Beck','Parin'))"
   ]
  },
  {
   "cell_type": "code",
   "execution_count": 11,
   "metadata": {},
   "outputs": [
    {
     "name": "stdout",
     "output_type": "stream",
     "text": [
      "welcome Beck Parin\n"
     ]
    }
   ],
   "source": [
    "custom_welcome('Beck Parin')"
   ]
  },
  {
   "cell_type": "code",
   "execution_count": 18,
   "metadata": {},
   "outputs": [
    {
     "name": "stdout",
     "output_type": "stream",
     "text": [
      "welcome neil armstrong\n",
      "welcome buzz aldrin\n",
      "welcome sally ride\n",
      "welcome yuri gagarin\n",
      "welcome elon musk\n"
     ]
    }
   ],
   "source": [
    "for name in names:\n",
    "    custom_welcome(name)"
   ]
  },
  {
   "cell_type": "code",
   "execution_count": 21,
   "metadata": {},
   "outputs": [],
   "source": [
    "space_ship=['Galactic 1','Falcon 9','Discovery','Atlantis','Challenger']"
   ]
  },
  {
   "cell_type": "code",
   "execution_count": 19,
   "metadata": {},
   "outputs": [],
   "source": [
    "# multiple position arguments\n",
    "def custom_welcome_to_ship(name,space_ship):\n",
    "    print('welcome {} to the {}'.format(name,space_ship))"
   ]
  },
  {
   "cell_type": "code",
   "execution_count": 31,
   "metadata": {},
   "outputs": [
    {
     "name": "stdout",
     "output_type": "stream",
     "text": [
      "welcome neil armstrong to the Galactic 1\n",
      "welcome buzz aldrin to the Falcon 9\n",
      "welcome sally ride to the Discovery\n",
      "welcome yuri gagarin to the Atlantis\n",
      "welcome elon musk to the Challenger\n"
     ]
    }
   ],
   "source": [
    "# used the enumerate function to get positional index and the name\n",
    "for idx, name in enumerate(names):\n",
    "    ship=space_ship[idx]\n",
    "    custom_welcome_to_ship(name,ship)"
   ]
  },
  {
   "cell_type": "code",
   "execution_count": 32,
   "metadata": {},
   "outputs": [],
   "source": [
    "# using keyword arguments\n",
    "def space_suit_color(color='Blue'):\n",
    "    print('Your space suit is {}'.format(color))\n"
   ]
  },
  {
   "cell_type": "code",
   "execution_count": 34,
   "metadata": {},
   "outputs": [
    {
     "name": "stdout",
     "output_type": "stream",
     "text": [
      "Your space suit is Red\n"
     ]
    }
   ],
   "source": [
    "space_suit_color(color='Red')"
   ]
  },
  {
   "cell_type": "code",
   "execution_count": 43,
   "metadata": {},
   "outputs": [],
   "source": [
    "def space_suit_welcome(name,space_ship,color='Blue',allergies='\\'None\\''):\n",
    "    print('Welcome {} to the {} , your space suit color is {}. You have {} allergies'.format(name,space_ship,color,allergies))\n"
   ]
  },
  {
   "cell_type": "code",
   "execution_count": 47,
   "metadata": {},
   "outputs": [
    {
     "name": "stdout",
     "output_type": "stream",
     "text": [
      "Welcome Beck to the Falcon 9 , your space suit color is green. You have peanuts allergies\n"
     ]
    }
   ],
   "source": [
    "# take a look at positional arguments and keyword arguments\n",
    "# positional arguments must fixed except keyword arguments can change its argument position \n",
    "space_suit_welcome('Beck','Falcon 9',allergies='peanuts',color='green')"
   ]
  },
  {
   "cell_type": "code",
   "execution_count": 6,
   "metadata": {},
   "outputs": [],
   "source": [
    "def space_suit_welcome_with_return(name,space_ship,color='Blue',allergies='\\'None\\''):\n",
    "    return 'Welcome {} to the {} , your space suit color is {}. You have {} allergies'.format(name,space_ship,color,allergies)\n"
   ]
  },
  {
   "cell_type": "code",
   "execution_count": 7,
   "metadata": {},
   "outputs": [],
   "source": [
    "welcomes = space_suit_welcome_with_return('Beck','Falcon 9')"
   ]
  },
  {
   "cell_type": "code",
   "execution_count": 8,
   "metadata": {},
   "outputs": [
    {
     "name": "stdout",
     "output_type": "stream",
     "text": [
      "Welcome Beck to the Falcon 9 , your space suit color is Blue. You have 'None' allergies\n"
     ]
    }
   ],
   "source": [
    "print(welcomes)"
   ]
  },
  {
   "cell_type": "code",
   "execution_count": 9,
   "metadata": {},
   "outputs": [],
   "source": [
    "# Lambda functions - anonymous functions\n",
    "pi = lambda x: x*3.14"
   ]
  },
  {
   "cell_type": "code",
   "execution_count": 12,
   "metadata": {},
   "outputs": [],
   "source": [
    "return_value = pi(2)"
   ]
  },
  {
   "cell_type": "code",
   "execution_count": 13,
   "metadata": {},
   "outputs": [
    {
     "name": "stdout",
     "output_type": "stream",
     "text": [
      "6.28\n"
     ]
    }
   ],
   "source": [
    "print(return_value)"
   ]
  },
  {
   "cell_type": "code",
   "execution_count": null,
   "metadata": {},
   "outputs": [],
   "source": []
  }
 ],
 "metadata": {
  "interpreter": {
   "hash": "4ce0e62306dd6a5716965d4519ada776f947e6dfc145b604b11307c10277ef29"
  },
  "kernelspec": {
   "display_name": "Python 3.8.3 32-bit",
   "language": "python",
   "name": "python3"
  },
  "language_info": {
   "codemirror_mode": {
    "name": "ipython",
    "version": 3
   },
   "file_extension": ".py",
   "mimetype": "text/x-python",
   "name": "python",
   "nbconvert_exporter": "python",
   "pygments_lexer": "ipython3",
   "version": "3.8.3"
  },
  "orig_nbformat": 4
 },
 "nbformat": 4,
 "nbformat_minor": 2
}
