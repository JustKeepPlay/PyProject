{
 "cells": [
  {
   "cell_type": "markdown",
   "id": "7152ec96",
   "metadata": {},
   "source": [
    "You are given two strings word1 and word2. Merge the strings by adding letters in alternating order, starting with word1. If a string is longer than the other, append the additional letters onto the end of the merged string.\n",
    "\n",
    "Return the merged string."
   ]
  },
  {
   "cell_type": "markdown",
   "id": "5b7d5f96",
   "metadata": {},
   "source": [
    "Example 1:\n",
    "\n",
    "Input: word1 = \"abc\", word2 = \"pqr\"\n",
    "Output: \"apbqcr\"\n",
    "\n",
    "Explanation: The merged string will be merged as so:\n",
    "\n",
    "word1:  a   b   c\n",
    "\n",
    "word2:    p   q   r\n",
    "\n",
    "merged: a p b q c r\n",
    "\n",
    "\n",
    "Example 2:\n",
    "\n",
    "Input: word1 = \"ab\", word2 = \"pqrs\"\n",
    "Output: \"apbqrs\"\n",
    "\n",
    "Explanation: Notice that as word2 is longer, \"rs\" is appended to the end.\n",
    "\n",
    "word1:  a   b \n",
    "\n",
    "word2:    p   q   r   s\n",
    "\n",
    "merged: a p b q   r   s\n",
    "\n",
    "\n",
    "Example 3:\n",
    "\n",
    "Input: word1 = \"abcd\", word2 = \"pq\"\n",
    "Output: \"apbqcd\"\n",
    "\n",
    "Explanation: Notice that as word1 is longer, \"cd\" is appended to the end.\n",
    "\n",
    "word1:  a   b   c   d\n",
    "\n",
    "word2:    p   q \n",
    "\n",
    "merged: a p b q c   d"
   ]
  },
  {
   "cell_type": "code",
   "execution_count": 6,
   "id": "997b719a",
   "metadata": {},
   "outputs": [
    {
     "name": "stdout",
     "output_type": "stream",
     "text": [
      "a p b q c r\n"
     ]
    }
   ],
   "source": [
    "\n",
    "def MergeString (word1 , word2 ):\n",
    "    newWord = []\n",
    "    i = 0 \n",
    "    while i < len(word1) or i < len(word2):\n",
    "        if i < len(word1):\n",
    "            newWord.append(word1[i])\n",
    "        if i < len(word2):\n",
    "            newWord.append(word2[i])\n",
    "    \n",
    "        i+=1\n",
    "\n",
    "    return print(' '.join(newWord))\n",
    "\n",
    "a = \"abc\"\n",
    "b = \"pqr\"\n",
    "MergeString(a,b)"
   ]
  },
  {
   "cell_type": "code",
   "execution_count": null,
   "id": "374ee4be",
   "metadata": {},
   "outputs": [],
   "source": []
  }
 ],
 "metadata": {
  "kernelspec": {
   "display_name": "Python 3 (ipykernel)",
   "language": "python",
   "name": "python3"
  },
  "language_info": {
   "codemirror_mode": {
    "name": "ipython",
    "version": 3
   },
   "file_extension": ".py",
   "mimetype": "text/x-python",
   "name": "python",
   "nbconvert_exporter": "python",
   "pygments_lexer": "ipython3",
   "version": "3.8.3"
  }
 },
 "nbformat": 4,
 "nbformat_minor": 5
}
