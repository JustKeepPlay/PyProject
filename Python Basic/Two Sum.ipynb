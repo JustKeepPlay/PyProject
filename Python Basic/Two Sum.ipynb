{
 "cells": [
  {
   "cell_type": "markdown",
   "id": "8b1fafc4",
   "metadata": {},
   "source": [
    "1. Two Sum\n",
    "\n",
    "Given an array of integers nums and an integer target, return indices of the two numbers such that they add up to target.\n",
    "\n",
    "You may assume that each input would have exactly one solution, and you may not use the same element twice.\n",
    "\n",
    "You can return the answer in any order.\n",
    "\n",
    " "
   ]
  },
  {
   "cell_type": "markdown",
   "id": "4ce6ed0a",
   "metadata": {},
   "source": [
    "Example 1:"
   ]
  },
  {
   "cell_type": "markdown",
   "id": "e38ce78f",
   "metadata": {},
   "source": [
    "Input: nums = [2,7,11,15], target = 9\n",
    "Output: [0,1]\n"
   ]
  },
  {
   "cell_type": "markdown",
   "id": "3b52739a",
   "metadata": {},
   "source": [
    "Explanation: Because nums[0] + nums[1] == 9, we return [0, 1]."
   ]
  },
  {
   "cell_type": "markdown",
   "id": "c9f06c8b",
   "metadata": {},
   "source": [
    "Example 2:\n",
    "\n"
   ]
  },
  {
   "cell_type": "markdown",
   "id": "3f8a8b71",
   "metadata": {},
   "source": [
    "Input: nums = [3,2,4], target = 6\n",
    "Output: [1,2]"
   ]
  },
  {
   "cell_type": "markdown",
   "id": "fcb48e6a",
   "metadata": {},
   "source": [
    "Example 3:"
   ]
  },
  {
   "cell_type": "markdown",
   "id": "27f8b7d6",
   "metadata": {},
   "source": [
    "Input: nums = [3,3], target = 6\n",
    "Output: [0,1]"
   ]
  },
  {
   "cell_type": "markdown",
   "id": "dd4ec4d1",
   "metadata": {},
   "source": [
    "==============================================================================================="
   ]
  },
  {
   "cell_type": "code",
   "execution_count": 4,
   "id": "80c451ed",
   "metadata": {},
   "outputs": [
    {
     "name": "stdout",
     "output_type": "stream",
     "text": [
      "[2, 7]\n"
     ]
    }
   ],
   "source": [
    "def TwoSum (nums , target):\n",
    "    for i in range(len(nums)):\n",
    "        for j in range(len(nums)):\n",
    "            if i != j and nums[i]+nums[j] == target :\n",
    "                return print([nums[i],nums[j]])\n",
    "\n",
    "    \n",
    "nums = [2,7,11,15]\n",
    "target = 9\n",
    "TwoSum(nums,target)"
   ]
  },
  {
   "cell_type": "code",
   "execution_count": null,
   "id": "b1142bee",
   "metadata": {},
   "outputs": [],
   "source": []
  }
 ],
 "metadata": {
  "kernelspec": {
   "display_name": "Python 3 (ipykernel)",
   "language": "python",
   "name": "python3"
  },
  "language_info": {
   "codemirror_mode": {
    "name": "ipython",
    "version": 3
   },
   "file_extension": ".py",
   "mimetype": "text/x-python",
   "name": "python",
   "nbconvert_exporter": "python",
   "pygments_lexer": "ipython3",
   "version": "3.8.3"
  }
 },
 "nbformat": 4,
 "nbformat_minor": 5
}
