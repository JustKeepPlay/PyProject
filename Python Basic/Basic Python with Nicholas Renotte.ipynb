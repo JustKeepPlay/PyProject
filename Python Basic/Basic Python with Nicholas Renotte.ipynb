{
 "cells": [
  {
   "cell_type": "markdown",
   "id": "371f3344",
   "metadata": {},
   "source": [
    "# 0. Variable"
   ]
  },
  {
   "cell_type": "code",
   "execution_count": 1,
   "id": "29f0083d",
   "metadata": {},
   "outputs": [],
   "source": [
    "Apple =12345"
   ]
  },
  {
   "cell_type": "code",
   "execution_count": 2,
   "id": "4afa5f82",
   "metadata": {},
   "outputs": [
    {
     "name": "stdout",
     "output_type": "stream",
     "text": [
      "12345\n"
     ]
    }
   ],
   "source": [
    "print(Apple)"
   ]
  },
  {
   "cell_type": "code",
   "execution_count": 3,
   "id": "690e31d9",
   "metadata": {},
   "outputs": [
    {
     "data": {
      "text/plain": [
       "int"
      ]
     },
     "execution_count": 3,
     "metadata": {},
     "output_type": "execute_result"
    }
   ],
   "source": [
    "type(Apple)"
   ]
  },
  {
   "cell_type": "markdown",
   "id": "cd88d1f8",
   "metadata": {},
   "source": [
    "# 1.Data Types"
   ]
  },
  {
   "cell_type": "code",
   "execution_count": 6,
   "id": "473f5955",
   "metadata": {},
   "outputs": [
    {
     "name": "stdout",
     "output_type": "stream",
     "text": [
      "Earth\n"
     ]
    }
   ],
   "source": [
    "# this is declaring a variable as a STRING\n",
    "string_variable = \"Earth\"\n",
    "\n",
    "print(string_variable)"
   ]
  },
  {
   "cell_type": "code",
   "execution_count": 7,
   "id": "d137886d",
   "metadata": {},
   "outputs": [
    {
     "data": {
      "text/plain": [
       "str"
      ]
     },
     "execution_count": 7,
     "metadata": {},
     "output_type": "execute_result"
    }
   ],
   "source": [
    "type(string_variable)"
   ]
  },
  {
   "cell_type": "code",
   "execution_count": 8,
   "id": "df6f007e",
   "metadata": {},
   "outputs": [
    {
     "data": {
      "text/plain": [
       "int"
      ]
     },
     "execution_count": 8,
     "metadata": {},
     "output_type": "execute_result"
    }
   ],
   "source": [
    "#this is declaring a variable as an Integer\n",
    "integer_variable = 123456\n",
    "type(integer_variable)"
   ]
  },
  {
   "cell_type": "code",
   "execution_count": 9,
   "id": "c70c8c57",
   "metadata": {},
   "outputs": [
    {
     "data": {
      "text/plain": [
       "123466"
      ]
     },
     "execution_count": 9,
     "metadata": {},
     "output_type": "execute_result"
    }
   ],
   "source": [
    "integer_variable+10"
   ]
  },
  {
   "cell_type": "code",
   "execution_count": 10,
   "id": "e302f95a",
   "metadata": {},
   "outputs": [
    {
     "data": {
      "text/plain": [
       "float"
      ]
     },
     "execution_count": 10,
     "metadata": {},
     "output_type": "execute_result"
    }
   ],
   "source": [
    "# this is declaring a variable as a Float\n",
    "float_variable =123.456\n",
    "type(float_variable)"
   ]
  },
  {
   "cell_type": "code",
   "execution_count": 14,
   "id": "a02d166f",
   "metadata": {
    "scrolled": true
   },
   "outputs": [
    {
     "data": {
      "text/plain": [
       "bool"
      ]
     },
     "execution_count": 14,
     "metadata": {},
     "output_type": "execute_result"
    }
   ],
   "source": [
    "# this is declaring a Boolean value to a variable\n",
    "bool_variable = bool(1)\n",
    "type(bool_variable)"
   ]
  },
  {
   "cell_type": "code",
   "execution_count": 15,
   "id": "4dc0f21a",
   "metadata": {},
   "outputs": [
    {
     "data": {
      "text/plain": [
       "True"
      ]
     },
     "execution_count": 15,
     "metadata": {},
     "output_type": "execute_result"
    }
   ],
   "source": [
    "bool_variable"
   ]
  },
  {
   "cell_type": "code",
   "execution_count": 16,
   "id": "4f700540",
   "metadata": {},
   "outputs": [
    {
     "data": {
      "text/plain": [
       "list"
      ]
     },
     "execution_count": 16,
     "metadata": {},
     "output_type": "execute_result"
    }
   ],
   "source": [
    "#this is declaring a list variable , CHANGABLE variable\n",
    "list_variable =[1,2,3,78.23,560.45,99.99]\n",
    "type(list_variable)"
   ]
  },
  {
   "cell_type": "code",
   "execution_count": 22,
   "id": "f2aef010",
   "metadata": {},
   "outputs": [],
   "source": [
    "list_variable[5]=123"
   ]
  },
  {
   "cell_type": "code",
   "execution_count": 23,
   "id": "309d92df",
   "metadata": {},
   "outputs": [
    {
     "data": {
      "text/plain": [
       "[1, 2, 3, 78.23, 560.45, 123]"
      ]
     },
     "execution_count": 23,
     "metadata": {},
     "output_type": "execute_result"
    }
   ],
   "source": [
    "list_variable"
   ]
  },
  {
   "cell_type": "code",
   "execution_count": 18,
   "id": "0fd6cbee",
   "metadata": {},
   "outputs": [
    {
     "data": {
      "text/plain": [
       "tuple"
      ]
     },
     "execution_count": 18,
     "metadata": {},
     "output_type": "execute_result"
    }
   ],
   "source": [
    "# create a Tuples variable , IMMUTABLE can't change the value\n",
    "tuple_variable =(1, 2, 3, 78.23, 560.45, 99.99)\n",
    "type(tuple_variable)"
   ]
  },
  {
   "cell_type": "code",
   "execution_count": 29,
   "id": "00d388c3",
   "metadata": {},
   "outputs": [
    {
     "data": {
      "text/plain": [
       "set"
      ]
     },
     "execution_count": 29,
     "metadata": {},
     "output_type": "execute_result"
    }
   ],
   "source": [
    "#this is creating  SET variable , IMMUTABLE can't change the value , NO Duplicate Value\n",
    "set_variable = {1, 2, 3, 78.23, 560.45, 99.99,1, 2, 3, 78.23, 560.45, 99.99}\n",
    "type(set_variable)"
   ]
  },
  {
   "cell_type": "code",
   "execution_count": 38,
   "id": "fe608c18",
   "metadata": {},
   "outputs": [
    {
     "name": "stdout",
     "output_type": "stream",
     "text": [
      "[1, 2, 3, 78.23, 560.45, 99.99, 1, 2, 3, 78.23, 560.45, 99.99]\n",
      "{1, 2, 3, 99.99, 78.23, 560.45}\n",
      "<class 'list'>\n"
     ]
    }
   ],
   "source": [
    "#type casting list to set  and back to list to get rid of duplication\n",
    "list_variable =[1, 2, 3, 78.23, 560.45, 99.99,1, 2, 3, 78.23, 560.45, 99.99]\n",
    "print(list_variable)\n",
    "print(set(list_variable))\n",
    "print(type(list(set(list_variable))))"
   ]
  },
  {
   "cell_type": "code",
   "execution_count": 40,
   "id": "e6695268",
   "metadata": {},
   "outputs": [
    {
     "data": {
      "text/plain": [
       "dict"
      ]
     },
     "execution_count": 40,
     "metadata": {},
     "output_type": "execute_result"
    }
   ],
   "source": [
    "# Defining a dictionary variable\n",
    "dict_variable ={'name' : 'Parinyawat','favorite_color':'blue','favorite_number':'7'}\n",
    "type(dict_variable)"
   ]
  },
  {
   "cell_type": "code",
   "execution_count": 41,
   "id": "10b68d00",
   "metadata": {},
   "outputs": [
    {
     "name": "stdout",
     "output_type": "stream",
     "text": [
      "{'name': 'Parinyawat', 'favorite_color': 'blue', 'favorite_number': '7'}\n"
     ]
    }
   ],
   "source": [
    "print(dict_variable)"
   ]
  },
  {
   "cell_type": "code",
   "execution_count": 44,
   "id": "2db8aea1",
   "metadata": {},
   "outputs": [
    {
     "data": {
      "text/plain": [
       "'blue'"
      ]
     },
     "execution_count": 44,
     "metadata": {},
     "output_type": "execute_result"
    }
   ],
   "source": [
    "dict_variable['favorite_color']"
   ]
  },
  {
   "cell_type": "markdown",
   "id": "0f61eead",
   "metadata": {},
   "source": [
    "# 2. Lists"
   ]
  },
  {
   "cell_type": "code",
   "execution_count": 49,
   "id": "4766906a",
   "metadata": {},
   "outputs": [],
   "source": [
    "#use CRUD functions"
   ]
  },
  {
   "cell_type": "code",
   "execution_count": 51,
   "id": "b532c3f0",
   "metadata": {},
   "outputs": [],
   "source": [
    "#creat\n",
    "names=['neil armstrong','buzz aldrin','sally ride','yuri gagarin','elon musk']"
   ]
  },
  {
   "cell_type": "code",
   "execution_count": 52,
   "id": "967b3c04",
   "metadata": {},
   "outputs": [
    {
     "data": {
      "text/plain": [
       "['neil armstrong', 'buzz aldrin', 'sally ride', 'yuri gagarin', 'elon musk']"
      ]
     },
     "execution_count": 52,
     "metadata": {},
     "output_type": "execute_result"
    }
   ],
   "source": [
    "#read\n",
    "names"
   ]
  },
  {
   "cell_type": "code",
   "execution_count": 55,
   "id": "9ed34ced",
   "metadata": {},
   "outputs": [
    {
     "data": {
      "text/plain": [
       "'elon musk'"
      ]
     },
     "execution_count": 55,
     "metadata": {},
     "output_type": "execute_result"
    }
   ],
   "source": [
    "names[-1]"
   ]
  },
  {
   "cell_type": "code",
   "execution_count": 56,
   "id": "069ba6cd",
   "metadata": {},
   "outputs": [
    {
     "data": {
      "text/plain": [
       "5"
      ]
     },
     "execution_count": 56,
     "metadata": {},
     "output_type": "execute_result"
    }
   ],
   "source": [
    "len(names)"
   ]
  },
  {
   "cell_type": "code",
   "execution_count": 48,
   "id": "b30a406a",
   "metadata": {},
   "outputs": [],
   "source": [
    "#update"
   ]
  },
  {
   "cell_type": "code",
   "execution_count": 57,
   "id": "78f536fa",
   "metadata": {},
   "outputs": [
    {
     "data": {
      "text/plain": [
       "['neil armstrong', 'buzz aldrin', 'sally ride', 'yuri gagarin', 'Parinyawat']"
      ]
     },
     "execution_count": 57,
     "metadata": {},
     "output_type": "execute_result"
    }
   ],
   "source": [
    "names[-1]='Parinyawat'\n",
    "names"
   ]
  },
  {
   "cell_type": "code",
   "execution_count": 58,
   "id": "d9f5ed89",
   "metadata": {},
   "outputs": [],
   "source": [
    "names.append('Elon musk')"
   ]
  },
  {
   "cell_type": "code",
   "execution_count": 59,
   "id": "54e892a2",
   "metadata": {},
   "outputs": [
    {
     "data": {
      "text/plain": [
       "['neil armstrong',\n",
       " 'buzz aldrin',\n",
       " 'sally ride',\n",
       " 'yuri gagarin',\n",
       " 'Parinyawat',\n",
       " 'Elon musk']"
      ]
     },
     "execution_count": 59,
     "metadata": {},
     "output_type": "execute_result"
    }
   ],
   "source": [
    "names"
   ]
  },
  {
   "cell_type": "code",
   "execution_count": 61,
   "id": "fa2bbb22",
   "metadata": {},
   "outputs": [],
   "source": [
    "names.insert(0,'Saenthaweesuk')"
   ]
  },
  {
   "cell_type": "code",
   "execution_count": 62,
   "id": "ff1194dc",
   "metadata": {},
   "outputs": [
    {
     "data": {
      "text/plain": [
       "['Saenthaweesuk',\n",
       " 'neil armstrong',\n",
       " 'buzz aldrin',\n",
       " 'sally ride',\n",
       " 'yuri gagarin',\n",
       " 'Parinyawat',\n",
       " 'Elon musk']"
      ]
     },
     "execution_count": 62,
     "metadata": {},
     "output_type": "execute_result"
    }
   ],
   "source": [
    "names"
   ]
  },
  {
   "cell_type": "code",
   "execution_count": null,
   "id": "0b96a442",
   "metadata": {},
   "outputs": [],
   "source": [
    "#delete"
   ]
  },
  {
   "cell_type": "code",
   "execution_count": 63,
   "id": "7ab2f89c",
   "metadata": {},
   "outputs": [
    {
     "data": {
      "text/plain": [
       "'Parinyawat'"
      ]
     },
     "execution_count": 63,
     "metadata": {},
     "output_type": "execute_result"
    }
   ],
   "source": [
    "names[-2]"
   ]
  },
  {
   "cell_type": "code",
   "execution_count": 64,
   "id": "4dd3f640",
   "metadata": {},
   "outputs": [],
   "source": [
    "del names[-2]"
   ]
  },
  {
   "cell_type": "code",
   "execution_count": 65,
   "id": "f0cc8af0",
   "metadata": {},
   "outputs": [
    {
     "data": {
      "text/plain": [
       "['Saenthaweesuk',\n",
       " 'neil armstrong',\n",
       " 'buzz aldrin',\n",
       " 'sally ride',\n",
       " 'yuri gagarin',\n",
       " 'Elon musk']"
      ]
     },
     "execution_count": 65,
     "metadata": {},
     "output_type": "execute_result"
    }
   ],
   "source": [
    "names"
   ]
  },
  {
   "cell_type": "markdown",
   "id": "30538b5e",
   "metadata": {},
   "source": [
    "# 3. Dictionaries"
   ]
  },
  {
   "cell_type": "code",
   "execution_count": 66,
   "id": "956b7072",
   "metadata": {},
   "outputs": [],
   "source": [
    "#create"
   ]
  },
  {
   "cell_type": "code",
   "execution_count": 71,
   "id": "7c86736a",
   "metadata": {},
   "outputs": [],
   "source": [
    "astronauts={\n",
    "    'name':'Elon Muask',\n",
    "    'suit_size':'Large',\n",
    "    'allergies':'peanut butter'\n",
    "}"
   ]
  },
  {
   "cell_type": "code",
   "execution_count": 67,
   "id": "4690688a",
   "metadata": {},
   "outputs": [],
   "source": [
    "#read"
   ]
  },
  {
   "cell_type": "code",
   "execution_count": 72,
   "id": "d180ae4d",
   "metadata": {},
   "outputs": [
    {
     "data": {
      "text/plain": [
       "{'name': 'Elon Muask', 'suit_size': 'Large', 'allergies': 'peanut butter'}"
      ]
     },
     "execution_count": 72,
     "metadata": {},
     "output_type": "execute_result"
    }
   ],
   "source": [
    "astronauts"
   ]
  },
  {
   "cell_type": "code",
   "execution_count": 73,
   "id": "68d070ee",
   "metadata": {},
   "outputs": [
    {
     "data": {
      "text/plain": [
       "'Large'"
      ]
     },
     "execution_count": 73,
     "metadata": {},
     "output_type": "execute_result"
    }
   ],
   "source": [
    "astronauts['suit_size']"
   ]
  },
  {
   "cell_type": "code",
   "execution_count": 74,
   "id": "c7c370dd",
   "metadata": {},
   "outputs": [
    {
     "data": {
      "text/plain": [
       "dict_keys(['name', 'suit_size', 'allergies'])"
      ]
     },
     "execution_count": 74,
     "metadata": {},
     "output_type": "execute_result"
    }
   ],
   "source": [
    "astronauts.keys()"
   ]
  },
  {
   "cell_type": "code",
   "execution_count": 75,
   "id": "4f68c906",
   "metadata": {},
   "outputs": [
    {
     "data": {
      "text/plain": [
       "dict_values(['Elon Muask', 'Large', 'peanut butter'])"
      ]
     },
     "execution_count": 75,
     "metadata": {},
     "output_type": "execute_result"
    }
   ],
   "source": [
    "astronauts.values()"
   ]
  },
  {
   "cell_type": "code",
   "execution_count": 68,
   "id": "d44a609d",
   "metadata": {},
   "outputs": [],
   "source": [
    "#update"
   ]
  },
  {
   "cell_type": "code",
   "execution_count": 76,
   "id": "a8843f20",
   "metadata": {},
   "outputs": [],
   "source": [
    "astronauts['allergies']='mango'"
   ]
  },
  {
   "cell_type": "code",
   "execution_count": 77,
   "id": "0fe1a036",
   "metadata": {},
   "outputs": [
    {
     "data": {
      "text/plain": [
       "{'name': 'Elon Muask', 'suit_size': 'Large', 'allergies': 'mango'}"
      ]
     },
     "execution_count": 77,
     "metadata": {},
     "output_type": "execute_result"
    }
   ],
   "source": [
    "astronauts"
   ]
  },
  {
   "cell_type": "code",
   "execution_count": 78,
   "id": "bc2f5a32",
   "metadata": {},
   "outputs": [],
   "source": [
    "astronauts['space_ship']='Galactic 1'"
   ]
  },
  {
   "cell_type": "code",
   "execution_count": 79,
   "id": "b89db762",
   "metadata": {},
   "outputs": [
    {
     "data": {
      "text/plain": [
       "{'name': 'Elon Muask',\n",
       " 'suit_size': 'Large',\n",
       " 'allergies': 'mango',\n",
       " 'space_ship': 'Galactic 1'}"
      ]
     },
     "execution_count": 79,
     "metadata": {},
     "output_type": "execute_result"
    }
   ],
   "source": [
    "astronauts"
   ]
  },
  {
   "cell_type": "code",
   "execution_count": null,
   "id": "36503142",
   "metadata": {},
   "outputs": [],
   "source": [
    "#delete"
   ]
  },
  {
   "cell_type": "code",
   "execution_count": 80,
   "id": "33069956",
   "metadata": {},
   "outputs": [],
   "source": [
    "del astronauts['space_ship']"
   ]
  },
  {
   "cell_type": "code",
   "execution_count": 81,
   "id": "2b63be04",
   "metadata": {},
   "outputs": [
    {
     "data": {
      "text/plain": [
       "{'name': 'Elon Muask', 'suit_size': 'Large', 'allergies': 'mango'}"
      ]
     },
     "execution_count": 81,
     "metadata": {},
     "output_type": "execute_result"
    }
   ],
   "source": [
    "astronauts"
   ]
  },
  {
   "cell_type": "code",
   "execution_count": null,
   "id": "dc37c833",
   "metadata": {},
   "outputs": [],
   "source": []
  }
 ],
 "metadata": {
  "kernelspec": {
   "display_name": "Python 3",
   "language": "python",
   "name": "python3"
  },
  "language_info": {
   "codemirror_mode": {
    "name": "ipython",
    "version": 3
   },
   "file_extension": ".py",
   "mimetype": "text/x-python",
   "name": "python",
   "nbconvert_exporter": "python",
   "pygments_lexer": "ipython3",
   "version": "3.8.8"
  }
 },
 "nbformat": 4,
 "nbformat_minor": 5
}
